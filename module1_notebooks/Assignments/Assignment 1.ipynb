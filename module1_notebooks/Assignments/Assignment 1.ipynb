{
 "cells": [
  {
   "cell_type": "markdown",
   "metadata": {},
   "source": [
    "## Assignment 1"
   ]
  },
  {
   "cell_type": "code",
   "execution_count": 1,
   "metadata": {},
   "outputs": [
    {
     "name": "stdout",
     "output_type": "stream",
     "text": [
      "Welcome to Currency Converter\n",
      "Choose a base currency among our supported currencies:\n",
      "code 1: base EUR\n",
      "code 2: base USD\n",
      "code 3: base GBP\n",
      "code 4: base BRL\n",
      "Choose a target currency among our supported currencies:\n",
      "code 1: target EUR\n",
      "code 2: target USD\n",
      "code 3: target GBP\n",
      "code 4: target BRL\n",
      "10.0 EUR is 8.67862 GBP\n"
     ]
    }
   ],
   "source": [
    "import requests\n",
    "\n",
    "\n",
    "SUPPORTED_CURRENCIES = {\n",
    "    \"EUR\": \"European euro\",\n",
    "    \"USD\": \"US dollar\",\n",
    "    \"GBP\": \"Pound sterling\",\n",
    "    \"BRL\": \"Brazilian real\"\n",
    "}\n",
    "\n",
    "\n",
    "CURRENCY_CODES = {\n",
    "    1: \"EUR\",\n",
    "    2: \"USD\",\n",
    "    3: \"GBP\",\n",
    "    4: \"BRL\"\n",
    "}\n",
    "\n",
    "\n",
    "def get_exchange_rate(base_currency, target_currency):\n",
    "    if not (base_currency in SUPPORTED_CURRENCIES.keys()):\n",
    "        raise ValueError(\"base currency {} not supported\".format(base_currency))\n",
    "    if not (target_currency in SUPPORTED_CURRENCIES.keys()):\n",
    "        raise ValueError(\"target currency {} not supported\".format(target_currency))\n",
    "\n",
    "    if base_currency == target_currency:\n",
    "        return 1\n",
    "\n",
    "    api_uri = \"http://data.fixer.io/api/latest?access_key=c66d69bc1b16d3ba2e47a4c0d0cef7c1&format=1&base={}&symbols={}\".format(base_currency, target_currency)\n",
    "    api_response = requests.get(api_uri)\n",
    "    return api_response.json()[\"rates\"][target_currency]\n",
    "\n",
    "\n",
    "if __name__ == '__main__':\n",
    "    print(\"Welcome to Currency Converter\")\n",
    "\n",
    "    amount = float(input(\"Enter the amount you wish to convert: \"))\n",
    "\n",
    "    print(\"Choose a base currency among our supported currencies:\")\n",
    "    while True:\n",
    "        for code, currency in CURRENCY_CODES.items():\n",
    "            print(\"code {}: base {}\".format(code, currency))\n",
    "        base_currency_code = int(input(\"Please digit the code: \"))\n",
    "        if base_currency_code in CURRENCY_CODES.keys():\n",
    "            break\n",
    "        else:\n",
    "            print(\"Invalid code\")\n",
    "    base_currency = CURRENCY_CODES[base_currency_code]\n",
    "\n",
    "    print(\"Choose a target currency among our supported currencies:\")\n",
    "    while True:\n",
    "        for code, currency in CURRENCY_CODES.items():\n",
    "            print(\"code {}: target {}\".format(code, currency))\n",
    "        target_currency_code = int(input(\"Please digit the code: \"))\n",
    "        if target_currency_code in CURRENCY_CODES.keys():\n",
    "            break\n",
    "        else:\n",
    "            print(\"Invalid code\")\n",
    "    target_currency = CURRENCY_CODES[target_currency_code]\n",
    "\n",
    "    exchange_rate = get_exchange_rate(base_currency, target_currency)\n",
    "\n",
    "    print(\"{} {} is {} {}\".format(amount, base_currency, amount * exchange_rate, target_currency))"
   ]
  },
  {
   "cell_type": "code",
   "execution_count": null,
   "metadata": {},
   "outputs": [],
   "source": []
  }
 ],
 "metadata": {
  "kernelspec": {
   "display_name": "Python 3",
   "language": "python",
   "name": "python3"
  },
  "language_info": {
   "codemirror_mode": {
    "name": "ipython",
    "version": 3
   },
   "file_extension": ".py",
   "mimetype": "text/x-python",
   "name": "python",
   "nbconvert_exporter": "python",
   "pygments_lexer": "ipython3",
   "version": "3.6.5"
  }
 },
 "nbformat": 4,
 "nbformat_minor": 2
}
