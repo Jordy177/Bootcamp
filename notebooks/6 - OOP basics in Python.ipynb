{
 "cells": [
  {
   "cell_type": "markdown",
   "metadata": {
    "slideshow": {
     "slide_type": "slide"
    }
   },
   "source": [
    "### Table of contents\n",
    "\n",
    "1. [Object Oriented Programming (OOP)](#Object-Oriented-Programming-(OOP))\n",
    "    * 1.1 [OOP in Python](#OOP-in-Python)\n",
    "    * 1.2 [What is an object?](#What-is-an-object?)\n",
    "        * 1.3.1 [Example](#Example)\n",
    "2. [Modules vs Classes](#Modules-VS-Classes)\n",
    "3. [Classes, instances, type, methods and attributes](#Classes,-instances,-type,-methods-and-attributes)\n",
    "4. [Instance methods and attributes](#Instance-methods-and-attributes)\n",
    "5. [Defining a class](#Defining-a-class)\n",
    "    * 5.1 [Instance methods](#Instance-methods)\n",
    "6. [Instance attributes (\"STATE\")](#Instance-attributes-(\"STATE\"))\n",
    "    * 6.1 [What is an object?](#2-What-is-an-object?)\n",
    "7. [OOP: Three pillars](#OOP:-Three-pillars)\n",
    "    * 7.1 [Abstraction and Encapsulation](#Abstraction and Encapsulation)\n",
    "        * 7.1.1 [Example 1](#Example-1:)\n",
    "        * 7.1.2 [Example 2](#Example-2:)\n",
    "        * 7.1.3 [Breaking encapsulation](#Breaking-encapsulation)\n",
    "        * 7.1.4 [Init Constructor](#Init-constructor)\n",
    "            * 7.1.4.1 [init constructor example](#init-constructor-example)\n",
    "            * 7.1.4.2 [Self parameter in python](#self-parameter-in-python)\n",
    "        * 7.1.5 [Class attributes vs instance attributes](#Class-attributes-vs-instance-attributes)\n",
    "            * 7.1.5.1 [Example 1](#Example-1:-Class-attributes-vs-instance-attributes)\n",
    "            * 7.1.5.2 [Example 2](#Example-2:-Class-attributes-vs-instance-attributes)\n",
    "        * 7.1.6 [Working with class and instance data](#Working-with-class-and-instance-data)\n",
    "        * 7.1.7 [Example](#Instance-Example)\n",
    "    * 7.2 [Inheritance](#Inheritance)\n",
    "        * 7.2.1 [Inheritance example 1](#Inheritance-example-1)\n",
    "    * 7.3 [Polymorphism](#Polymorphism)\n",
    "        * 7.3.1 [Example](#Polymorphism-example-I)\n",
    "        * 7.3.2 [Inheriting the constructor](#Inheriting-the-constructor)\n",
    "        * 7.3.3 [Multiple Inheritance](#Multiple-Inheritance)"
   ]
  },
  {
   "cell_type": "markdown",
   "metadata": {
    "slideshow": {
     "slide_type": "slide"
    }
   },
   "source": [
    "# Object Oriented Programming (OOP)"
   ]
  },
  {
   "cell_type": "markdown",
   "metadata": {
    "slideshow": {
     "slide_type": "slide"
    }
   },
   "source": [
    "### OOP in Python"
   ]
  },
  {
   "cell_type": "markdown",
   "metadata": {
    "slideshow": {
     "slide_type": "fragment"
    }
   },
   "source": [
    "* Everything is and object, even numbers\n",
    "* Other languages employ 'primitives' (non-object data)\n",
    "* All entities in Python follow the same rules of objects:\n",
    " * Every object (instance of a class) has a type (the class)\n",
    " * The object or class has attributes, some of wich are methods\n",
    "\n",
    "Python's uniform design makes it easier to use/extend"
   ]
  },
  {
   "cell_type": "markdown",
   "metadata": {
    "slideshow": {
     "slide_type": "slide"
    }
   },
   "source": [
    "### What is an object?"
   ]
  },
  {
   "cell_type": "markdown",
   "metadata": {
    "slideshow": {
     "slide_type": "fragment"
    }
   },
   "source": [
    "* An object is a unit of data (having one or more attributes), of a particular class or type, with associated functionality (methods)"
   ]
  },
  {
   "cell_type": "markdown",
   "metadata": {
    "slideshow": {
     "slide_type": "slide"
    }
   },
   "source": [
    "#### Example "
   ]
  },
  {
   "cell_type": "code",
   "execution_count": 1,
   "metadata": {
    "slideshow": {
     "slide_type": "fragment"
    }
   },
   "outputs": [],
   "source": [
    "var = 5"
   ]
  },
  {
   "cell_type": "code",
   "execution_count": 2,
   "metadata": {
    "slideshow": {
     "slide_type": "subslide"
    }
   },
   "outputs": [
    {
     "data": {
      "text/plain": [
       "['__abs__',\n",
       " '__add__',\n",
       " '__and__',\n",
       " '__bool__',\n",
       " '__ceil__',\n",
       " '__class__',\n",
       " '__delattr__',\n",
       " '__dir__',\n",
       " '__divmod__',\n",
       " '__doc__',\n",
       " '__eq__',\n",
       " '__float__',\n",
       " '__floor__',\n",
       " '__floordiv__',\n",
       " '__format__',\n",
       " '__ge__',\n",
       " '__getattribute__',\n",
       " '__getnewargs__',\n",
       " '__gt__',\n",
       " '__hash__',\n",
       " '__index__',\n",
       " '__init__',\n",
       " '__init_subclass__',\n",
       " '__int__',\n",
       " '__invert__',\n",
       " '__le__',\n",
       " '__lshift__',\n",
       " '__lt__',\n",
       " '__mod__',\n",
       " '__mul__',\n",
       " '__ne__',\n",
       " '__neg__',\n",
       " '__new__',\n",
       " '__or__',\n",
       " '__pos__',\n",
       " '__pow__',\n",
       " '__radd__',\n",
       " '__rand__',\n",
       " '__rdivmod__',\n",
       " '__reduce__',\n",
       " '__reduce_ex__',\n",
       " '__repr__',\n",
       " '__rfloordiv__',\n",
       " '__rlshift__',\n",
       " '__rmod__',\n",
       " '__rmul__',\n",
       " '__ror__',\n",
       " '__round__',\n",
       " '__rpow__',\n",
       " '__rrshift__',\n",
       " '__rshift__',\n",
       " '__rsub__',\n",
       " '__rtruediv__',\n",
       " '__rxor__',\n",
       " '__setattr__',\n",
       " '__sizeof__',\n",
       " '__str__',\n",
       " '__sub__',\n",
       " '__subclasshook__',\n",
       " '__truediv__',\n",
       " '__trunc__',\n",
       " '__xor__',\n",
       " 'bit_length',\n",
       " 'conjugate',\n",
       " 'denominator',\n",
       " 'from_bytes',\n",
       " 'imag',\n",
       " 'numerator',\n",
       " 'real',\n",
       " 'to_bytes']"
      ]
     },
     "execution_count": 2,
     "metadata": {},
     "output_type": "execute_result"
    }
   ],
   "source": [
    "dir(var)"
   ]
  },
  {
   "cell_type": "code",
   "execution_count": 4,
   "metadata": {
    "slideshow": {
     "slide_type": "subslide"
    }
   },
   "outputs": [
    {
     "data": {
      "text/plain": [
       "(5, 3)"
      ]
     },
     "execution_count": 4,
     "metadata": {},
     "output_type": "execute_result"
    }
   ],
   "source": [
    "var.real, var.bit_length()"
   ]
  },
  {
   "cell_type": "code",
   "execution_count": 5,
   "metadata": {
    "slideshow": {
     "slide_type": "fragment"
    }
   },
   "outputs": [],
   "source": [
    "class MyClass:\n",
    "    pass"
   ]
  },
  {
   "cell_type": "code",
   "execution_count": 6,
   "metadata": {
    "slideshow": {
     "slide_type": "fragment"
    }
   },
   "outputs": [
    {
     "data": {
      "text/plain": [
       "__main__.MyClass"
      ]
     },
     "execution_count": 6,
     "metadata": {},
     "output_type": "execute_result"
    }
   ],
   "source": [
    "MyClass"
   ]
  },
  {
   "cell_type": "code",
   "execution_count": 7,
   "metadata": {
    "slideshow": {
     "slide_type": "subslide"
    }
   },
   "outputs": [
    {
     "data": {
      "text/plain": [
       "['__class__',\n",
       " '__delattr__',\n",
       " '__dict__',\n",
       " '__dir__',\n",
       " '__doc__',\n",
       " '__eq__',\n",
       " '__format__',\n",
       " '__ge__',\n",
       " '__getattribute__',\n",
       " '__gt__',\n",
       " '__hash__',\n",
       " '__init__',\n",
       " '__init_subclass__',\n",
       " '__le__',\n",
       " '__lt__',\n",
       " '__module__',\n",
       " '__ne__',\n",
       " '__new__',\n",
       " '__reduce__',\n",
       " '__reduce_ex__',\n",
       " '__repr__',\n",
       " '__setattr__',\n",
       " '__sizeof__',\n",
       " '__str__',\n",
       " '__subclasshook__',\n",
       " '__weakref__']"
      ]
     },
     "execution_count": 7,
     "metadata": {},
     "output_type": "execute_result"
    }
   ],
   "source": [
    "dir(MyClass)"
   ]
  },
  {
   "cell_type": "markdown",
   "metadata": {
    "slideshow": {
     "slide_type": "slide"
    }
   },
   "source": [
    "## Modules VS Classes"
   ]
  },
  {
   "cell_type": "markdown",
   "metadata": {
    "slideshow": {
     "slide_type": "fragment"
    }
   },
   "source": [
    "* Python modules are files that contain Python code\n",
    "* Python modules can be executed or imported\n",
    "* Modules can contain class definitions \n",
    "* Sometimes a module consists of a single class; in this case a module may seem synonymous with class"
   ]
  },
  {
   "cell_type": "markdown",
   "metadata": {
    "slideshow": {
     "slide_type": "slide"
    }
   },
   "source": [
    "## Classes, instances, type, methods and attributes"
   ]
  },
  {
   "cell_type": "markdown",
   "metadata": {
    "slideshow": {
     "slide_type": "fragment"
    }
   },
   "source": [
    "Class: A blueprint for an instance.\n",
    "\n",
    "Instance: A constructed object of the class.\n",
    "\n",
    "Type: Indicates the class the instance belongs to.\n",
    "\n",
    "Attribute: Any object value: object.attribute.\n",
    "\n",
    "Method: A \"callable attribute\" defined in the class."
   ]
  },
  {
   "cell_type": "code",
   "execution_count": 8,
   "metadata": {
    "slideshow": {
     "slide_type": "slide"
    }
   },
   "outputs": [],
   "source": [
    "var = 'Hello'"
   ]
  },
  {
   "cell_type": "code",
   "execution_count": 9,
   "metadata": {
    "scrolled": true,
    "slideshow": {
     "slide_type": "-"
    }
   },
   "outputs": [
    {
     "data": {
      "text/plain": [
       "(str, 'HELLO')"
      ]
     },
     "execution_count": 9,
     "metadata": {},
     "output_type": "execute_result"
    }
   ],
   "source": [
    "type(var), var.upper()"
   ]
  },
  {
   "cell_type": "markdown",
   "metadata": {
    "slideshow": {
     "slide_type": "slide"
    }
   },
   "source": [
    "## Instance methods and attributes"
   ]
  },
  {
   "cell_type": "markdown",
   "metadata": {
    "slideshow": {
     "slide_type": "fragment"
    }
   },
   "source": [
    "* A \"car\" can be seen as a class of object \n",
    "* The car class provides the blueprint for a car object\n",
    "* Each instance of a car does the same things (methods)\n",
    "* But, each car instance has its own state (attributes)"
   ]
  },
  {
   "cell_type": "markdown",
   "metadata": {
    "slideshow": {
     "slide_type": "slide"
    }
   },
   "source": [
    "Example code"
   ]
  },
  {
   "cell_type": "code",
   "execution_count": 12,
   "metadata": {
    "slideshow": {
     "slide_type": "fragment"
    }
   },
   "outputs": [],
   "source": [
    "class Car:\n",
    "    \n",
    "    def __init__(self, color):\n",
    "        self.color = color\n",
    "        \n",
    "    def start(self):\n",
    "        return 'started'\n",
    "    \n",
    "    def openleft(self):\n",
    "        return 'openleft'\n",
    "    \n",
    "    def stop(self):\n",
    "        return 'stoped'"
   ]
  },
  {
   "cell_type": "code",
   "execution_count": 13,
   "metadata": {
    "slideshow": {
     "slide_type": "slide"
    }
   },
   "outputs": [],
   "source": [
    "redcar = Car('red')\n",
    "bluecar = Car('blue')"
   ]
  },
  {
   "cell_type": "code",
   "execution_count": 14,
   "metadata": {
    "slideshow": {
     "slide_type": "-"
    }
   },
   "outputs": [
    {
     "data": {
      "text/plain": [
       "'started'"
      ]
     },
     "execution_count": 14,
     "metadata": {},
     "output_type": "execute_result"
    }
   ],
   "source": [
    "redcar.start()"
   ]
  },
  {
   "cell_type": "code",
   "execution_count": 15,
   "metadata": {
    "slideshow": {
     "slide_type": "-"
    }
   },
   "outputs": [
    {
     "data": {
      "text/plain": [
       "'openleft'"
      ]
     },
     "execution_count": 15,
     "metadata": {},
     "output_type": "execute_result"
    }
   ],
   "source": [
    "redcar.openleft()"
   ]
  },
  {
   "cell_type": "code",
   "execution_count": 16,
   "metadata": {
    "slideshow": {
     "slide_type": "-"
    }
   },
   "outputs": [
    {
     "data": {
      "text/plain": [
       "'stoped'"
      ]
     },
     "execution_count": 16,
     "metadata": {},
     "output_type": "execute_result"
    }
   ],
   "source": [
    "redcar.stop()"
   ]
  },
  {
   "cell_type": "code",
   "execution_count": 17,
   "metadata": {
    "slideshow": {
     "slide_type": "-"
    }
   },
   "outputs": [
    {
     "data": {
      "text/plain": [
       "'started'"
      ]
     },
     "execution_count": 17,
     "metadata": {},
     "output_type": "execute_result"
    }
   ],
   "source": [
    "bluecar.start()"
   ]
  },
  {
   "cell_type": "markdown",
   "metadata": {
    "slideshow": {
     "slide_type": "slide"
    }
   },
   "source": [
    "## Defining a class"
   ]
  },
  {
   "cell_type": "code",
   "execution_count": 18,
   "metadata": {
    "slideshow": {
     "slide_type": "-"
    }
   },
   "outputs": [],
   "source": [
    "class MyClass:\n",
    "    pass"
   ]
  },
  {
   "cell_type": "code",
   "execution_count": 19,
   "metadata": {
    "slideshow": {
     "slide_type": "-"
    }
   },
   "outputs": [],
   "source": [
    "this_object = MyClass()\n",
    "that_object = MyClass()"
   ]
  },
  {
   "cell_type": "code",
   "execution_count": 20,
   "metadata": {
    "slideshow": {
     "slide_type": "-"
    }
   },
   "outputs": [
    {
     "data": {
      "text/plain": [
       "(<__main__.MyClass at 0x10b0ffa90>, <__main__.MyClass at 0x10b0ffac8>)"
      ]
     },
     "execution_count": 20,
     "metadata": {},
     "output_type": "execute_result"
    }
   ],
   "source": [
    "# Adresses\n",
    "this_object, that_object"
   ]
  },
  {
   "cell_type": "markdown",
   "metadata": {
    "slideshow": {
     "slide_type": "slide"
    }
   },
   "source": [
    "## Instance methods"
   ]
  },
  {
   "cell_type": "markdown",
   "metadata": {},
   "source": [
    "* Instance methods are variables defined in the class \n",
    "* They are accessed through the instance: instance.method()\n",
    "* When called through the instance, the instance is automatically passed as first argument to the method"
   ]
  },
  {
   "cell_type": "code",
   "execution_count": 21,
   "metadata": {},
   "outputs": [],
   "source": [
    "class my_name:\n",
    "    def callme(self):\n",
    "        print('calling \"callme\" method with instance: ')"
   ]
  },
  {
   "cell_type": "code",
   "execution_count": 22,
   "metadata": {},
   "outputs": [],
   "source": [
    "myname = my_name()"
   ]
  },
  {
   "cell_type": "code",
   "execution_count": 23,
   "metadata": {},
   "outputs": [
    {
     "name": "stdout",
     "output_type": "stream",
     "text": [
      "calling \"callme\" method with instance: \n"
     ]
    }
   ],
   "source": [
    "myname.callme()"
   ]
  },
  {
   "cell_type": "markdown",
   "metadata": {
    "slideshow": {
     "slide_type": "slide"
    }
   },
   "source": [
    "## Instance attributes (\"State\")"
   ]
  },
  {
   "cell_type": "markdown",
   "metadata": {},
   "source": [
    "### What is an object?"
   ]
  },
  {
   "cell_type": "markdown",
   "metadata": {},
   "source": [
    "An object is a unit of data (having one or more attributes), of a particular class or type, with associated functionality (methods)."
   ]
  },
  {
   "cell_type": "code",
   "execution_count": 29,
   "metadata": {},
   "outputs": [],
   "source": [
    "import random\n",
    "\n",
    "class MyClass:\n",
    "    \n",
    "    def dothis(self):\n",
    "        self.rand_val = random.randint(1, 10)"
   ]
  },
  {
   "cell_type": "code",
   "execution_count": 30,
   "metadata": {
    "slideshow": {
     "slide_type": "slide"
    }
   },
   "outputs": [],
   "source": [
    "myinst = MyClass()\n",
    "myinst.dothis()"
   ]
  },
  {
   "cell_type": "code",
   "execution_count": 31,
   "metadata": {},
   "outputs": [
    {
     "data": {
      "text/plain": [
       "9"
      ]
     },
     "execution_count": 31,
     "metadata": {},
     "output_type": "execute_result"
    }
   ],
   "source": [
    "myinst.rand_val"
   ]
  },
  {
   "cell_type": "markdown",
   "metadata": {
    "slideshow": {
     "slide_type": "slide"
    }
   },
   "source": [
    "* We have seen that an instance can access variables defined in the class\n",
    "* An instance can also get and set values in itself\n",
    "* Because these values change according to what happens to the object, we call these values state\n",
    "* Instance data takes the form of instance attribute values, set and accessed through object.attribute syntax"
   ]
  },
  {
   "cell_type": "markdown",
   "metadata": {
    "slideshow": {
     "slide_type": "slide"
    }
   },
   "source": [
    "## OOP: Three pillars"
   ]
  },
  {
   "cell_type": "markdown",
   "metadata": {},
   "source": [
    "1. Abstraction and Encapsulation \n",
    "2. Inheritance\n",
    "3. Polymorphism"
   ]
  },
  {
   "cell_type": "markdown",
   "metadata": {
    "slideshow": {
     "slide_type": "slide"
    }
   },
   "source": [
    "### Abstraction and Encapsulation\n",
    "\n",
    "![abs](../img/abs.PNG)"
   ]
  },
  {
   "cell_type": "markdown",
   "metadata": {
    "slideshow": {
     "slide_type": "slide"
    }
   },
   "source": [
    "* Abstraction: refers to the common and essential characteristics of an object that distinguish it from all other kinds of objects \n",
    "* Encapsulation refers to the safe storage of data (as attributes) in an instance\n",
    "* Data should be accessed only through instance methods\n",
    "* Data should be validated as correct (depending on the requirements) set in class methods)\n",
    "* Data should be safe from changes by external processes"
   ]
  },
  {
   "cell_type": "markdown",
   "metadata": {
    "slideshow": {
     "slide_type": "slide"
    }
   },
   "source": [
    "#### Example 1:"
   ]
  },
  {
   "cell_type": "code",
   "execution_count": 21,
   "metadata": {},
   "outputs": [],
   "source": [
    "class MyClass:\n",
    "    \n",
    "    def set_val(self, val):\n",
    "        self.value = val\n",
    "        \n",
    "    def get_val(self):\n",
    "        return self.value"
   ]
  },
  {
   "cell_type": "code",
   "execution_count": 23,
   "metadata": {},
   "outputs": [],
   "source": [
    "a = MyClass()\n",
    "b = MyClass()"
   ]
  },
  {
   "cell_type": "code",
   "execution_count": 24,
   "metadata": {},
   "outputs": [],
   "source": [
    "a.set_val(100)\n",
    "b.set_val(1000)\n",
    "a.value = 'hello'"
   ]
  },
  {
   "cell_type": "code",
   "execution_count": 25,
   "metadata": {},
   "outputs": [
    {
     "data": {
      "text/plain": [
       "('hello', 1000)"
      ]
     },
     "execution_count": 25,
     "metadata": {},
     "output_type": "execute_result"
    }
   ],
   "source": [
    "a.get_val(), b.get_val()"
   ]
  },
  {
   "cell_type": "markdown",
   "metadata": {
    "slideshow": {
     "slide_type": "slide"
    }
   },
   "source": [
    "#### Example 2:"
   ]
  },
  {
   "cell_type": "code",
   "execution_count": 21,
   "metadata": {},
   "outputs": [],
   "source": [
    "class MyInteger:\n",
    "    \n",
    "    def set_val(self, val):\n",
    "        try:\n",
    "            val = int(val)\n",
    "        except ValueError:\n",
    "            return \n",
    "        self.val = val\n",
    "    \n",
    "    def get_val(self):\n",
    "        return self.val\n",
    "    \n",
    "    def increment_val(self):\n",
    "        self.val += 1\n",
    "            "
   ]
  },
  {
   "cell_type": "code",
   "execution_count": 22,
   "metadata": {},
   "outputs": [],
   "source": [
    "i = MyInteger()\n",
    "i.set_val(9)"
   ]
  },
  {
   "cell_type": "code",
   "execution_count": 23,
   "metadata": {},
   "outputs": [
    {
     "data": {
      "text/plain": [
       "9"
      ]
     },
     "execution_count": 23,
     "metadata": {},
     "output_type": "execute_result"
    }
   ],
   "source": [
    "i.get_val()"
   ]
  },
  {
   "cell_type": "code",
   "execution_count": 24,
   "metadata": {
    "slideshow": {
     "slide_type": "slide"
    }
   },
   "outputs": [],
   "source": [
    "i.val = 'Hi' # Breaks Encapsulation"
   ]
  },
  {
   "cell_type": "code",
   "execution_count": 25,
   "metadata": {},
   "outputs": [
    {
     "data": {
      "text/plain": [
       "'Hi'"
      ]
     },
     "execution_count": 25,
     "metadata": {},
     "output_type": "execute_result"
    }
   ],
   "source": [
    "i.get_val()"
   ]
  },
  {
   "cell_type": "code",
   "execution_count": 26,
   "metadata": {},
   "outputs": [
    {
     "ename": "TypeError",
     "evalue": "must be str, not int",
     "output_type": "error",
     "traceback": [
      "\u001b[1;31m---------------------------------------------------------------------------\u001b[0m",
      "\u001b[1;31mTypeError\u001b[0m                                 Traceback (most recent call last)",
      "\u001b[1;32m<ipython-input-26-8e9fa8dd0268>\u001b[0m in \u001b[0;36m<module>\u001b[1;34m()\u001b[0m\n\u001b[1;32m----> 1\u001b[1;33m \u001b[0mi\u001b[0m\u001b[1;33m.\u001b[0m\u001b[0mincrement_val\u001b[0m\u001b[1;33m(\u001b[0m\u001b[1;33m)\u001b[0m\u001b[1;33m\u001b[0m\u001b[0m\n\u001b[0m",
      "\u001b[1;32m<ipython-input-21-de327a28691c>\u001b[0m in \u001b[0;36mincrement_val\u001b[1;34m(self)\u001b[0m\n\u001b[0;32m     12\u001b[0m \u001b[1;33m\u001b[0m\u001b[0m\n\u001b[0;32m     13\u001b[0m     \u001b[1;32mdef\u001b[0m \u001b[0mincrement_val\u001b[0m\u001b[1;33m(\u001b[0m\u001b[0mself\u001b[0m\u001b[1;33m)\u001b[0m\u001b[1;33m:\u001b[0m\u001b[1;33m\u001b[0m\u001b[0m\n\u001b[1;32m---> 14\u001b[1;33m         \u001b[0mself\u001b[0m\u001b[1;33m.\u001b[0m\u001b[0mval\u001b[0m \u001b[1;33m+=\u001b[0m \u001b[1;36m1\u001b[0m\u001b[1;33m\u001b[0m\u001b[0m\n\u001b[0m\u001b[0;32m     15\u001b[0m \u001b[1;33m\u001b[0m\u001b[0m\n",
      "\u001b[1;31mTypeError\u001b[0m: must be str, not int"
     ]
    }
   ],
   "source": [
    "i.increment_val()"
   ]
  },
  {
   "cell_type": "markdown",
   "metadata": {
    "slideshow": {
     "slide_type": "slide"
    }
   },
   "source": [
    "#### Breaking encapsulation"
   ]
  },
  {
   "cell_type": "markdown",
   "metadata": {},
   "source": [
    "* Although normally set in a setter method, instance attribute values can be set anywhere\n",
    "* Encapsulation in Python is a voluntary restriction\n",
    "* Python does not implement data hiding, as does other languages"
   ]
  },
  {
   "cell_type": "code",
   "execution_count": 10,
   "metadata": {},
   "outputs": [
    {
     "data": {
      "text/plain": [
       "'Hi'"
      ]
     },
     "execution_count": 10,
     "metadata": {},
     "output_type": "execute_result"
    }
   ],
   "source": [
    "i.val"
   ]
  },
  {
   "cell_type": "markdown",
   "metadata": {
    "slideshow": {
     "slide_type": "slide"
    }
   },
   "source": [
    "#### Init constructor"
   ]
  },
  {
   "cell_type": "markdown",
   "metadata": {},
   "source": [
    "* __init__ is a keyword variable: it must be named init \n",
    "* It is method automatically called when a new instance is constructed\n",
    "* If it is not present, it is not called\n",
    "* The self argument is the first appearance of the instace\n",
    "* __init__ offers the opportunity to initialize attributes in the instance at the time of construction"
   ]
  },
  {
   "cell_type": "markdown",
   "metadata": {
    "slideshow": {
     "slide_type": "slide"
    }
   },
   "source": [
    "#### init constructor example"
   ]
  },
  {
   "cell_type": "code",
   "execution_count": 46,
   "metadata": {},
   "outputs": [],
   "source": [
    "class MyNum:\n",
    "    def __init__(self, value):\n",
    "        \n",
    "        try:\n",
    "            value = int(value)\n",
    "        except ValueError:\n",
    "            value = 0\n",
    "            \n",
    "        self.val = value\n",
    "    \n",
    "    def increment(self):\n",
    "        self.val = self.val + 1"
   ]
  },
  {
   "cell_type": "code",
   "execution_count": 47,
   "metadata": {
    "slideshow": {
     "slide_type": "slide"
    }
   },
   "outputs": [],
   "source": [
    "aa = MyNum('hello')\n",
    "bb = MyNum(100)"
   ]
  },
  {
   "cell_type": "code",
   "execution_count": 48,
   "metadata": {},
   "outputs": [],
   "source": [
    "aa.increment()\n",
    "aa.increment()\n",
    "bb.increment()"
   ]
  },
  {
   "cell_type": "code",
   "execution_count": 49,
   "metadata": {},
   "outputs": [
    {
     "data": {
      "text/plain": [
       "2"
      ]
     },
     "execution_count": 49,
     "metadata": {},
     "output_type": "execute_result"
    }
   ],
   "source": [
    "aa.val"
   ]
  },
  {
   "cell_type": "code",
   "execution_count": 50,
   "metadata": {},
   "outputs": [
    {
     "data": {
      "text/plain": [
       "101"
      ]
     },
     "execution_count": 50,
     "metadata": {},
     "output_type": "execute_result"
    }
   ],
   "source": [
    "bb.val"
   ]
  },
  {
   "cell_type": "markdown",
   "metadata": {
    "slideshow": {
     "slide_type": "slide"
    }
   },
   "source": [
    "#### self parameter in python"
   ]
  },
  {
   "cell_type": "code",
   "execution_count": 27,
   "metadata": {},
   "outputs": [],
   "source": [
    "class Employee:\n",
    "    def employeeDetails(): \n",
    "        pass # do nothing"
   ]
  },
  {
   "cell_type": "code",
   "execution_count": 28,
   "metadata": {},
   "outputs": [],
   "source": [
    "emp = Employee() # creating Employee object"
   ]
  },
  {
   "cell_type": "code",
   "execution_count": 29,
   "metadata": {
    "slideshow": {
     "slide_type": "slide"
    }
   },
   "outputs": [
    {
     "ename": "TypeError",
     "evalue": "employeeDetails() takes 0 positional arguments but 1 was given",
     "output_type": "error",
     "traceback": [
      "\u001b[1;31m---------------------------------------------------------------------------\u001b[0m",
      "\u001b[1;31mTypeError\u001b[0m                                 Traceback (most recent call last)",
      "\u001b[1;32m<ipython-input-29-16a520785310>\u001b[0m in \u001b[0;36m<module>\u001b[1;34m()\u001b[0m\n\u001b[0;32m     15\u001b[0m \u001b[1;33m\u001b[0m\u001b[0m\n\u001b[0;32m     16\u001b[0m \"\"\"\n\u001b[1;32m---> 17\u001b[1;33m \u001b[0memp\u001b[0m\u001b[1;33m.\u001b[0m\u001b[0memployeeDetails\u001b[0m\u001b[1;33m(\u001b[0m\u001b[1;33m)\u001b[0m\u001b[1;33m\u001b[0m\u001b[0m\n\u001b[0m",
      "\u001b[1;31mTypeError\u001b[0m: employeeDetails() takes 0 positional arguments but 1 was given"
     ]
    }
   ],
   "source": [
    "# this will cause an error\n",
    "\n",
    "\"\"\"\n",
    "    here the error says i have passed one argument! but actually i didn't pass\n",
    "    any argument. So why python thrown this type of error.\n",
    "    \n",
    "    lets understand how python interpreter works. \n",
    "    when we call `employeeDetails()` method with `emp` object\n",
    "    the command will translate by the interpreter like this:\n",
    "    \n",
    "    # Employee.employeeDetails(emp)\n",
    "    \n",
    "    The interpreter call the method with the class name and pass the\n",
    "    `emp` object as a argument.\n",
    "    \n",
    "\"\"\"\n",
    "emp.employeeDetails()"
   ]
  },
  {
   "cell_type": "code",
   "execution_count": 32,
   "metadata": {
    "slideshow": {
     "slide_type": "slide"
    }
   },
   "outputs": [],
   "source": [
    "# so we need to change the `employeeDetails()` method.\n",
    "\n",
    "class Employee:\n",
    "    # now employeeDetails take one argument\n",
    "    # by convention we use self parameter\n",
    "    # we can use any name if we want for this argument\n",
    "    def employeeDetails(self): \n",
    "        self.name = \"Pedro\"\n",
    "        print(\"My name is: \", self.name)"
   ]
  },
  {
   "cell_type": "code",
   "execution_count": 33,
   "metadata": {},
   "outputs": [
    {
     "name": "stdout",
     "output_type": "stream",
     "text": [
      "My name is:  Pedro\n"
     ]
    }
   ],
   "source": [
    "emp = Employee()\n",
    "emp.employeeDetails()"
   ]
  },
  {
   "cell_type": "code",
   "execution_count": 34,
   "metadata": {},
   "outputs": [
    {
     "name": "stdout",
     "output_type": "stream",
     "text": [
      "My name is:  Pedro\n"
     ]
    }
   ],
   "source": [
    "# it's a valid call. \n",
    "# everytime we call a method by object, the command will\n",
    "# transfer like this\n",
    "\n",
    "Employee.employeeDetails(emp)"
   ]
  },
  {
   "cell_type": "markdown",
   "metadata": {
    "slideshow": {
     "slide_type": "slide"
    }
   },
   "source": [
    "#### Class attributes vs instance attributes"
   ]
  },
  {
   "cell_type": "markdown",
   "metadata": {},
   "source": [
    "* Attributes/variables in the class are accessible through the instance\n",
    "* Instance attributes are also accessible by the instance\n",
    "* When we use the syntax __object.attribute__, we're asking Python to look up the attribute:\n",
    "    * First in the instance\n",
    "    * Then in the class\n",
    "* Method calls through the instance follow this lookup"
   ]
  },
  {
   "cell_type": "markdown",
   "metadata": {
    "slideshow": {
     "slide_type": "slide"
    }
   },
   "source": [
    "#### Example 1: Class attributes vs instance attributes"
   ]
  },
  {
   "cell_type": "code",
   "execution_count": 52,
   "metadata": {},
   "outputs": [],
   "source": [
    "class YourClass:\n",
    "    classy = 10\n",
    "    def set_val(self):\n",
    "        self.insty = 100"
   ]
  },
  {
   "cell_type": "code",
   "execution_count": 54,
   "metadata": {},
   "outputs": [],
   "source": [
    "dd = YourClass()\n",
    "dd.set_val()"
   ]
  },
  {
   "cell_type": "code",
   "execution_count": 55,
   "metadata": {},
   "outputs": [
    {
     "data": {
      "text/plain": [
       "(10, 100)"
      ]
     },
     "execution_count": 55,
     "metadata": {},
     "output_type": "execute_result"
    }
   ],
   "source": [
    "dd.classy, dd.insty"
   ]
  },
  {
   "cell_type": "markdown",
   "metadata": {
    "slideshow": {
     "slide_type": "slide"
    }
   },
   "source": [
    "#### Example 2: Class attributes vs instance attributes"
   ]
  },
  {
   "cell_type": "code",
   "execution_count": 1,
   "metadata": {},
   "outputs": [],
   "source": [
    "class YourClass:\n",
    "    classy = 'class values!'"
   ]
  },
  {
   "cell_type": "code",
   "execution_count": 2,
   "metadata": {},
   "outputs": [],
   "source": [
    "dd = YourClass()"
   ]
  },
  {
   "cell_type": "code",
   "execution_count": 3,
   "metadata": {},
   "outputs": [
    {
     "data": {
      "text/plain": [
       "'class values!'"
      ]
     },
     "execution_count": 3,
     "metadata": {},
     "output_type": "execute_result"
    }
   ],
   "source": [
    "dd.classy"
   ]
  },
  {
   "cell_type": "code",
   "execution_count": 4,
   "metadata": {},
   "outputs": [],
   "source": [
    "dd.classy = 'inst value!'"
   ]
  },
  {
   "cell_type": "code",
   "execution_count": 5,
   "metadata": {},
   "outputs": [
    {
     "data": {
      "text/plain": [
       "'inst value!'"
      ]
     },
     "execution_count": 5,
     "metadata": {},
     "output_type": "execute_result"
    }
   ],
   "source": [
    "dd.classy"
   ]
  },
  {
   "cell_type": "code",
   "execution_count": 6,
   "metadata": {},
   "outputs": [],
   "source": [
    "del dd.classy"
   ]
  },
  {
   "cell_type": "code",
   "execution_count": 7,
   "metadata": {},
   "outputs": [
    {
     "data": {
      "text/plain": [
       "'class values!'"
      ]
     },
     "execution_count": 7,
     "metadata": {},
     "output_type": "execute_result"
    }
   ],
   "source": [
    "dd.classy"
   ]
  },
  {
   "cell_type": "markdown",
   "metadata": {
    "slideshow": {
     "slide_type": "slide"
    }
   },
   "source": [
    "#### Working with class and instance data"
   ]
  },
  {
   "cell_type": "code",
   "execution_count": 75,
   "metadata": {},
   "outputs": [],
   "source": [
    "class InstanceCounter:\n",
    "    \n",
    "    count = 0\n",
    "    \n",
    "    def __init__(self, val):\n",
    "        self.val = val\n",
    "        InstanceCounter.count += 1\n",
    "        \n",
    "    def set_val(self, newval):\n",
    "        self.val = newval\n",
    "        \n",
    "    def get_val(self):\n",
    "        return self.val\n",
    "    \n",
    "    def get_count(self):\n",
    "        return InstanceCounter.count"
   ]
  },
  {
   "cell_type": "code",
   "execution_count": 76,
   "metadata": {},
   "outputs": [],
   "source": [
    "a = InstanceCounter(5)\n",
    "b = InstanceCounter(13)\n",
    "c = InstanceCounter(17)"
   ]
  },
  {
   "cell_type": "code",
   "execution_count": 77,
   "metadata": {
    "slideshow": {
     "slide_type": "slide"
    }
   },
   "outputs": [
    {
     "name": "stdout",
     "output_type": "stream",
     "text": [
      "val of obj: 5\n",
      "count (from instance): 3\n",
      "val of obj: 13\n",
      "count (from instance): 3\n",
      "val of obj: 17\n",
      "count (from instance): 3\n"
     ]
    }
   ],
   "source": [
    "for obj in (a, b, c):\n",
    "    print(\"val of obj: %s\" % (obj.get_val()))\n",
    "    print(\"count (from instance): %s\" % (obj.count))"
   ]
  },
  {
   "cell_type": "markdown",
   "metadata": {
    "slideshow": {
     "slide_type": "slide"
    }
   },
   "source": [
    "#### Instance Example"
   ]
  },
  {
   "cell_type": "code",
   "execution_count": 1,
   "metadata": {},
   "outputs": [],
   "source": [
    "class MaxSizeList:\n",
    "    \n",
    "    def __init__(self, max):\n",
    "        \n",
    "        self.max_size = max\n",
    "        self.innerlist = []\n",
    "        \n",
    "    def push(self, obj):\n",
    "        \n",
    "        self.innerlist.append(obj)\n",
    "        \n",
    "        if len(self.innerlist) > self.max_size:\n",
    "            self.innerlist.pop(0)\n",
    "            \n",
    "    def get_list(self):\n",
    "        return self.innerlist"
   ]
  },
  {
   "cell_type": "code",
   "execution_count": 2,
   "metadata": {},
   "outputs": [],
   "source": [
    "a = MaxSizeList(3)\n",
    "b = MaxSizeList(1)"
   ]
  },
  {
   "cell_type": "code",
   "execution_count": 3,
   "metadata": {
    "slideshow": {
     "slide_type": "slide"
    }
   },
   "outputs": [],
   "source": [
    "a.push(\"hey\")\n",
    "a.push(\"hi\")\n",
    "a.push(\"let's\")\n",
    "a.push(\"go\")"
   ]
  },
  {
   "cell_type": "code",
   "execution_count": 4,
   "metadata": {},
   "outputs": [],
   "source": [
    "b.push(\"hey\")\n",
    "b.push(\"hi\")\n",
    "b.push(\"let's\")\n",
    "b.push(\"go\")"
   ]
  },
  {
   "cell_type": "code",
   "execution_count": 5,
   "metadata": {},
   "outputs": [
    {
     "data": {
      "text/plain": [
       "['hi', \"let's\", 'go']"
      ]
     },
     "execution_count": 5,
     "metadata": {},
     "output_type": "execute_result"
    }
   ],
   "source": [
    "a.get_list()"
   ]
  },
  {
   "cell_type": "code",
   "execution_count": 6,
   "metadata": {},
   "outputs": [
    {
     "data": {
      "text/plain": [
       "['go']"
      ]
     },
     "execution_count": 6,
     "metadata": {},
     "output_type": "execute_result"
    }
   ],
   "source": [
    "b.get_list()"
   ]
  },
  {
   "cell_type": "markdown",
   "metadata": {
    "slideshow": {
     "slide_type": "slide"
    }
   },
   "source": [
    "### Inheritance"
   ]
  },
  {
   "cell_type": "markdown",
   "metadata": {},
   "source": [
    "* One class can inherit from another\n",
    "    * The class' attributes are inherited\n",
    "    * In particular, its methods are inherited\n",
    "    * This means that instances of an inheriting (child) class can access attributes of the inherited (parent) class \n",
    "* This is simply another level of attribute lookup: instance, the class, then inherited classes"
   ]
  },
  {
   "cell_type": "markdown",
   "metadata": {
    "slideshow": {
     "slide_type": "slide"
    }
   },
   "source": [
    "#### Inheritance example 1"
   ]
  },
  {
   "cell_type": "code",
   "execution_count": 1,
   "metadata": {},
   "outputs": [],
   "source": [
    "class Animal:\n",
    "    \n",
    "    def __init__(self, name):\n",
    "        \n",
    "        self.name = name\n",
    "        \n",
    "    def eat(self, food):\n",
    "        \n",
    "        print('{0} is eating {1}'.format(self.name, food))"
   ]
  },
  {
   "cell_type": "code",
   "execution_count": 2,
   "metadata": {},
   "outputs": [],
   "source": [
    "class Dog(Animal):\n",
    "    \n",
    "    def fetch(self, thing):\n",
    "        \n",
    "        print('{0} goes after the {1}'.format(self.name, thing))"
   ]
  },
  {
   "cell_type": "code",
   "execution_count": 9,
   "metadata": {},
   "outputs": [],
   "source": [
    "class Cat(Animal):\n",
    "    \n",
    "    def swatstring(self):\n",
    "        \n",
    "        print('{} shreds the string!'.format(self.name))"
   ]
  },
  {
   "cell_type": "code",
   "execution_count": 10,
   "metadata": {
    "slideshow": {
     "slide_type": "slide"
    }
   },
   "outputs": [],
   "source": [
    "r = Dog('Rover')\n",
    "f = Cat('Fluffy')"
   ]
  },
  {
   "cell_type": "code",
   "execution_count": 11,
   "metadata": {},
   "outputs": [
    {
     "name": "stdout",
     "output_type": "stream",
     "text": [
      "Rover goes after the paper\n"
     ]
    }
   ],
   "source": [
    "r.fetch('paper')"
   ]
  },
  {
   "cell_type": "code",
   "execution_count": 12,
   "metadata": {},
   "outputs": [
    {
     "name": "stdout",
     "output_type": "stream",
     "text": [
      "Fluffy shreds the string!\n"
     ]
    }
   ],
   "source": [
    "f.swatstring()"
   ]
  },
  {
   "cell_type": "code",
   "execution_count": 13,
   "metadata": {},
   "outputs": [
    {
     "name": "stdout",
     "output_type": "stream",
     "text": [
      "Rover is eating dog food\n"
     ]
    }
   ],
   "source": [
    "r.eat('dog food')"
   ]
  },
  {
   "cell_type": "code",
   "execution_count": 14,
   "metadata": {},
   "outputs": [
    {
     "name": "stdout",
     "output_type": "stream",
     "text": [
      "Fluffy is eating cat food\n"
     ]
    }
   ],
   "source": [
    "f.eat('cat food')"
   ]
  },
  {
   "cell_type": "code",
   "execution_count": 15,
   "metadata": {},
   "outputs": [
    {
     "ename": "AttributeError",
     "evalue": "'Dog' object has no attribute 'swatstring'",
     "output_type": "error",
     "traceback": [
      "\u001b[1;31m---------------------------------------------------------------------------\u001b[0m",
      "\u001b[1;31mAttributeError\u001b[0m                            Traceback (most recent call last)",
      "\u001b[1;32m<ipython-input-15-1781dc1a62eb>\u001b[0m in \u001b[0;36m<module>\u001b[1;34m()\u001b[0m\n\u001b[1;32m----> 1\u001b[1;33m \u001b[0mr\u001b[0m\u001b[1;33m.\u001b[0m\u001b[0mswatstring\u001b[0m\u001b[1;33m(\u001b[0m\u001b[1;33m)\u001b[0m\u001b[1;33m\u001b[0m\u001b[0m\n\u001b[0m",
      "\u001b[1;31mAttributeError\u001b[0m: 'Dog' object has no attribute 'swatstring'"
     ]
    }
   ],
   "source": [
    "r.swatstring()"
   ]
  },
  {
   "cell_type": "markdown",
   "metadata": {
    "slideshow": {
     "slide_type": "slide"
    }
   },
   "source": [
    "### Polymorphism"
   ]
  },
  {
   "cell_type": "markdown",
   "metadata": {
    "slideshow": {
     "slide_type": "-"
    }
   },
   "source": [
    "* Polymorphism (Many shapes)\n",
    "* Two methods with the same interface (i.e., method name)\n",
    "* Methods are often different, but conceptually similar\n",
    "* Allows for expressiveness in design: we can say that this group of related classes implement the same action"
   ]
  },
  {
   "cell_type": "markdown",
   "metadata": {
    "slideshow": {
     "slide_type": "slide"
    }
   },
   "source": [
    "#### Polymorphism example I"
   ]
  },
  {
   "cell_type": "markdown",
   "metadata": {},
   "source": [
    "We take again the animals example class but this time we adding a new method named ***show_affection*** in both classes."
   ]
  },
  {
   "cell_type": "code",
   "execution_count": 8,
   "metadata": {},
   "outputs": [],
   "source": [
    "class Animal:\n",
    "    \n",
    "    def __init__(self, name):\n",
    "        \n",
    "        self.name = name\n",
    "        \n",
    "    def eat(self, food):\n",
    "        \n",
    "        print('{0} is eating {1}'.format(self.name, food))"
   ]
  },
  {
   "cell_type": "code",
   "execution_count": 17,
   "metadata": {
    "slideshow": {
     "slide_type": "slide"
    }
   },
   "outputs": [],
   "source": [
    "class Dog(Animal):\n",
    "    \n",
    "    def fetch(self, thing):\n",
    "        \n",
    "        print('{0} goes after the {1}'.format(self.name, thing))\n",
    "    \n",
    "    def show_affection(self):\n",
    "        \n",
    "        print('{0} wags tail'.format(self.name))"
   ]
  },
  {
   "cell_type": "code",
   "execution_count": 13,
   "metadata": {},
   "outputs": [],
   "source": [
    "class Cat(Animal):\n",
    "    \n",
    "    def swatstring(self):\n",
    "        \n",
    "        print('{} shreds the string!'.format(self.name))\n",
    "        \n",
    "    def show_affection(self):\n",
    "        \n",
    "        print('{0} purrs'.format(self.name))"
   ]
  },
  {
   "cell_type": "code",
   "execution_count": 15,
   "metadata": {
    "slideshow": {
     "slide_type": "slide"
    }
   },
   "outputs": [
    {
     "name": "stdout",
     "output_type": "stream",
     "text": [
      "Rover wags tail\n",
      "Fluffy purrs\n",
      "Precious purrs\n",
      "Scount wags tail\n"
     ]
    }
   ],
   "source": [
    "for a in (Dog('Rover'), Cat('Fluffy'), Cat('Precious'), Dog('Scount')):\n",
    "    a.show_affection()"
   ]
  },
  {
   "cell_type": "markdown",
   "metadata": {
    "slideshow": {
     "slide_type": "slide"
    }
   },
   "source": [
    "#### Inheriting the constructor "
   ]
  },
  {
   "cell_type": "markdown",
   "metadata": {},
   "source": [
    "* __init__ is like any other method; it can be inherited\n",
    "* If a class does not have an __init__ constructor, Python will check its parent class to see if it can find one\n",
    "* As soon as it finds one, Python calls it and stops looking\n",
    "* We can use the **super()** function to call methods in the parent class\n",
    "* We may to initialize in the parent as well as our own class "
   ]
  },
  {
   "cell_type": "code",
   "execution_count": 16,
   "metadata": {
    "slideshow": {
     "slide_type": "-"
    }
   },
   "outputs": [],
   "source": [
    "class Animal:\n",
    "    \n",
    "    def __init__(self, name):\n",
    "        \n",
    "        self.name = name\n",
    "        \n",
    "class Dog(Animal):\n",
    "    \n",
    "    def __init__(self, name):\n",
    "            super().__init__(name)\n",
    "    \n",
    "    def fetch(self, thing):\n",
    "        \n",
    "        print('{0} goes after the {1}'.format(self.name, thing))"
   ]
  },
  {
   "cell_type": "markdown",
   "metadata": {
    "slideshow": {
     "slide_type": "slide"
    }
   },
   "source": [
    "#### Multiple Inheritance"
   ]
  },
  {
   "cell_type": "markdown",
   "metadata": {},
   "source": [
    "* Any class can inherit from multiple classes\n",
    "* Python normally uses a \"depth-first\" order when searching inheriting classes\n",
    "* But when two classes inherit from the same class, Python eliminates the first mention of that class from the mro (method resolution order)\n",
    "* The above applies to \"new style\" classes (inheriting from _object_)"
   ]
  },
  {
   "cell_type": "code",
   "execution_count": 34,
   "metadata": {
    "slideshow": {
     "slide_type": "slide"
    }
   },
   "outputs": [],
   "source": [
    "class A:\n",
    "    def do_this(self):\n",
    "        print('doing this in A')\n",
    "\n",
    "class B(A):\n",
    "    pass\n",
    "\n",
    "class C:\n",
    "    def do_this(self):\n",
    "        print('doing this in C')\n",
    "        \n",
    "class D(B, C):\n",
    "    pass"
   ]
  },
  {
   "cell_type": "code",
   "execution_count": 35,
   "metadata": {},
   "outputs": [],
   "source": [
    "d_instance = D()"
   ]
  },
  {
   "cell_type": "code",
   "execution_count": 36,
   "metadata": {},
   "outputs": [
    {
     "name": "stdout",
     "output_type": "stream",
     "text": [
      "doing this in A\n"
     ]
    }
   ],
   "source": [
    "d_instance.do_this()"
   ]
  },
  {
   "cell_type": "code",
   "execution_count": 37,
   "metadata": {
    "slideshow": {
     "slide_type": "slide"
    }
   },
   "outputs": [],
   "source": [
    "class A:\n",
    "    def do_this(self):\n",
    "        print('doing this in A')\n",
    " \n",
    "class B(A):\n",
    "    pass\n",
    "\n",
    "class C(A):\n",
    "    def do_this(self):\n",
    "        print('doing this in C')\n",
    "        \n",
    "class D(B, C):\n",
    "    pass"
   ]
  },
  {
   "cell_type": "code",
   "execution_count": 38,
   "metadata": {},
   "outputs": [],
   "source": [
    "d_instance = D()"
   ]
  },
  {
   "cell_type": "code",
   "execution_count": 39,
   "metadata": {},
   "outputs": [
    {
     "name": "stdout",
     "output_type": "stream",
     "text": [
      "doing this in C\n"
     ]
    }
   ],
   "source": [
    "d_instance.do_this()"
   ]
  }
 ],
 "metadata": {
  "celltoolbar": "Slideshow",
  "kernelspec": {
   "display_name": "Python 3",
   "language": "python",
   "name": "python3"
  },
  "language_info": {
   "codemirror_mode": {
    "name": "ipython",
    "version": 3
   },
   "file_extension": ".py",
   "mimetype": "text/x-python",
   "name": "python",
   "nbconvert_exporter": "python",
   "pygments_lexer": "ipython3",
   "version": "3.6.5"
  },
  "latex_envs": {
   "LaTeX_envs_menu_present": true,
   "autoclose": false,
   "autocomplete": true,
   "bibliofile": "biblio.bib",
   "cite_by": "apalike",
   "current_citInitial": 1,
   "eqLabelWithNumbers": true,
   "eqNumInitial": 1,
   "hotkeys": {
    "equation": "Ctrl-E",
    "itemize": "Ctrl-I"
   },
   "labels_anchors": false,
   "latex_user_defs": false,
   "report_style_numbering": false,
   "user_envs_cfg": false
  }
 },
 "nbformat": 4,
 "nbformat_minor": 2
}
