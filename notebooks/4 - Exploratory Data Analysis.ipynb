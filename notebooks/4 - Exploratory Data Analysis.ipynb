{
 "cells": [
  {
   "cell_type": "markdown",
   "metadata": {},
   "source": [
    "### Data Acces"
   ]
  },
  {
   "cell_type": "code",
   "execution_count": 150,
   "metadata": {},
   "outputs": [],
   "source": [
    "import pandas as pd\n",
    "import matplotlib.pyplot as plt\n",
    "import squarify\n",
    "%matplotlib inline"
   ]
  },
  {
   "cell_type": "code",
   "execution_count": null,
   "metadata": {},
   "outputs": [],
   "source": []
  },
  {
   "cell_type": "code",
   "execution_count": null,
   "metadata": {
    "colab": {},
    "colab_type": "code",
    "id": "XZVu7nkjdbub"
   },
   "outputs": [],
   "source": [
    "#data = pd.read_csv('my_file.csv', sep=';', encoding='latin-1', nrows=1000, skiprows=[2,5])"
   ]
  },
  {
   "cell_type": "code",
   "execution_count": 4,
   "metadata": {},
   "outputs": [],
   "source": [
    "data = pd.read_csv('http://bit.ly/PGGM_dataset')"
   ]
  },
  {
   "cell_type": "code",
   "execution_count": 6,
   "metadata": {},
   "outputs": [
    {
     "data": {
      "text/plain": [
       "38304"
      ]
     },
     "execution_count": 6,
     "metadata": {},
     "output_type": "execute_result"
    }
   ],
   "source": [
    "len(data)"
   ]
  },
  {
   "cell_type": "code",
   "execution_count": 11,
   "metadata": {},
   "outputs": [
    {
     "data": {
      "text/plain": [
       "781"
      ]
     },
     "execution_count": 11,
     "metadata": {},
     "output_type": "execute_result"
    }
   ],
   "source": [
    "len(data.Identifier.unique())"
   ]
  },
  {
   "cell_type": "code",
   "execution_count": 21,
   "metadata": {},
   "outputs": [
    {
     "data": {
      "text/plain": [
       "814"
      ]
     },
     "execution_count": 21,
     "metadata": {},
     "output_type": "execute_result"
    }
   ],
   "source": [
    "len(data.Name.unique())"
   ]
  },
  {
   "cell_type": "code",
   "execution_count": 22,
   "metadata": {},
   "outputs": [
    {
     "data": {
      "text/plain": [
       "781"
      ]
     },
     "execution_count": 22,
     "metadata": {},
     "output_type": "execute_result"
    }
   ],
   "source": [
    "len(data.Ticker.unique())"
   ]
  },
  {
   "cell_type": "markdown",
   "metadata": {},
   "source": [
    "It seems that Identifier and are the unique identifiers Ticker"
   ]
  },
  {
   "cell_type": "code",
   "execution_count": 16,
   "metadata": {},
   "outputs": [],
   "source": [
    "#Y2573F10"
   ]
  },
  {
   "cell_type": "code",
   "execution_count": 17,
   "metadata": {},
   "outputs": [],
   "source": [
    "#data.groupby('Identifier').count().sort_values(by='Name', ascending= False)"
   ]
  },
  {
   "cell_type": "code",
   "execution_count": 38,
   "metadata": {},
   "outputs": [],
   "source": [
    "table = data.groupby(['Identifier','Name']).count().reset_index()[['Name','Identifier']]"
   ]
  },
  {
   "cell_type": "code",
   "execution_count": 43,
   "metadata": {},
   "outputs": [
    {
     "data": {
      "text/html": [
       "<div>\n",
       "<style scoped>\n",
       "    .dataframe tbody tr th:only-of-type {\n",
       "        vertical-align: middle;\n",
       "    }\n",
       "\n",
       "    .dataframe tbody tr th {\n",
       "        vertical-align: top;\n",
       "    }\n",
       "\n",
       "    .dataframe thead th {\n",
       "        text-align: right;\n",
       "    }\n",
       "</style>\n",
       "<table border=\"1\" class=\"dataframe\">\n",
       "  <thead>\n",
       "    <tr style=\"text-align: right;\">\n",
       "      <th></th>\n",
       "      <th>Name</th>\n",
       "    </tr>\n",
       "    <tr>\n",
       "      <th>Identifier</th>\n",
       "      <th></th>\n",
       "    </tr>\n",
       "  </thead>\n",
       "  <tbody>\n",
       "    <tr>\n",
       "      <th>24906P10</th>\n",
       "      <td>2</td>\n",
       "    </tr>\n",
       "    <tr>\n",
       "      <th>03349M10</th>\n",
       "      <td>2</td>\n",
       "    </tr>\n",
       "    <tr>\n",
       "      <th>28035Q10</th>\n",
       "      <td>2</td>\n",
       "    </tr>\n",
       "    <tr>\n",
       "      <th>50075410</th>\n",
       "      <td>2</td>\n",
       "    </tr>\n",
       "    <tr>\n",
       "      <th>02079K10</th>\n",
       "      <td>2</td>\n",
       "    </tr>\n",
       "  </tbody>\n",
       "</table>\n",
       "</div>"
      ],
      "text/plain": [
       "            Name\n",
       "Identifier      \n",
       "24906P10       2\n",
       "03349M10       2\n",
       "28035Q10       2\n",
       "50075410       2\n",
       "02079K10       2"
      ]
     },
     "execution_count": 43,
     "metadata": {},
     "output_type": "execute_result"
    }
   ],
   "source": [
    "table.groupby('Identifier').count().sort_values(by='Name', ascending= False).head()"
   ]
  },
  {
   "cell_type": "code",
   "execution_count": 49,
   "metadata": {},
   "outputs": [
    {
     "data": {
      "text/plain": [
       "array(['Energizer Holdings, Inc.', 'Edgewell Personal Care Co.'],\n",
       "      dtype=object)"
      ]
     },
     "execution_count": 49,
     "metadata": {},
     "output_type": "execute_result"
    }
   ],
   "source": [
    "data[data.Identifier == '28035Q10'].Name.unique()"
   ]
  },
  {
   "cell_type": "markdown",
   "metadata": {},
   "source": [
    "#### Investigate why this happened"
   ]
  },
  {
   "cell_type": "code",
   "execution_count": 50,
   "metadata": {},
   "outputs": [
    {
     "data": {
      "text/html": [
       "<div>\n",
       "<style scoped>\n",
       "    .dataframe tbody tr th:only-of-type {\n",
       "        vertical-align: middle;\n",
       "    }\n",
       "\n",
       "    .dataframe tbody tr th {\n",
       "        vertical-align: top;\n",
       "    }\n",
       "\n",
       "    .dataframe thead th {\n",
       "        text-align: right;\n",
       "    }\n",
       "</style>\n",
       "<table border=\"1\" class=\"dataframe\">\n",
       "  <thead>\n",
       "    <tr style=\"text-align: right;\">\n",
       "      <th></th>\n",
       "      <th>Identifier</th>\n",
       "      <th>Name</th>\n",
       "      <th>Period</th>\n",
       "      <th>Period_YYYYMMDD</th>\n",
       "      <th>Ticker</th>\n",
       "      <th>Universe_Returns_F1W</th>\n",
       "      <th>Universe_Returns_F4W</th>\n",
       "      <th>Universe_Returns_F12W</th>\n",
       "      <th>Weight</th>\n",
       "      <th>GICS_Sector</th>\n",
       "      <th>GICS_Ind_Grp</th>\n",
       "      <th>Market_Cap_USD</th>\n",
       "      <th>Price_USD</th>\n",
       "      <th>NTM_EP</th>\n",
       "      <th>LTM_ROA</th>\n",
       "      <th>BP</th>\n",
       "      <th>LTM_EP</th>\n",
       "      <th>5Y_Sales_Growth</th>\n",
       "    </tr>\n",
       "  </thead>\n",
       "  <tbody>\n",
       "    <tr>\n",
       "      <th>623</th>\n",
       "      <td>28035Q10</td>\n",
       "      <td>Energizer Holdings, Inc.</td>\n",
       "      <td>12/31/2014</td>\n",
       "      <td>20141231</td>\n",
       "      <td>EPC-US</td>\n",
       "      <td>-0.038892</td>\n",
       "      <td>-0.583386</td>\n",
       "      <td>6.806850</td>\n",
       "      <td>0.000411</td>\n",
       "      <td>Consumer Staples</td>\n",
       "      <td>Household &amp; Personal Products</td>\n",
       "      <td>7940.2515</td>\n",
       "      <td>128.56</td>\n",
       "      <td>0.057188</td>\n",
       "      <td>5.219074</td>\n",
       "      <td>0.315735</td>\n",
       "      <td>0.044104</td>\n",
       "      <td>1.210838</td>\n",
       "    </tr>\n",
       "    <tr>\n",
       "      <th>1256</th>\n",
       "      <td>28035Q10</td>\n",
       "      <td>Edgewell Personal Care Co.</td>\n",
       "      <td>9/30/2015</td>\n",
       "      <td>20150930</td>\n",
       "      <td>EPC-US</td>\n",
       "      <td>2.450979</td>\n",
       "      <td>4.803920</td>\n",
       "      <td>-3.615195</td>\n",
       "      <td>0.000283</td>\n",
       "      <td>Consumer Staples</td>\n",
       "      <td>Household &amp; Personal Products</td>\n",
       "      <td>5074.6226</td>\n",
       "      <td>81.60</td>\n",
       "      <td>0.046905</td>\n",
       "      <td>0.422489</td>\n",
       "      <td>0.465605</td>\n",
       "      <td>0.005690</td>\n",
       "      <td>1.210838</td>\n",
       "    </tr>\n",
       "    <tr>\n",
       "      <th>1875</th>\n",
       "      <td>28035Q10</td>\n",
       "      <td>Edgewell Personal Care Co.</td>\n",
       "      <td>8/31/2016</td>\n",
       "      <td>20160831</td>\n",
       "      <td>EPC-US</td>\n",
       "      <td>-0.887388</td>\n",
       "      <td>-3.937012</td>\n",
       "      <td>1.149857</td>\n",
       "      <td>0.000240</td>\n",
       "      <td>Consumer Staples</td>\n",
       "      <td>Household &amp; Personal Products</td>\n",
       "      <td>4749.1510</td>\n",
       "      <td>80.01</td>\n",
       "      <td>0.045933</td>\n",
       "      <td>-1.146445</td>\n",
       "      <td>0.397503</td>\n",
       "      <td>-0.018301</td>\n",
       "      <td>-13.190861</td>\n",
       "    </tr>\n",
       "    <tr>\n",
       "      <th>2489</th>\n",
       "      <td>28035Q10</td>\n",
       "      <td>Edgewell Personal Care Co.</td>\n",
       "      <td>11/30/2016</td>\n",
       "      <td>20161130</td>\n",
       "      <td>EPC-US</td>\n",
       "      <td>-3.083146</td>\n",
       "      <td>-7.404602</td>\n",
       "      <td>3.247404</td>\n",
       "      <td>0.000236</td>\n",
       "      <td>Consumer Staples</td>\n",
       "      <td>Household &amp; Personal Products</td>\n",
       "      <td>4697.6340</td>\n",
       "      <td>79.14</td>\n",
       "      <td>0.049405</td>\n",
       "      <td>3.660685</td>\n",
       "      <td>0.399053</td>\n",
       "      <td>0.037727</td>\n",
       "      <td>-13.190861</td>\n",
       "    </tr>\n",
       "    <tr>\n",
       "      <th>3113</th>\n",
       "      <td>28035Q10</td>\n",
       "      <td>Edgewell Personal Care Co.</td>\n",
       "      <td>5/31/2017</td>\n",
       "      <td>20170531</td>\n",
       "      <td>EPC-US</td>\n",
       "      <td>2.871203</td>\n",
       "      <td>5.701387</td>\n",
       "      <td>2.406347</td>\n",
       "      <td>0.000195</td>\n",
       "      <td>Consumer Staples</td>\n",
       "      <td>Household &amp; Personal Products</td>\n",
       "      <td>4235.6543</td>\n",
       "      <td>73.14</td>\n",
       "      <td>0.054576</td>\n",
       "      <td>3.968354</td>\n",
       "      <td>0.440379</td>\n",
       "      <td>0.043888</td>\n",
       "      <td>-12.191879</td>\n",
       "    </tr>\n",
       "  </tbody>\n",
       "</table>\n",
       "</div>"
      ],
      "text/plain": [
       "     Identifier                        Name      Period  Period_YYYYMMDD  \\\n",
       "623    28035Q10    Energizer Holdings, Inc.  12/31/2014         20141231   \n",
       "1256   28035Q10  Edgewell Personal Care Co.   9/30/2015         20150930   \n",
       "1875   28035Q10  Edgewell Personal Care Co.   8/31/2016         20160831   \n",
       "2489   28035Q10  Edgewell Personal Care Co.  11/30/2016         20161130   \n",
       "3113   28035Q10  Edgewell Personal Care Co.   5/31/2017         20170531   \n",
       "\n",
       "      Ticker  Universe_Returns_F1W  Universe_Returns_F4W  \\\n",
       "623   EPC-US             -0.038892             -0.583386   \n",
       "1256  EPC-US              2.450979              4.803920   \n",
       "1875  EPC-US             -0.887388             -3.937012   \n",
       "2489  EPC-US             -3.083146             -7.404602   \n",
       "3113  EPC-US              2.871203              5.701387   \n",
       "\n",
       "      Universe_Returns_F12W    Weight       GICS_Sector  \\\n",
       "623                6.806850  0.000411  Consumer Staples   \n",
       "1256              -3.615195  0.000283  Consumer Staples   \n",
       "1875               1.149857  0.000240  Consumer Staples   \n",
       "2489               3.247404  0.000236  Consumer Staples   \n",
       "3113               2.406347  0.000195  Consumer Staples   \n",
       "\n",
       "                       GICS_Ind_Grp  Market_Cap_USD  Price_USD    NTM_EP  \\\n",
       "623   Household & Personal Products       7940.2515     128.56  0.057188   \n",
       "1256  Household & Personal Products       5074.6226      81.60  0.046905   \n",
       "1875  Household & Personal Products       4749.1510      80.01  0.045933   \n",
       "2489  Household & Personal Products       4697.6340      79.14  0.049405   \n",
       "3113  Household & Personal Products       4235.6543      73.14  0.054576   \n",
       "\n",
       "       LTM_ROA        BP    LTM_EP  5Y_Sales_Growth  \n",
       "623   5.219074  0.315735  0.044104         1.210838  \n",
       "1256  0.422489  0.465605  0.005690         1.210838  \n",
       "1875 -1.146445  0.397503 -0.018301       -13.190861  \n",
       "2489  3.660685  0.399053  0.037727       -13.190861  \n",
       "3113  3.968354  0.440379  0.043888       -12.191879  "
      ]
     },
     "execution_count": 50,
     "metadata": {},
     "output_type": "execute_result"
    }
   ],
   "source": [
    "data[data.Identifier == '28035Q10']"
   ]
  },
  {
   "cell_type": "markdown",
   "metadata": {},
   "source": [
    "#### What is the range of the continous variables?"
   ]
  },
  {
   "cell_type": "markdown",
   "metadata": {},
   "source": [
    "- Check out the date"
   ]
  },
  {
   "cell_type": "code",
   "execution_count": 74,
   "metadata": {},
   "outputs": [],
   "source": [
    "tuples = []\n",
    "for column in data.columns:\n",
    "    tuples.append((column, data[str(column)].map(type).unique()))"
   ]
  },
  {
   "cell_type": "code",
   "execution_count": 75,
   "metadata": {},
   "outputs": [
    {
     "data": {
      "text/html": [
       "<div>\n",
       "<style scoped>\n",
       "    .dataframe tbody tr th:only-of-type {\n",
       "        vertical-align: middle;\n",
       "    }\n",
       "\n",
       "    .dataframe tbody tr th {\n",
       "        vertical-align: top;\n",
       "    }\n",
       "\n",
       "    .dataframe thead th {\n",
       "        text-align: right;\n",
       "    }\n",
       "</style>\n",
       "<table border=\"1\" class=\"dataframe\">\n",
       "  <thead>\n",
       "    <tr style=\"text-align: right;\">\n",
       "      <th></th>\n",
       "      <th>0</th>\n",
       "      <th>1</th>\n",
       "    </tr>\n",
       "  </thead>\n",
       "  <tbody>\n",
       "    <tr>\n",
       "      <th>0</th>\n",
       "      <td>Identifier</td>\n",
       "      <td>[&lt;class 'str'&gt;]</td>\n",
       "    </tr>\n",
       "    <tr>\n",
       "      <th>1</th>\n",
       "      <td>Name</td>\n",
       "      <td>[&lt;class 'str'&gt;]</td>\n",
       "    </tr>\n",
       "    <tr>\n",
       "      <th>2</th>\n",
       "      <td>Period</td>\n",
       "      <td>[&lt;class 'str'&gt;]</td>\n",
       "    </tr>\n",
       "    <tr>\n",
       "      <th>3</th>\n",
       "      <td>Period_YYYYMMDD</td>\n",
       "      <td>[&lt;class 'int'&gt;]</td>\n",
       "    </tr>\n",
       "    <tr>\n",
       "      <th>4</th>\n",
       "      <td>Ticker</td>\n",
       "      <td>[&lt;class 'str'&gt;]</td>\n",
       "    </tr>\n",
       "    <tr>\n",
       "      <th>5</th>\n",
       "      <td>Universe_Returns_F1W</td>\n",
       "      <td>[&lt;class 'float'&gt;]</td>\n",
       "    </tr>\n",
       "    <tr>\n",
       "      <th>6</th>\n",
       "      <td>Universe_Returns_F4W</td>\n",
       "      <td>[&lt;class 'float'&gt;]</td>\n",
       "    </tr>\n",
       "    <tr>\n",
       "      <th>7</th>\n",
       "      <td>Universe_Returns_F12W</td>\n",
       "      <td>[&lt;class 'float'&gt;]</td>\n",
       "    </tr>\n",
       "    <tr>\n",
       "      <th>8</th>\n",
       "      <td>Weight</td>\n",
       "      <td>[&lt;class 'float'&gt;]</td>\n",
       "    </tr>\n",
       "    <tr>\n",
       "      <th>9</th>\n",
       "      <td>GICS_Sector</td>\n",
       "      <td>[&lt;class 'str'&gt;]</td>\n",
       "    </tr>\n",
       "    <tr>\n",
       "      <th>10</th>\n",
       "      <td>GICS_Ind_Grp</td>\n",
       "      <td>[&lt;class 'str'&gt;]</td>\n",
       "    </tr>\n",
       "    <tr>\n",
       "      <th>11</th>\n",
       "      <td>Market_Cap_USD</td>\n",
       "      <td>[&lt;class 'float'&gt;]</td>\n",
       "    </tr>\n",
       "    <tr>\n",
       "      <th>12</th>\n",
       "      <td>Price_USD</td>\n",
       "      <td>[&lt;class 'float'&gt;]</td>\n",
       "    </tr>\n",
       "    <tr>\n",
       "      <th>13</th>\n",
       "      <td>NTM_EP</td>\n",
       "      <td>[&lt;class 'float'&gt;]</td>\n",
       "    </tr>\n",
       "    <tr>\n",
       "      <th>14</th>\n",
       "      <td>LTM_ROA</td>\n",
       "      <td>[&lt;class 'float'&gt;]</td>\n",
       "    </tr>\n",
       "    <tr>\n",
       "      <th>15</th>\n",
       "      <td>BP</td>\n",
       "      <td>[&lt;class 'float'&gt;]</td>\n",
       "    </tr>\n",
       "    <tr>\n",
       "      <th>16</th>\n",
       "      <td>LTM_EP</td>\n",
       "      <td>[&lt;class 'float'&gt;]</td>\n",
       "    </tr>\n",
       "    <tr>\n",
       "      <th>17</th>\n",
       "      <td>5Y_Sales_Growth</td>\n",
       "      <td>[&lt;class 'float'&gt;]</td>\n",
       "    </tr>\n",
       "  </tbody>\n",
       "</table>\n",
       "</div>"
      ],
      "text/plain": [
       "                        0                  1\n",
       "0              Identifier    [<class 'str'>]\n",
       "1                    Name    [<class 'str'>]\n",
       "2                  Period    [<class 'str'>]\n",
       "3         Period_YYYYMMDD    [<class 'int'>]\n",
       "4                  Ticker    [<class 'str'>]\n",
       "5    Universe_Returns_F1W  [<class 'float'>]\n",
       "6    Universe_Returns_F4W  [<class 'float'>]\n",
       "7   Universe_Returns_F12W  [<class 'float'>]\n",
       "8                  Weight  [<class 'float'>]\n",
       "9             GICS_Sector    [<class 'str'>]\n",
       "10           GICS_Ind_Grp    [<class 'str'>]\n",
       "11         Market_Cap_USD  [<class 'float'>]\n",
       "12              Price_USD  [<class 'float'>]\n",
       "13                 NTM_EP  [<class 'float'>]\n",
       "14                LTM_ROA  [<class 'float'>]\n",
       "15                     BP  [<class 'float'>]\n",
       "16                 LTM_EP  [<class 'float'>]\n",
       "17        5Y_Sales_Growth  [<class 'float'>]"
      ]
     },
     "execution_count": 75,
     "metadata": {},
     "output_type": "execute_result"
    }
   ],
   "source": [
    "pd.DataFrame(tuples)"
   ]
  },
  {
   "cell_type": "code",
   "execution_count": 81,
   "metadata": {},
   "outputs": [],
   "source": [
    "#[len(str(i)) for i in data.Period_YYYYMMDD]"
   ]
  },
  {
   "cell_type": "code",
   "execution_count": 85,
   "metadata": {},
   "outputs": [
    {
     "data": {
      "text/plain": [
       "array([8])"
      ]
     },
     "execution_count": 85,
     "metadata": {},
     "output_type": "execute_result"
    }
   ],
   "source": [
    "data.Period_YYYYMMDD.map(str).map(len).unique()"
   ]
  },
  {
   "cell_type": "code",
   "execution_count": 89,
   "metadata": {},
   "outputs": [],
   "source": [
    "#pd.Timestamp()"
   ]
  },
  {
   "cell_type": "code",
   "execution_count": 97,
   "metadata": {},
   "outputs": [],
   "source": [
    "#converted = []\n",
    "#for row in data.Period_YYYYMMDD.map(str):\n",
    "#        converted.append(pd.Timestamp(year=int(row[0:4]), month=int(row[4:6]), day=int(row[6:8])))"
   ]
  },
  {
   "cell_type": "code",
   "execution_count": 98,
   "metadata": {},
   "outputs": [],
   "source": [
    "data.Period = [pd.to_datetime(i, format='%Y%m%d') for i in data.Period_YYYYMMDD]"
   ]
  },
  {
   "cell_type": "code",
   "execution_count": 189,
   "metadata": {},
   "outputs": [],
   "source": [
    "data['month'] = [date.month for date in data.Period]"
   ]
  },
  {
   "cell_type": "code",
   "execution_count": 191,
   "metadata": {},
   "outputs": [],
   "source": [
    "data['day'] = [date.day for date in data.Period]"
   ]
  },
  {
   "cell_type": "code",
   "execution_count": 192,
   "metadata": {},
   "outputs": [],
   "source": [
    "data['year'] = [date.year for date in data.Period]"
   ]
  },
  {
   "cell_type": "code",
   "execution_count": 161,
   "metadata": {},
   "outputs": [
    {
     "data": {
      "text/plain": [
       "count                   38304\n",
       "unique                     61\n",
       "top       2015-09-30 00:00:00\n",
       "freq                      637\n",
       "first     2014-12-31 00:00:00\n",
       "last      2018-12-26 00:00:00\n",
       "Name: Period, dtype: object"
      ]
     },
     "execution_count": 161,
     "metadata": {},
     "output_type": "execute_result"
    }
   ],
   "source": [
    "data.Period.describe()"
   ]
  },
  {
   "cell_type": "code",
   "execution_count": 162,
   "metadata": {},
   "outputs": [
    {
     "data": {
      "text/plain": [
       "<matplotlib.axes._subplots.AxesSubplot at 0x10da09208>"
      ]
     },
     "execution_count": 162,
     "metadata": {},
     "output_type": "execute_result"
    },
    {
     "data": {
      "image/png": "[encoded data removed]",
      "text/plain": [
       "<Figure size 432x288 with 1 Axes>"
      ]
     },
     "metadata": {},
     "output_type": "display_data"
    }
   ],
   "source": [
    "data.Period.plot()"
   ]
  },
  {
   "cell_type": "code",
   "execution_count": 195,
   "metadata": {},
   "outputs": [],
   "source": [
    "year_distr =data.groupby('year').count()['Identifier'].reset_index().sort_values('year')"
   ]
  },
  {
   "cell_type": "code",
   "execution_count": 201,
   "metadata": {},
   "outputs": [],
   "source": [
    "year_distr['relative'] = year_distr.Identifier / year_distr.Identifier.sum() *100"
   ]
  },
  {
   "cell_type": "code",
   "execution_count": 202,
   "metadata": {},
   "outputs": [
    {
     "data": {
      "text/html": [
       "<div>\n",
       "<style scoped>\n",
       "    .dataframe tbody tr th:only-of-type {\n",
       "        vertical-align: middle;\n",
       "    }\n",
       "\n",
       "    .dataframe tbody tr th {\n",
       "        vertical-align: top;\n",
       "    }\n",
       "\n",
       "    .dataframe thead th {\n",
       "        text-align: right;\n",
       "    }\n",
       "</style>\n",
       "<table border=\"1\" class=\"dataframe\">\n",
       "  <thead>\n",
       "    <tr style=\"text-align: right;\">\n",
       "      <th></th>\n",
       "      <th>year</th>\n",
       "      <th>Identifier</th>\n",
       "      <th>relative</th>\n",
       "    </tr>\n",
       "  </thead>\n",
       "  <tbody>\n",
       "    <tr>\n",
       "      <th>0</th>\n",
       "      <td>2014</td>\n",
       "      <td>631</td>\n",
       "      <td>1.647348</td>\n",
       "    </tr>\n",
       "    <tr>\n",
       "      <th>1</th>\n",
       "      <td>2015</td>\n",
       "      <td>637</td>\n",
       "      <td>1.663012</td>\n",
       "    </tr>\n",
       "    <tr>\n",
       "      <th>2</th>\n",
       "      <td>2016</td>\n",
       "      <td>1236</td>\n",
       "      <td>3.226817</td>\n",
       "    </tr>\n",
       "    <tr>\n",
       "      <th>3</th>\n",
       "      <td>2017</td>\n",
       "      <td>3156</td>\n",
       "      <td>8.239348</td>\n",
       "    </tr>\n",
       "    <tr>\n",
       "      <th>4</th>\n",
       "      <td>2018</td>\n",
       "      <td>32644</td>\n",
       "      <td>85.223475</td>\n",
       "    </tr>\n",
       "  </tbody>\n",
       "</table>\n",
       "</div>"
      ],
      "text/plain": [
       "   year  Identifier   relative\n",
       "0  2014         631   1.647348\n",
       "1  2015         637   1.663012\n",
       "2  2016        1236   3.226817\n",
       "3  2017        3156   8.239348\n",
       "4  2018       32644  85.223475"
      ]
     },
     "execution_count": 202,
     "metadata": {},
     "output_type": "execute_result"
    }
   ],
   "source": [
    "year_distr"
   ]
  },
  {
   "cell_type": "code",
   "execution_count": 302,
   "metadata": {},
   "outputs": [],
   "source": [
    "year_distr.to_csv('test.csv')"
   ]
  },
  {
   "cell_type": "code",
   "execution_count": 181,
   "metadata": {},
   "outputs": [],
   "source": [
    "#plt.figure(figsize=(20,10))\n",
    "#plt.plot(period.Period, period.Identifier)"
   ]
  },
  {
   "cell_type": "code",
   "execution_count": 281,
   "metadata": {},
   "outputs": [],
   "source": [
    "df_assets = data[(data.year == 2018 ) | (data.year == 2017)].reset_index()"
   ]
  },
  {
   "cell_type": "code",
   "execution_count": 282,
   "metadata": {},
   "outputs": [],
   "source": [
    "df_assets = df_assets.iloc[:,~df_assets.columns.isin(['index','Period_YYYYMMDD','month','day','year'])]"
   ]
  },
  {
   "cell_type": "code",
   "execution_count": 275,
   "metadata": {},
   "outputs": [
    {
     "data": {
      "text/html": [
       "<div>\n",
       "<style scoped>\n",
       "    .dataframe tbody tr th:only-of-type {\n",
       "        vertical-align: middle;\n",
       "    }\n",
       "\n",
       "    .dataframe tbody tr th {\n",
       "        vertical-align: top;\n",
       "    }\n",
       "\n",
       "    .dataframe thead th {\n",
       "        text-align: right;\n",
       "    }\n",
       "</style>\n",
       "<table border=\"1\" class=\"dataframe\">\n",
       "  <thead>\n",
       "    <tr style=\"text-align: right;\">\n",
       "      <th></th>\n",
       "      <th>Identifier</th>\n",
       "      <th>Name</th>\n",
       "      <th>Period</th>\n",
       "      <th>Ticker</th>\n",
       "      <th>Universe_Returns_F1W</th>\n",
       "      <th>Universe_Returns_F4W</th>\n",
       "      <th>Universe_Returns_F12W</th>\n",
       "      <th>Weight</th>\n",
       "      <th>GICS_Sector</th>\n",
       "      <th>GICS_Ind_Grp</th>\n",
       "      <th>Market_Cap_USD</th>\n",
       "      <th>Price_USD</th>\n",
       "      <th>NTM_EP</th>\n",
       "      <th>LTM_ROA</th>\n",
       "      <th>BP</th>\n",
       "      <th>LTM_EP</th>\n",
       "      <th>5Y_Sales_Growth</th>\n",
       "      <th>month</th>\n",
       "      <th>day</th>\n",
       "      <th>year</th>\n",
       "    </tr>\n",
       "  </thead>\n",
       "  <tbody>\n",
       "    <tr>\n",
       "      <th>0</th>\n",
       "      <td>17290810</td>\n",
       "      <td>Cintas Corporation</td>\n",
       "      <td>2017-05-31</td>\n",
       "      <td>CTAS-US</td>\n",
       "      <td>-1.104224</td>\n",
       "      <td>0.699079</td>\n",
       "      <td>6.490314</td>\n",
       "      <td>0.000487</td>\n",
       "      <td>Industrials</td>\n",
       "      <td>Commercial &amp; Professional Services</td>\n",
       "      <td>10567.439</td>\n",
       "      <td>125.88</td>\n",
       "      <td>0.039019</td>\n",
       "      <td>11.504222</td>\n",
       "      <td>0.166046</td>\n",
       "      <td>0.037012</td>\n",
       "      <td>5.222880</td>\n",
       "      <td>5</td>\n",
       "      <td>31</td>\n",
       "      <td>2017</td>\n",
       "    </tr>\n",
       "    <tr>\n",
       "      <th>1</th>\n",
       "      <td>80589M10</td>\n",
       "      <td>SCANA Corporation</td>\n",
       "      <td>2017-05-31</td>\n",
       "      <td>SCG-US</td>\n",
       "      <td>0.718486</td>\n",
       "      <td>0.621235</td>\n",
       "      <td>-11.214828</td>\n",
       "      <td>0.000427</td>\n",
       "      <td>Utilities</td>\n",
       "      <td>Utilities</td>\n",
       "      <td>9259.593</td>\n",
       "      <td>68.20</td>\n",
       "      <td>0.063528</td>\n",
       "      <td>3.288115</td>\n",
       "      <td>0.595745</td>\n",
       "      <td>0.060431</td>\n",
       "      <td>-1.332848</td>\n",
       "      <td>5</td>\n",
       "      <td>31</td>\n",
       "      <td>2017</td>\n",
       "    </tr>\n",
       "    <tr>\n",
       "      <th>2</th>\n",
       "      <td>50241310</td>\n",
       "      <td>L3 Technologies Inc</td>\n",
       "      <td>2017-05-31</td>\n",
       "      <td>LLL-US</td>\n",
       "      <td>-3.452158</td>\n",
       "      <td>-0.326234</td>\n",
       "      <td>6.780422</td>\n",
       "      <td>0.000601</td>\n",
       "      <td>Industrials</td>\n",
       "      <td>Capital Goods</td>\n",
       "      <td>13033.503</td>\n",
       "      <td>168.59</td>\n",
       "      <td>0.053755</td>\n",
       "      <td>5.374870</td>\n",
       "      <td>0.360253</td>\n",
       "      <td>0.048646</td>\n",
       "      <td>-6.111873</td>\n",
       "      <td>5</td>\n",
       "      <td>31</td>\n",
       "      <td>2017</td>\n",
       "    </tr>\n",
       "    <tr>\n",
       "      <th>3</th>\n",
       "      <td>91301710</td>\n",
       "      <td>United Technologies Corporation</td>\n",
       "      <td>2017-05-31</td>\n",
       "      <td>UTX-US</td>\n",
       "      <td>-1.236808</td>\n",
       "      <td>1.005936</td>\n",
       "      <td>-2.931857</td>\n",
       "      <td>0.004372</td>\n",
       "      <td>Industrials</td>\n",
       "      <td>Capital Goods</td>\n",
       "      <td>94869.510</td>\n",
       "      <td>121.28</td>\n",
       "      <td>0.055867</td>\n",
       "      <td>5.893464</td>\n",
       "      <td>0.283968</td>\n",
       "      <td>0.052882</td>\n",
       "      <td>-0.664265</td>\n",
       "      <td>5</td>\n",
       "      <td>31</td>\n",
       "      <td>2017</td>\n",
       "    </tr>\n",
       "    <tr>\n",
       "      <th>4</th>\n",
       "      <td>92939U10</td>\n",
       "      <td>WEC Energy Group Inc</td>\n",
       "      <td>2017-05-31</td>\n",
       "      <td>WEC-US</td>\n",
       "      <td>0.987899</td>\n",
       "      <td>-0.908220</td>\n",
       "      <td>4.482388</td>\n",
       "      <td>0.000913</td>\n",
       "      <td>Utilities</td>\n",
       "      <td>Utilities</td>\n",
       "      <td>19808.143</td>\n",
       "      <td>62.76</td>\n",
       "      <td>0.050564</td>\n",
       "      <td>3.215767</td>\n",
       "      <td>0.460755</td>\n",
       "      <td>0.047482</td>\n",
       "      <td>14.555154</td>\n",
       "      <td>5</td>\n",
       "      <td>31</td>\n",
       "      <td>2017</td>\n",
       "    </tr>\n",
       "  </tbody>\n",
       "</table>\n",
       "</div>"
      ],
      "text/plain": [
       "  Identifier                             Name     Period   Ticker  \\\n",
       "0   17290810               Cintas Corporation 2017-05-31  CTAS-US   \n",
       "1   80589M10                SCANA Corporation 2017-05-31   SCG-US   \n",
       "2   50241310              L3 Technologies Inc 2017-05-31   LLL-US   \n",
       "3   91301710  United Technologies Corporation 2017-05-31   UTX-US   \n",
       "4   92939U10             WEC Energy Group Inc 2017-05-31   WEC-US   \n",
       "\n",
       "   Universe_Returns_F1W  Universe_Returns_F4W  Universe_Returns_F12W  \\\n",
       "0             -1.104224              0.699079               6.490314   \n",
       "1              0.718486              0.621235             -11.214828   \n",
       "2             -3.452158             -0.326234               6.780422   \n",
       "3             -1.236808              1.005936              -2.931857   \n",
       "4              0.987899             -0.908220               4.482388   \n",
       "\n",
       "     Weight  GICS_Sector                        GICS_Ind_Grp  Market_Cap_USD  \\\n",
       "0  0.000487  Industrials  Commercial & Professional Services       10567.439   \n",
       "1  0.000427    Utilities                           Utilities        9259.593   \n",
       "2  0.000601  Industrials                       Capital Goods       13033.503   \n",
       "3  0.004372  Industrials                       Capital Goods       94869.510   \n",
       "4  0.000913    Utilities                           Utilities       19808.143   \n",
       "\n",
       "   Price_USD    NTM_EP    LTM_ROA        BP    LTM_EP  5Y_Sales_Growth  month  \\\n",
       "0     125.88  0.039019  11.504222  0.166046  0.037012         5.222880      5   \n",
       "1      68.20  0.063528   3.288115  0.595745  0.060431        -1.332848      5   \n",
       "2     168.59  0.053755   5.374870  0.360253  0.048646        -6.111873      5   \n",
       "3     121.28  0.055867   5.893464  0.283968  0.052882        -0.664265      5   \n",
       "4      62.76  0.050564   3.215767  0.460755  0.047482        14.555154      5   \n",
       "\n",
       "   day  year  \n",
       "0   31  2017  \n",
       "1   31  2017  \n",
       "2   31  2017  \n",
       "3   31  2017  \n",
       "4   31  2017  "
      ]
     },
     "execution_count": 275,
     "metadata": {},
     "output_type": "execute_result"
    }
   ],
   "source": [
    "df_assets.head()"
   ]
  },
  {
   "cell_type": "markdown",
   "metadata": {},
   "source": [
    "---"
   ]
  },
  {
   "cell_type": "code",
   "execution_count": 102,
   "metadata": {},
   "outputs": [],
   "source": [
    "sector = data.GICS_Sector.unique()"
   ]
  },
  {
   "cell_type": "code",
   "execution_count": 103,
   "metadata": {},
   "outputs": [
    {
     "name": "stdout",
     "output_type": "stream",
     "text": [
      "11 ['Industrials' 'Utilities' 'Information Technology' 'Health Care'\n",
      " 'Financials' 'Consumer Staples' 'Consumer Discretionary' 'Materials'\n",
      " 'Energy' 'Communication Services' 'Real Estate']\n"
     ]
    }
   ],
   "source": [
    "print(len(sector), sector)"
   ]
  },
  {
   "cell_type": "markdown",
   "metadata": {},
   "source": [
    "#### let's find out the distribution"
   ]
  },
  {
   "cell_type": "code",
   "execution_count": 108,
   "metadata": {},
   "outputs": [],
   "source": [
    "df_sector = data.groupby('GICS_Sector').count()['Identifier'].reset_index()"
   ]
  },
  {
   "cell_type": "code",
   "execution_count": 114,
   "metadata": {},
   "outputs": [],
   "source": [
    "df_sector['relative'] = round(df_sector.Identifier / df_sector.Identifier.sum() *100,2)"
   ]
  },
  {
   "cell_type": "code",
   "execution_count": 115,
   "metadata": {},
   "outputs": [
    {
     "data": {
      "text/html": [
       "<div>\n",
       "<style scoped>\n",
       "    .dataframe tbody tr th:only-of-type {\n",
       "        vertical-align: middle;\n",
       "    }\n",
       "\n",
       "    .dataframe tbody tr th {\n",
       "        vertical-align: top;\n",
       "    }\n",
       "\n",
       "    .dataframe thead th {\n",
       "        text-align: right;\n",
       "    }\n",
       "</style>\n",
       "<table border=\"1\" class=\"dataframe\">\n",
       "  <thead>\n",
       "    <tr style=\"text-align: right;\">\n",
       "      <th></th>\n",
       "      <th>GICS_Sector</th>\n",
       "      <th>Identifier</th>\n",
       "      <th>relative</th>\n",
       "    </tr>\n",
       "  </thead>\n",
       "  <tbody>\n",
       "    <tr>\n",
       "      <th>0</th>\n",
       "      <td>Communication Services</td>\n",
       "      <td>505</td>\n",
       "      <td>1.32</td>\n",
       "    </tr>\n",
       "    <tr>\n",
       "      <th>1</th>\n",
       "      <td>Consumer Discretionary</td>\n",
       "      <td>6043</td>\n",
       "      <td>15.78</td>\n",
       "    </tr>\n",
       "    <tr>\n",
       "      <th>2</th>\n",
       "      <td>Consumer Staples</td>\n",
       "      <td>2197</td>\n",
       "      <td>5.74</td>\n",
       "    </tr>\n",
       "    <tr>\n",
       "      <th>3</th>\n",
       "      <td>Energy</td>\n",
       "      <td>2357</td>\n",
       "      <td>6.15</td>\n",
       "    </tr>\n",
       "    <tr>\n",
       "      <th>4</th>\n",
       "      <td>Financials</td>\n",
       "      <td>5544</td>\n",
       "      <td>14.47</td>\n",
       "    </tr>\n",
       "    <tr>\n",
       "      <th>5</th>\n",
       "      <td>Health Care</td>\n",
       "      <td>4200</td>\n",
       "      <td>10.96</td>\n",
       "    </tr>\n",
       "    <tr>\n",
       "      <th>6</th>\n",
       "      <td>Industrials</td>\n",
       "      <td>5248</td>\n",
       "      <td>13.70</td>\n",
       "    </tr>\n",
       "    <tr>\n",
       "      <th>7</th>\n",
       "      <td>Information Technology</td>\n",
       "      <td>6117</td>\n",
       "      <td>15.97</td>\n",
       "    </tr>\n",
       "    <tr>\n",
       "      <th>8</th>\n",
       "      <td>Materials</td>\n",
       "      <td>1871</td>\n",
       "      <td>4.88</td>\n",
       "    </tr>\n",
       "    <tr>\n",
       "      <th>9</th>\n",
       "      <td>Real Estate</td>\n",
       "      <td>2264</td>\n",
       "      <td>5.91</td>\n",
       "    </tr>\n",
       "    <tr>\n",
       "      <th>10</th>\n",
       "      <td>Utilities</td>\n",
       "      <td>1958</td>\n",
       "      <td>5.11</td>\n",
       "    </tr>\n",
       "  </tbody>\n",
       "</table>\n",
       "</div>"
      ],
      "text/plain": [
       "               GICS_Sector  Identifier  relative\n",
       "0   Communication Services         505      1.32\n",
       "1   Consumer Discretionary        6043     15.78\n",
       "2         Consumer Staples        2197      5.74\n",
       "3                   Energy        2357      6.15\n",
       "4               Financials        5544     14.47\n",
       "5              Health Care        4200     10.96\n",
       "6              Industrials        5248     13.70\n",
       "7   Information Technology        6117     15.97\n",
       "8                Materials        1871      4.88\n",
       "9              Real Estate        2264      5.91\n",
       "10               Utilities        1958      5.11"
      ]
     },
     "execution_count": 115,
     "metadata": {},
     "output_type": "execute_result"
    }
   ],
   "source": [
    "df_sector"
   ]
  },
  {
   "cell_type": "code",
   "execution_count": 117,
   "metadata": {},
   "outputs": [
    {
     "data": {
      "text/plain": [
       "<BarContainer object of 11 artists>"
      ]
     },
     "execution_count": 117,
     "metadata": {},
     "output_type": "execute_result"
    },
    {
     "data": {
      "image/png": "[encoded data removed]",
      "text/plain": [
       "<Figure size 432x288 with 1 Axes>"
      ]
     },
     "metadata": {},
     "output_type": "display_data"
    }
   ],
   "source": [
    "plt.barh(df_sector.GICS_Sector, df_sector.relative)"
   ]
  },
  {
   "cell_type": "markdown",
   "metadata": {},
   "source": [
    "#### Now with the other category"
   ]
  },
  {
   "cell_type": "code",
   "execution_count": 142,
   "metadata": {},
   "outputs": [],
   "source": [
    "df_ind_grp = data.groupby('GICS_Ind_Grp').count()['Identifier'].reset_index().sort_values(by='Identifier')"
   ]
  },
  {
   "cell_type": "code",
   "execution_count": 146,
   "metadata": {},
   "outputs": [
    {
     "data": {
      "text/plain": [
       "<BarContainer object of 25 artists>"
      ]
     },
     "execution_count": 146,
     "metadata": {},
     "output_type": "execute_result"
    },
    {
     "data": {
      "image/png": "[encoded data removed]",
      "text/plain": [
       "<Figure size 720x504 with 1 Axes>"
      ]
     },
     "metadata": {},
     "output_type": "display_data"
    }
   ],
   "source": [
    "plt.figure(figsize=(10,7))\n",
    "plt.barh(df_ind_grp.GICS_Ind_Grp,df_ind_grp.Identifier)"
   ]
  },
  {
   "cell_type": "code",
   "execution_count": 153,
   "metadata": {},
   "outputs": [],
   "source": [
    "#plt.figure(figsize=(16,8))\n",
    "#squarify.plot(sizes=df_ind_grp.Identifier, label=df_ind_grp.GICS_Ind_Grp, alpha=.8 )"
   ]
  },
  {
   "cell_type": "markdown",
   "metadata": {},
   "source": [
    "#### Now we go with the continous variables"
   ]
  },
  {
   "cell_type": "code",
   "execution_count": 263,
   "metadata": {},
   "outputs": [
    {
     "data": {
      "text/plain": [
       "113.25087812368751"
      ]
     },
     "execution_count": 263,
     "metadata": {},
     "output_type": "execute_result"
    }
   ],
   "source": [
    "df_assets.Price_USD.mean()"
   ]
  },
  {
   "cell_type": "code",
   "execution_count": 265,
   "metadata": {},
   "outputs": [
    {
     "data": {
      "text/plain": [
       "182.55937864111445"
      ]
     },
     "execution_count": 265,
     "metadata": {},
     "output_type": "execute_result"
    }
   ],
   "source": [
    "df_assets.Price_USD.std()"
   ]
  },
  {
   "cell_type": "code",
   "execution_count": 272,
   "metadata": {},
   "outputs": [
    {
     "data": {
      "text/html": [
       "<div>\n",
       "<style scoped>\n",
       "    .dataframe tbody tr th:only-of-type {\n",
       "        vertical-align: middle;\n",
       "    }\n",
       "\n",
       "    .dataframe tbody tr th {\n",
       "        vertical-align: top;\n",
       "    }\n",
       "\n",
       "    .dataframe thead th {\n",
       "        text-align: right;\n",
       "    }\n",
       "</style>\n",
       "<table border=\"1\" class=\"dataframe\">\n",
       "  <thead>\n",
       "    <tr style=\"text-align: right;\">\n",
       "      <th></th>\n",
       "      <th>count</th>\n",
       "      <th>mean</th>\n",
       "      <th>std</th>\n",
       "      <th>min</th>\n",
       "      <th>25%</th>\n",
       "      <th>50%</th>\n",
       "      <th>75%</th>\n",
       "      <th>max</th>\n",
       "    </tr>\n",
       "  </thead>\n",
       "  <tbody>\n",
       "    <tr>\n",
       "      <th>Universe_Returns_F1W</th>\n",
       "      <td>35796.0</td>\n",
       "      <td>-0.066080</td>\n",
       "      <td>3.920771</td>\n",
       "      <td>-47.561474</td>\n",
       "      <td>-1.896907</td>\n",
       "      <td>0.213820</td>\n",
       "      <td>2.068147</td>\n",
       "      <td>4.686403e+01</td>\n",
       "    </tr>\n",
       "    <tr>\n",
       "      <th>Universe_Returns_F4W</th>\n",
       "      <td>35792.0</td>\n",
       "      <td>-0.154914</td>\n",
       "      <td>7.510207</td>\n",
       "      <td>-67.705421</td>\n",
       "      <td>-4.405210</td>\n",
       "      <td>0.245970</td>\n",
       "      <td>4.307598</td>\n",
       "      <td>6.350252e+01</td>\n",
       "    </tr>\n",
       "    <tr>\n",
       "      <th>Universe_Returns_F12W</th>\n",
       "      <td>35764.0</td>\n",
       "      <td>-0.884122</td>\n",
       "      <td>11.913881</td>\n",
       "      <td>-68.235580</td>\n",
       "      <td>-7.907254</td>\n",
       "      <td>-0.706375</td>\n",
       "      <td>6.261155</td>\n",
       "      <td>1.146000e+02</td>\n",
       "    </tr>\n",
       "    <tr>\n",
       "      <th>Weight</th>\n",
       "      <td>35800.0</td>\n",
       "      <td>0.001592</td>\n",
       "      <td>0.003071</td>\n",
       "      <td>0.000069</td>\n",
       "      <td>0.000401</td>\n",
       "      <td>0.000648</td>\n",
       "      <td>0.001453</td>\n",
       "      <td>4.499400e-02</td>\n",
       "    </tr>\n",
       "    <tr>\n",
       "      <th>Market_Cap_USD</th>\n",
       "      <td>35800.0</td>\n",
       "      <td>38810.098887</td>\n",
       "      <td>75002.591339</td>\n",
       "      <td>1536.665400</td>\n",
       "      <td>9779.084500</td>\n",
       "      <td>15830.107500</td>\n",
       "      <td>35477.188750</td>\n",
       "      <td>1.140656e+06</td>\n",
       "    </tr>\n",
       "    <tr>\n",
       "      <th>Price_USD</th>\n",
       "      <td>35800.0</td>\n",
       "      <td>113.250878</td>\n",
       "      <td>182.559379</td>\n",
       "      <td>3.410000</td>\n",
       "      <td>45.700000</td>\n",
       "      <td>74.890000</td>\n",
       "      <td>125.982500</td>\n",
       "      <td>3.646690e+03</td>\n",
       "    </tr>\n",
       "    <tr>\n",
       "      <th>NTM_EP</th>\n",
       "      <td>35745.0</td>\n",
       "      <td>0.060391</td>\n",
       "      <td>0.031731</td>\n",
       "      <td>-0.198387</td>\n",
       "      <td>0.042056</td>\n",
       "      <td>0.057127</td>\n",
       "      <td>0.076860</td>\n",
       "      <td>2.918300e-01</td>\n",
       "    </tr>\n",
       "    <tr>\n",
       "      <th>LTM_ROA</th>\n",
       "      <td>35757.0</td>\n",
       "      <td>5.877302</td>\n",
       "      <td>7.200247</td>\n",
       "      <td>-70.063467</td>\n",
       "      <td>1.714856</td>\n",
       "      <td>4.924519</td>\n",
       "      <td>9.032338</td>\n",
       "      <td>6.473507e+01</td>\n",
       "    </tr>\n",
       "    <tr>\n",
       "      <th>BP</th>\n",
       "      <td>35790.0</td>\n",
       "      <td>0.363210</td>\n",
       "      <td>0.306704</td>\n",
       "      <td>-0.341276</td>\n",
       "      <td>0.149641</td>\n",
       "      <td>0.291583</td>\n",
       "      <td>0.503166</td>\n",
       "      <td>3.374985e+00</td>\n",
       "    </tr>\n",
       "    <tr>\n",
       "      <th>LTM_EP</th>\n",
       "      <td>35733.0</td>\n",
       "      <td>0.039619</td>\n",
       "      <td>0.052291</td>\n",
       "      <td>-0.760417</td>\n",
       "      <td>0.020035</td>\n",
       "      <td>0.039754</td>\n",
       "      <td>0.059893</td>\n",
       "      <td>3.543030e-01</td>\n",
       "    </tr>\n",
       "    <tr>\n",
       "      <th>5Y_Sales_Growth</th>\n",
       "      <td>35705.0</td>\n",
       "      <td>17.056638</td>\n",
       "      <td>323.438469</td>\n",
       "      <td>-100.000000</td>\n",
       "      <td>0.474566</td>\n",
       "      <td>5.152535</td>\n",
       "      <td>11.815140</td>\n",
       "      <td>1.403975e+04</td>\n",
       "    </tr>\n",
       "  </tbody>\n",
       "</table>\n",
       "</div>"
      ],
      "text/plain": [
       "                         count          mean           std          min  \\\n",
       "Universe_Returns_F1W   35796.0     -0.066080      3.920771   -47.561474   \n",
       "Universe_Returns_F4W   35792.0     -0.154914      7.510207   -67.705421   \n",
       "Universe_Returns_F12W  35764.0     -0.884122     11.913881   -68.235580   \n",
       "Weight                 35800.0      0.001592      0.003071     0.000069   \n",
       "Market_Cap_USD         35800.0  38810.098887  75002.591339  1536.665400   \n",
       "Price_USD              35800.0    113.250878    182.559379     3.410000   \n",
       "NTM_EP                 35745.0      0.060391      0.031731    -0.198387   \n",
       "LTM_ROA                35757.0      5.877302      7.200247   -70.063467   \n",
       "BP                     35790.0      0.363210      0.306704    -0.341276   \n",
       "LTM_EP                 35733.0      0.039619      0.052291    -0.760417   \n",
       "5Y_Sales_Growth        35705.0     17.056638    323.438469  -100.000000   \n",
       "\n",
       "                               25%           50%           75%           max  \n",
       "Universe_Returns_F1W     -1.896907      0.213820      2.068147  4.686403e+01  \n",
       "Universe_Returns_F4W     -4.405210      0.245970      4.307598  6.350252e+01  \n",
       "Universe_Returns_F12W    -7.907254     -0.706375      6.261155  1.146000e+02  \n",
       "Weight                    0.000401      0.000648      0.001453  4.499400e-02  \n",
       "Market_Cap_USD         9779.084500  15830.107500  35477.188750  1.140656e+06  \n",
       "Price_USD                45.700000     74.890000    125.982500  3.646690e+03  \n",
       "NTM_EP                    0.042056      0.057127      0.076860  2.918300e-01  \n",
       "LTM_ROA                   1.714856      4.924519      9.032338  6.473507e+01  \n",
       "BP                        0.149641      0.291583      0.503166  3.374985e+00  \n",
       "LTM_EP                    0.020035      0.039754      0.059893  3.543030e-01  \n",
       "5Y_Sales_Growth           0.474566      5.152535     11.815140  1.403975e+04  "
      ]
     },
     "execution_count": 272,
     "metadata": {},
     "output_type": "execute_result"
    }
   ],
   "source": [
    "df_assets._get_numeric_data().describe().T"
   ]
  },
  {
   "cell_type": "markdown",
   "metadata": {},
   "source": [
    "Let's take the market capital and plot it over the time"
   ]
  },
  {
   "cell_type": "code",
   "execution_count": 296,
   "metadata": {},
   "outputs": [
    {
     "data": {
      "text/plain": [
       "<matplotlib.axes._subplots.AxesSubplot at 0x111217940>"
      ]
     },
     "execution_count": 296,
     "metadata": {},
     "output_type": "execute_result"
    },
    {
     "data": {
      "image/png": "[encoded data removed]",
      "text/plain": [
       "<Figure size 432x288 with 1 Axes>"
      ]
     },
     "metadata": {},
     "output_type": "display_data"
    }
   ],
   "source": [
    "df_assets.groupby('Period').mean()['Market_Cap_USD'].plot()"
   ]
  },
  {
   "cell_type": "code",
   "execution_count": 295,
   "metadata": {},
   "outputs": [],
   "source": [
    "#df_assets.groupby('Period').mean()['5Y_Sales_Growth'].plot()"
   ]
  },
  {
   "cell_type": "code",
   "execution_count": 298,
   "metadata": {},
   "outputs": [],
   "source": [
    "market_label = []\n",
    "for i in df_assets.Market_Cap_USD:\n",
    "    if i > 38000:\n",
    "        market_label.append('>38')\n",
    "    else:\n",
    "        market_label.append('<38')"
   ]
  },
  {
   "cell_type": "code",
   "execution_count": 300,
   "metadata": {},
   "outputs": [],
   "source": [
    "df_assets['market_label'] = market_label"
   ]
  }
 ],
 "metadata": {
  "kernelspec": {
   "display_name": "Python 3",
   "language": "python",
   "name": "python3"
  },
  "language_info": {
   "codemirror_mode": {
    "name": "ipython",
    "version": 3
   },
   "file_extension": ".py",
   "mimetype": "text/x-python",
   "name": "python",
   "nbconvert_exporter": "python",
   "pygments_lexer": "ipython3",
   "version": "3.6.5"
  }
 },
 "nbformat": 4,
 "nbformat_minor": 2
}
