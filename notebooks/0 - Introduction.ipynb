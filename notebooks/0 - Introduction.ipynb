{
 "cells": [
  {
   "cell_type": "markdown",
   "metadata": {
    "slideshow": {
     "slide_type": "slide"
    }
   },
   "source": [
    "![](../img/bootcamp.png)"
   ]
  },
  {
   "cell_type": "markdown",
   "metadata": {
    "slideshow": {
     "slide_type": "subslide"
    }
   },
   "source": [
    "## 1st Module\n",
    "|  Notebook| Topic |\n",
    "| :---: | :---: |\n",
    "| 1| Intro to Python for Data Science |\n",
    "|2| Data Transformation with Pandas | \n",
    "|3| Object oriented programming |\n",
    "|4| Exploratory Data Analysis |\n",
    "|5| Intro to Visualization |\n",
    "|6| Dynamic Notebooks and Plotly |"
   ]
  },
  {
   "cell_type": "markdown",
   "metadata": {
    "slideshow": {
     "slide_type": "slide"
    }
   },
   "source": [
    "# Intro to Python for Data Science\n",
    "## [Pedro Hernandez](https://www.maastrichtuniversity.nl/research/institutes/ids/people)"
   ]
  },
  {
   "cell_type": "markdown",
   "metadata": {
    "slideshow": {
     "slide_type": "slide"
    }
   },
   "source": [
    "## Python for Data Science a Trend?"
   ]
  },
  {
   "cell_type": "markdown",
   "metadata": {
    "slideshow": {
     "slide_type": "subslide"
    }
   },
   "source": [
    "![](../img/stackover1.png)\n",
    "Source: https://insights.stackoverflow.com/trends"
   ]
  },
  {
   "cell_type": "markdown",
   "metadata": {
    "slideshow": {
     "slide_type": "subslide"
    }
   },
   "source": [
    "![](../img/gtrend.png)"
   ]
  },
  {
   "cell_type": "markdown",
   "metadata": {
    "slideshow": {
     "slide_type": "subslide"
    }
   },
   "source": [
    "## Correlation =! Causation"
   ]
  },
  {
   "cell_type": "markdown",
   "metadata": {
    "slideshow": {
     "slide_type": "fragment"
    }
   },
   "source": [
    "![](../img/spcorr.png)"
   ]
  },
  {
   "cell_type": "markdown",
   "metadata": {
    "slideshow": {
     "slide_type": "slide"
    }
   },
   "source": [
    "## Python for Data Science search"
   ]
  },
  {
   "cell_type": "markdown",
   "metadata": {
    "slideshow": {
     "slide_type": "subslide"
    }
   },
   "source": [
    "![](../img/stackover2.png)"
   ]
  },
  {
   "cell_type": "markdown",
   "metadata": {
    "slideshow": {
     "slide_type": "subslide"
    }
   },
   "source": [
    "## Why Python\n",
    "\n",
    "- As a general purpose language, Python supports a large range of tasks.\n",
    "    - Or put another way: 'Python isn't the best at anything, but it's second best at everything'\n",
    "    - This is useful. A data science project may include everything from scraping data from the web, analyzing a mixture or text and numerical data, computing features, training a model, creating high-quality graphs, and then hosting a website with your results.\n",
    "- Python is explicitly and by design, user-friendly.\n",
    "- Python also has a massive user community, who contribute to a large number of high-quality, well maintained open-source tools.\n",
    "    - The best language for your project is one which has the things you need.\n",
    "- In part for the reasons listed above, Python is heavily used in industry."
   ]
  },
  {
   "cell_type": "markdown",
   "metadata": {
    "slideshow": {
     "slide_type": "subslide"
    }
   },
   "source": [
    "Python is an ,\n",
    "    <a href=\"https://en.wikipedia.org/wiki/Open-source_model\" class=\"alert-link\">open-source</a>\n",
    "    <a href=\"https://en.wikipedia.org/wiki/High-level_programming_language\" class=\"alert-link\">high-level </a>,\n",
    "    <a href=\"https://en.wikipedia.org/wiki/General-purpose_programming_language\" class=\"alert-link\">general purpose</a>,\n",
    "    <a href=\"https://en.wikipedia.org/wiki/Interpreted_language\" class=\"alert-link\">interpreted</a>,\n",
    "    <a href=\"https://en.wikipedia.org/wiki/Programming_language\" class=\"alert-link\">programming language</a>,\n",
    "    one of the most popular for data science applications."
   ]
  },
  {
   "cell_type": "markdown",
   "metadata": {
    "slideshow": {
     "slide_type": "slide"
    }
   },
   "source": [
    "## The term no one really defined\n",
    "- What is data science?\n",
    "\n",
    "> Data science is the discipline of making data useful.\n",
    "\n",
    "<img src=\"../img/awesome-me.gif\" alt=\"HTML5 Icon\">"
   ]
  },
  {
   "cell_type": "markdown",
   "metadata": {
    "slideshow": {
     "slide_type": "subslide"
    }
   },
   "source": [
    "![](../img/post1.png)"
   ]
  },
  {
   "cell_type": "markdown",
   "metadata": {
    "slideshow": {
     "slide_type": "subslide"
    }
   },
   "source": [
    "![](../img/post2.png)\n",
    "Source: https://www.dataversity.net/data-scientist-future-will/#"
   ]
  },
  {
   "cell_type": "markdown",
   "metadata": {
    "slideshow": {
     "slide_type": "slide"
    }
   },
   "source": [
    "## What is data science?\n",
    "\n",
    "![](../img/datasciencerole.png)\n",
    "\n",
    "Source: [Why businesses fail at machine learning](https://hackernoon.com/why-businesses-fail-at-machine-learning-fbff41c4d5db)\n",
    "\n"
   ]
  },
  {
   "cell_type": "markdown",
   "metadata": {
    "slideshow": {
     "slide_type": "subslide"
    }
   },
   "source": [
    "## General Process \n",
    "\n",
    "![](http://scientistcafe.com/book/Figure/GeneralProcessEN.png)\n",
    "\n"
   ]
  },
  {
   "cell_type": "markdown",
   "metadata": {
    "slideshow": {
     "slide_type": "subslide"
    }
   },
   "source": [
    "## The Data Science Pipeline\n",
    "\n",
    "![](../img/ds.png)"
   ]
  },
  {
   "cell_type": "markdown",
   "metadata": {
    "slideshow": {
     "slide_type": "slide"
    }
   },
   "source": [
    "---\n",
    "### Fire up the work environment \n",
    "\n",
    "# bit.ly/Bootcamp_PGGM"
   ]
  },
  {
   "cell_type": "markdown",
   "metadata": {},
   "source": [
    "---\n",
    "First assingment \n",
    "# bit.ly/bootcamp_ex1"
   ]
  },
  {
   "cell_type": "markdown",
   "metadata": {},
   "source": [
    "---\n",
    "First notebook\n",
    "\n",
    "# bit.ly/bootcamp_notebook1"
   ]
  },
  {
   "cell_type": "markdown",
   "metadata": {},
   "source": []
  },
  {
   "cell_type": "code",
   "execution_count": null,
   "metadata": {},
   "outputs": [],
   "source": []
  }
 ],
 "metadata": {
  "celltoolbar": "Slideshow",
  "kernelspec": {
   "display_name": "Python 3",
   "language": "python",
   "name": "python3"
  },
  "language_info": {
   "codemirror_mode": {
    "name": "ipython",
    "version": 3
   },
   "file_extension": ".py",
   "mimetype": "text/x-python",
   "name": "python",
   "nbconvert_exporter": "python",
   "pygments_lexer": "ipython3",
   "version": "3.6.5"
  },
  "latex_envs": {
   "LaTeX_envs_menu_present": true,
   "autoclose": false,
   "autocomplete": true,
   "bibliofile": "biblio.bib",
   "cite_by": "apalike",
   "current_citInitial": 1,
   "eqLabelWithNumbers": true,
   "eqNumInitial": 1,
   "hotkeys": {
    "equation": "Ctrl-E",
    "itemize": "Ctrl-I"
   },
   "labels_anchors": false,
   "latex_user_defs": false,
   "report_style_numbering": false,
   "user_envs_cfg": false
  }
 },
 "nbformat": 4,
 "nbformat_minor": 2
}
