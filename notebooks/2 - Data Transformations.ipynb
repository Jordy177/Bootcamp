{
 "cells": [
  {
   "cell_type": "markdown",
   "metadata": {},
   "source": [
    "## Data Wrangling with Pandas"
   ]
  },
  {
   "cell_type": "markdown",
   "metadata": {
    "colab_type": "text",
    "id": "cWBtBMlJEjpD"
   },
   "source": [
    "**[Pandas](http://pandas.pydata.org)** is a Python library that provides extensive means for data analysis. Data scientists often work with data stored in table formats like `.csv`, `.tsv`, or `.xlsx`. Pandas makes it very convenient to load, process, and analyze such tabular data using SQL-like queries. In conjunction with `Matplotlib` and `Seaborn`, `Pandas` provides a wide range of opportunities for visual analysis of tabular data. \n",
    "\n",
    "The main data structures in `Pandas` are implemented with **Series** and **DataFrame** classes. The former is a one-dimensional indexed array of some fixed data type. The latter is a two-dimensional data structure - a table - where each column contains data of the same type. You can see it as a dictionary of `Series` instances. `DataFrames` are great for representing real data: rows correspond to instances (examples, observations, etc.), and columns correspond to features of these instances."
   ]
  },
  {
   "cell_type": "code",
   "execution_count": 1,
   "metadata": {},
   "outputs": [],
   "source": [
    "import pandas as pd\n",
    "import matplotlib.pyplot as plt\n",
    "%matplotlib inline"
   ]
  },
  {
   "cell_type": "markdown",
   "metadata": {},
   "source": [
    "** Get to know your data **"
   ]
  },
  {
   "cell_type": "markdown",
   "metadata": {
    "colab_type": "text",
    "id": "5LoG4cbMFjoo"
   },
   "source": [
    "We’ll demonstrate the main methods in action by analyzing a sample dataset provided by PGGM. Let’s read the data (using `read_csv`), and take a look at the first 5 lines using the `head` method:"
   ]
  },
  {
   "cell_type": "code",
   "execution_count": 2,
   "metadata": {},
   "outputs": [],
   "source": [
    "data = pd.read_csv('http://bit.ly/PGGM_dataset')"
   ]
  },
  {
   "cell_type": "markdown",
   "metadata": {},
   "source": [
    "** Shape of the data **"
   ]
  },
  {
   "cell_type": "code",
   "execution_count": 10,
   "metadata": {},
   "outputs": [
    {
     "data": {
      "text/plain": [
       "(38304, 18)"
      ]
     },
     "execution_count": 10,
     "metadata": {},
     "output_type": "execute_result"
    }
   ],
   "source": [
    "data.shape"
   ]
  },
  {
   "cell_type": "code",
   "execution_count": 11,
   "metadata": {},
   "outputs": [
    {
     "data": {
      "text/html": [
       "<div>\n",
       "<style scoped>\n",
       "    .dataframe tbody tr th:only-of-type {\n",
       "        vertical-align: middle;\n",
       "    }\n",
       "\n",
       "    .dataframe tbody tr th {\n",
       "        vertical-align: top;\n",
       "    }\n",
       "\n",
       "    .dataframe thead th {\n",
       "        text-align: right;\n",
       "    }\n",
       "</style>\n",
       "<table border=\"1\" class=\"dataframe\">\n",
       "  <thead>\n",
       "    <tr style=\"text-align: right;\">\n",
       "      <th></th>\n",
       "      <th>Identifier</th>\n",
       "      <th>Name</th>\n",
       "      <th>Period</th>\n",
       "      <th>Period_YYYYMMDD</th>\n",
       "      <th>Ticker</th>\n",
       "      <th>Universe_Returns_F1W</th>\n",
       "      <th>Universe_Returns_F4W</th>\n",
       "      <th>Universe_Returns_F12W</th>\n",
       "      <th>Weight</th>\n",
       "      <th>GICS_Sector</th>\n",
       "      <th>GICS_Ind_Grp</th>\n",
       "      <th>Market_Cap_USD</th>\n",
       "      <th>Price_USD</th>\n",
       "      <th>NTM_EP</th>\n",
       "      <th>LTM_ROA</th>\n",
       "      <th>BP</th>\n",
       "      <th>LTM_EP</th>\n",
       "      <th>5Y_Sales_Growth</th>\n",
       "    </tr>\n",
       "  </thead>\n",
       "  <tbody>\n",
       "    <tr>\n",
       "      <th>0</th>\n",
       "      <td>17290810</td>\n",
       "      <td>Cintas Corporation</td>\n",
       "      <td>12/31/2014</td>\n",
       "      <td>20141231</td>\n",
       "      <td>CTAS-US</td>\n",
       "      <td>-2.517855</td>\n",
       "      <td>-0.121111</td>\n",
       "      <td>4.156041</td>\n",
       "      <td>0.000402</td>\n",
       "      <td>Industrials</td>\n",
       "      <td>Commercial &amp; Professional Services</td>\n",
       "      <td>7761.120</td>\n",
       "      <td>78.44</td>\n",
       "      <td>0.044387</td>\n",
       "      <td>9.089989</td>\n",
       "      <td>0.246962</td>\n",
       "      <td>0.042708</td>\n",
       "      <td>4.718765</td>\n",
       "    </tr>\n",
       "    <tr>\n",
       "      <th>1</th>\n",
       "      <td>80589M10</td>\n",
       "      <td>SCANA Corporation</td>\n",
       "      <td>12/31/2014</td>\n",
       "      <td>20141231</td>\n",
       "      <td>SCG-US</td>\n",
       "      <td>2.036428</td>\n",
       "      <td>6.307948</td>\n",
       "      <td>-8.426744</td>\n",
       "      <td>0.000422</td>\n",
       "      <td>Utilities</td>\n",
       "      <td>Utilities</td>\n",
       "      <td>8151.001</td>\n",
       "      <td>60.40</td>\n",
       "      <td>0.061397</td>\n",
       "      <td>3.472852</td>\n",
       "      <td>0.572871</td>\n",
       "      <td>0.062748</td>\n",
       "      <td>-0.949881</td>\n",
       "    </tr>\n",
       "    <tr>\n",
       "      <th>2</th>\n",
       "      <td>50241310</td>\n",
       "      <td>L-3 Communications Holdings Inc.</td>\n",
       "      <td>12/31/2014</td>\n",
       "      <td>20141231</td>\n",
       "      <td>LLL-US</td>\n",
       "      <td>-0.396162</td>\n",
       "      <td>-1.283580</td>\n",
       "      <td>-0.753021</td>\n",
       "      <td>0.000563</td>\n",
       "      <td>Industrials</td>\n",
       "      <td>Capital Goods</td>\n",
       "      <td>10883.341</td>\n",
       "      <td>126.21</td>\n",
       "      <td>0.060554</td>\n",
       "      <td>4.744629</td>\n",
       "      <td>0.570099</td>\n",
       "      <td>0.059821</td>\n",
       "      <td>-4.316938</td>\n",
       "    </tr>\n",
       "    <tr>\n",
       "      <th>3</th>\n",
       "      <td>91301710</td>\n",
       "      <td>United Technologies Corporation</td>\n",
       "      <td>12/31/2014</td>\n",
       "      <td>20141231</td>\n",
       "      <td>UTX-US</td>\n",
       "      <td>-1.973909</td>\n",
       "      <td>1.669562</td>\n",
       "      <td>1.815629</td>\n",
       "      <td>0.005174</td>\n",
       "      <td>Industrials</td>\n",
       "      <td>Capital Goods</td>\n",
       "      <td>99942.990</td>\n",
       "      <td>115.00</td>\n",
       "      <td>0.062889</td>\n",
       "      <td>6.805052</td>\n",
       "      <td>0.325584</td>\n",
       "      <td>0.059088</td>\n",
       "      <td>3.083364</td>\n",
       "    </tr>\n",
       "    <tr>\n",
       "      <th>4</th>\n",
       "      <td>92939U10</td>\n",
       "      <td>Wisconsin Energy Corporation</td>\n",
       "      <td>12/31/2014</td>\n",
       "      <td>20141231</td>\n",
       "      <td>WEC-US</td>\n",
       "      <td>1.118696</td>\n",
       "      <td>7.679176</td>\n",
       "      <td>-6.160975</td>\n",
       "      <td>0.000616</td>\n",
       "      <td>Utilities</td>\n",
       "      <td>Utilities</td>\n",
       "      <td>11893.872</td>\n",
       "      <td>52.74</td>\n",
       "      <td>0.051359</td>\n",
       "      <td>4.201019</td>\n",
       "      <td>0.369798</td>\n",
       "      <td>0.050815</td>\n",
       "      <td>1.421392</td>\n",
       "    </tr>\n",
       "  </tbody>\n",
       "</table>\n",
       "</div>"
      ],
      "text/plain": [
       "  Identifier                              Name      Period  Period_YYYYMMDD  \\\n",
       "0   17290810                Cintas Corporation  12/31/2014         20141231   \n",
       "1   80589M10                 SCANA Corporation  12/31/2014         20141231   \n",
       "2   50241310  L-3 Communications Holdings Inc.  12/31/2014         20141231   \n",
       "3   91301710   United Technologies Corporation  12/31/2014         20141231   \n",
       "4   92939U10      Wisconsin Energy Corporation  12/31/2014         20141231   \n",
       "\n",
       "    Ticker  Universe_Returns_F1W  Universe_Returns_F4W  Universe_Returns_F12W  \\\n",
       "0  CTAS-US             -2.517855             -0.121111               4.156041   \n",
       "1   SCG-US              2.036428              6.307948              -8.426744   \n",
       "2   LLL-US             -0.396162             -1.283580              -0.753021   \n",
       "3   UTX-US             -1.973909              1.669562               1.815629   \n",
       "4   WEC-US              1.118696              7.679176              -6.160975   \n",
       "\n",
       "     Weight  GICS_Sector                        GICS_Ind_Grp  Market_Cap_USD  \\\n",
       "0  0.000402  Industrials  Commercial & Professional Services        7761.120   \n",
       "1  0.000422    Utilities                           Utilities        8151.001   \n",
       "2  0.000563  Industrials                       Capital Goods       10883.341   \n",
       "3  0.005174  Industrials                       Capital Goods       99942.990   \n",
       "4  0.000616    Utilities                           Utilities       11893.872   \n",
       "\n",
       "   Price_USD    NTM_EP   LTM_ROA        BP    LTM_EP  5Y_Sales_Growth  \n",
       "0      78.44  0.044387  9.089989  0.246962  0.042708         4.718765  \n",
       "1      60.40  0.061397  3.472852  0.572871  0.062748        -0.949881  \n",
       "2     126.21  0.060554  4.744629  0.570099  0.059821        -4.316938  \n",
       "3     115.00  0.062889  6.805052  0.325584  0.059088         3.083364  \n",
       "4      52.74  0.051359  4.201019  0.369798  0.050815         1.421392  "
      ]
     },
     "execution_count": 11,
     "metadata": {},
     "output_type": "execute_result"
    }
   ],
   "source": [
    "data.head()"
   ]
  },
  {
   "cell_type": "code",
   "execution_count": 9,
   "metadata": {},
   "outputs": [
    {
     "data": {
      "text/html": [
       "<div>\n",
       "<style scoped>\n",
       "    .dataframe tbody tr th:only-of-type {\n",
       "        vertical-align: middle;\n",
       "    }\n",
       "\n",
       "    .dataframe tbody tr th {\n",
       "        vertical-align: top;\n",
       "    }\n",
       "\n",
       "    .dataframe thead th {\n",
       "        text-align: right;\n",
       "    }\n",
       "</style>\n",
       "<table border=\"1\" class=\"dataframe\">\n",
       "  <thead>\n",
       "    <tr style=\"text-align: right;\">\n",
       "      <th></th>\n",
       "      <th>Period_YYYYMMDD</th>\n",
       "      <th>Universe_Returns_F1W</th>\n",
       "      <th>Universe_Returns_F4W</th>\n",
       "      <th>Universe_Returns_F12W</th>\n",
       "      <th>Weight</th>\n",
       "      <th>Market_Cap_USD</th>\n",
       "      <th>Price_USD</th>\n",
       "      <th>NTM_EP</th>\n",
       "      <th>LTM_ROA</th>\n",
       "      <th>BP</th>\n",
       "      <th>LTM_EP</th>\n",
       "      <th>5Y_Sales_Growth</th>\n",
       "    </tr>\n",
       "  </thead>\n",
       "  <tbody>\n",
       "    <tr>\n",
       "      <th>count</th>\n",
       "      <td>3.830400e+04</td>\n",
       "      <td>38300.000000</td>\n",
       "      <td>38296.000000</td>\n",
       "      <td>38268.000000</td>\n",
       "      <td>38304.000000</td>\n",
       "      <td>3.830400e+04</td>\n",
       "      <td>38304.000000</td>\n",
       "      <td>38246.000000</td>\n",
       "      <td>38245.000000</td>\n",
       "      <td>38288.000000</td>\n",
       "      <td>38215.000000</td>\n",
       "      <td>38197.000000</td>\n",
       "    </tr>\n",
       "    <tr>\n",
       "      <th>mean</th>\n",
       "      <td>2.017809e+07</td>\n",
       "      <td>0.037778</td>\n",
       "      <td>-0.025070</td>\n",
       "      <td>-0.534635</td>\n",
       "      <td>0.001593</td>\n",
       "      <td>3.828089e+04</td>\n",
       "      <td>111.173980</td>\n",
       "      <td>0.060218</td>\n",
       "      <td>5.842138</td>\n",
       "      <td>0.365269</td>\n",
       "      <td>0.039273</td>\n",
       "      <td>16.717226</td>\n",
       "    </tr>\n",
       "    <tr>\n",
       "      <th>std</th>\n",
       "      <td>7.340507e+03</td>\n",
       "      <td>3.982946</td>\n",
       "      <td>7.509304</td>\n",
       "      <td>11.969478</td>\n",
       "      <td>0.003048</td>\n",
       "      <td>7.374643e+04</td>\n",
       "      <td>178.296736</td>\n",
       "      <td>0.031881</td>\n",
       "      <td>7.245260</td>\n",
       "      <td>0.308932</td>\n",
       "      <td>0.056394</td>\n",
       "      <td>312.939623</td>\n",
       "    </tr>\n",
       "    <tr>\n",
       "      <th>min</th>\n",
       "      <td>2.014123e+07</td>\n",
       "      <td>-47.561474</td>\n",
       "      <td>-67.705421</td>\n",
       "      <td>-68.235580</td>\n",
       "      <td>0.000069</td>\n",
       "      <td>1.432547e+03</td>\n",
       "      <td>3.410000</td>\n",
       "      <td>-0.346678</td>\n",
       "      <td>-80.447959</td>\n",
       "      <td>-0.896646</td>\n",
       "      <td>-1.689621</td>\n",
       "      <td>-100.000000</td>\n",
       "    </tr>\n",
       "    <tr>\n",
       "      <th>25%</th>\n",
       "      <td>2.018021e+07</td>\n",
       "      <td>-1.843239</td>\n",
       "      <td>-4.256311</td>\n",
       "      <td>-7.583998</td>\n",
       "      <td>0.000403</td>\n",
       "      <td>9.659986e+03</td>\n",
       "      <td>45.170000</td>\n",
       "      <td>0.042177</td>\n",
       "      <td>1.739803</td>\n",
       "      <td>0.151267</td>\n",
       "      <td>0.020475</td>\n",
       "      <td>0.497268</td>\n",
       "    </tr>\n",
       "    <tr>\n",
       "      <th>50%</th>\n",
       "      <td>2.018053e+07</td>\n",
       "      <td>0.277680</td>\n",
       "      <td>0.329203</td>\n",
       "      <td>-0.362670</td>\n",
       "      <td>0.000652</td>\n",
       "      <td>1.568286e+04</td>\n",
       "      <td>73.820000</td>\n",
       "      <td>0.057110</td>\n",
       "      <td>4.923546</td>\n",
       "      <td>0.292937</td>\n",
       "      <td>0.040028</td>\n",
       "      <td>5.253313</td>\n",
       "    </tr>\n",
       "    <tr>\n",
       "      <th>75%</th>\n",
       "      <td>2.018091e+07</td>\n",
       "      <td>2.159980</td>\n",
       "      <td>4.400995</td>\n",
       "      <td>6.686374</td>\n",
       "      <td>0.001454</td>\n",
       "      <td>3.509461e+04</td>\n",
       "      <td>123.830000</td>\n",
       "      <td>0.076561</td>\n",
       "      <td>9.015668</td>\n",
       "      <td>0.504965</td>\n",
       "      <td>0.059893</td>\n",
       "      <td>11.886979</td>\n",
       "    </tr>\n",
       "    <tr>\n",
       "      <th>max</th>\n",
       "      <td>2.018123e+07</td>\n",
       "      <td>46.864033</td>\n",
       "      <td>63.502525</td>\n",
       "      <td>114.599991</td>\n",
       "      <td>0.044994</td>\n",
       "      <td>1.140656e+06</td>\n",
       "      <td>3646.690000</td>\n",
       "      <td>0.345388</td>\n",
       "      <td>64.735065</td>\n",
       "      <td>3.589774</td>\n",
       "      <td>0.383827</td>\n",
       "      <td>14039.748000</td>\n",
       "    </tr>\n",
       "  </tbody>\n",
       "</table>\n",
       "</div>"
      ],
      "text/plain": [
       "       Period_YYYYMMDD  Universe_Returns_F1W  Universe_Returns_F4W  \\\n",
       "count     3.830400e+04          38300.000000          38296.000000   \n",
       "mean      2.017809e+07              0.037778             -0.025070   \n",
       "std       7.340507e+03              3.982946              7.509304   \n",
       "min       2.014123e+07            -47.561474            -67.705421   \n",
       "25%       2.018021e+07             -1.843239             -4.256311   \n",
       "50%       2.018053e+07              0.277680              0.329203   \n",
       "75%       2.018091e+07              2.159980              4.400995   \n",
       "max       2.018123e+07             46.864033             63.502525   \n",
       "\n",
       "       Universe_Returns_F12W        Weight  Market_Cap_USD     Price_USD  \\\n",
       "count           38268.000000  38304.000000    3.830400e+04  38304.000000   \n",
       "mean               -0.534635      0.001593    3.828089e+04    111.173980   \n",
       "std                11.969478      0.003048    7.374643e+04    178.296736   \n",
       "min               -68.235580      0.000069    1.432547e+03      3.410000   \n",
       "25%                -7.583998      0.000403    9.659986e+03     45.170000   \n",
       "50%                -0.362670      0.000652    1.568286e+04     73.820000   \n",
       "75%                 6.686374      0.001454    3.509461e+04    123.830000   \n",
       "max               114.599991      0.044994    1.140656e+06   3646.690000   \n",
       "\n",
       "             NTM_EP       LTM_ROA            BP        LTM_EP  5Y_Sales_Growth  \n",
       "count  38246.000000  38245.000000  38288.000000  38215.000000     38197.000000  \n",
       "mean       0.060218      5.842138      0.365269      0.039273        16.717226  \n",
       "std        0.031881      7.245260      0.308932      0.056394       312.939623  \n",
       "min       -0.346678    -80.447959     -0.896646     -1.689621      -100.000000  \n",
       "25%        0.042177      1.739803      0.151267      0.020475         0.497268  \n",
       "50%        0.057110      4.923546      0.292937      0.040028         5.253313  \n",
       "75%        0.076561      9.015668      0.504965      0.059893        11.886979  \n",
       "max        0.345388     64.735065      3.589774      0.383827     14039.748000  "
      ]
     },
     "execution_count": 9,
     "metadata": {},
     "output_type": "execute_result"
    }
   ],
   "source": [
    "data.describe()"
   ]
  },
  {
   "cell_type": "markdown",
   "metadata": {
    "colab_type": "text",
    "id": "ecTSWE23Gzv_"
   },
   "source": [
    "Let’s have a look at data dimensionality, features names, and feature types."
   ]
  },
  {
   "cell_type": "code",
   "execution_count": null,
   "metadata": {
    "colab": {
     "base_uri": "https://localhost:8080/",
     "height": 34
    },
    "colab_type": "code",
    "id": "c7AX6L_PG1fF",
    "outputId": "8de636e0-4e69-4315-9d26-74ef441e5224"
   },
   "outputs": [
    {
     "data": {
      "text/plain": [
       "(18, 24)"
      ]
     },
     "execution_count": 4,
     "metadata": {
      "tags": []
     },
     "output_type": "execute_result"
    }
   ],
   "source": [
    "df.shape"
   ]
  },
  {
   "cell_type": "markdown",
   "metadata": {
    "colab_type": "text",
    "id": "3_gTHRSaG_js"
   },
   "source": [
    "From the output, we can see that the table contains 18 rows and 24 columns.\n",
    "\n",
    "Now let’s try printing out column names using `columns`:"
   ]
  },
  {
   "cell_type": "code",
   "execution_count": null,
   "metadata": {
    "colab": {
     "base_uri": "https://localhost:8080/",
     "height": 119
    },
    "colab_type": "code",
    "id": "gbTAJTy_HFTO",
    "outputId": "c47f3ee4-2a42-474c-9916-c38c6d25b8c4"
   },
   "outputs": [
    {
     "data": {
      "text/plain": [
       "Index(['Sedol', 'Naam', 'Sector', 'Land', '11/01/2018', '11/02/2018',\n",
       "       '11/05/2018', '11/06/2018', '11/07/2018', '11/08/2018', '11/09/2018',\n",
       "       '11/12/2018', '11/13/2018', '11/14/2018', '11/15/2018', '11/16/2018',\n",
       "       '11/19/2018', '11/20/2018', '11/21/2018', '11/22/2018', '11/23/2018',\n",
       "       '11/26/2018', '11/27/2018', '11/28/2018'],\n",
       "      dtype='object')"
      ]
     },
     "execution_count": 5,
     "metadata": {
      "tags": []
     },
     "output_type": "execute_result"
    }
   ],
   "source": [
    "df.columns"
   ]
  },
  {
   "cell_type": "markdown",
   "metadata": {
    "colab_type": "text",
    "id": "f0OlhPgbHWrc"
   },
   "source": [
    "We can use the `info()` method to output some general information about the dataframe:"
   ]
  },
  {
   "cell_type": "code",
   "execution_count": null,
   "metadata": {
    "colab": {
     "base_uri": "https://localhost:8080/",
     "height": 510
    },
    "colab_type": "code",
    "id": "vHGRQeamHe6B",
    "outputId": "15eece53-e9cc-4556-d1c0-a29b23465294"
   },
   "outputs": [
    {
     "name": "stdout",
     "output_type": "stream",
     "text": [
      "<class 'pandas.core.frame.DataFrame'>\n",
      "RangeIndex: 18 entries, 0 to 17\n",
      "Data columns (total 24 columns):\n",
      "Sedol         18 non-null object\n",
      "Naam          18 non-null object\n",
      "Sector        18 non-null object\n",
      "Land          18 non-null object\n",
      "11/01/2018    18 non-null float64\n",
      "11/02/2018    18 non-null float64\n",
      "11/05/2018    18 non-null float64\n",
      "11/06/2018    18 non-null float64\n",
      "11/07/2018    18 non-null float64\n",
      "11/08/2018    18 non-null float64\n",
      "11/09/2018    18 non-null float64\n",
      "11/12/2018    18 non-null float64\n",
      "11/13/2018    18 non-null float64\n",
      "11/14/2018    18 non-null float64\n",
      "11/15/2018    18 non-null float64\n",
      "11/16/2018    18 non-null float64\n",
      "11/19/2018    18 non-null float64\n",
      "11/20/2018    18 non-null float64\n",
      "11/21/2018    18 non-null float64\n",
      "11/22/2018    18 non-null float64\n",
      "11/23/2018    18 non-null float64\n",
      "11/26/2018    18 non-null float64\n",
      "11/27/2018    18 non-null float64\n",
      "11/28/2018    18 non-null float64\n",
      "dtypes: float64(20), object(4)\n",
      "memory usage: 3.5+ KB\n"
     ]
    }
   ],
   "source": [
    "df.info()"
   ]
  },
  {
   "cell_type": "markdown",
   "metadata": {
    "colab_type": "text",
    "id": "Hybkw6yLIDfb"
   },
   "source": [
    "`bool`, `int64`, `float64` and `object` are examples of data types of our features. We see that 4 features are of type `object`, and 20 features are numeric decimals. With this same method, we can easily see if there are any missing values. Here, there are none because each column contains 18 observations, the same number of rows we saw before with `shape`. \n",
    "\n",
    "The describe method shows basic statistical characteristics of each numerical feature (int64 and float64 types): number of non-missing values, mean, standard deviation, range, median, 0.25 and 0.75 quartiles."
   ]
  },
  {
   "cell_type": "code",
   "execution_count": null,
   "metadata": {
    "colab": {
     "base_uri": "https://localhost:8080/",
     "height": 297
    },
    "colab_type": "code",
    "id": "s68swQ3bIjKL",
    "outputId": "b396de4c-b3d6-4ce6-aaf7-357eebe2c33f"
   },
   "outputs": [
    {
     "data": {
      "text/html": [
       "<div>\n",
       "<style scoped>\n",
       "    .dataframe tbody tr th:only-of-type {\n",
       "        vertical-align: middle;\n",
       "    }\n",
       "\n",
       "    .dataframe tbody tr th {\n",
       "        vertical-align: top;\n",
       "    }\n",
       "\n",
       "    .dataframe thead th {\n",
       "        text-align: right;\n",
       "    }\n",
       "</style>\n",
       "<table border=\"1\" class=\"dataframe\">\n",
       "  <thead>\n",
       "    <tr style=\"text-align: right;\">\n",
       "      <th></th>\n",
       "      <th>11/01/2018</th>\n",
       "      <th>11/02/2018</th>\n",
       "      <th>11/05/2018</th>\n",
       "      <th>11/06/2018</th>\n",
       "      <th>11/07/2018</th>\n",
       "      <th>11/08/2018</th>\n",
       "      <th>11/09/2018</th>\n",
       "      <th>11/12/2018</th>\n",
       "      <th>11/13/2018</th>\n",
       "      <th>11/14/2018</th>\n",
       "      <th>11/15/2018</th>\n",
       "      <th>11/16/2018</th>\n",
       "      <th>11/19/2018</th>\n",
       "      <th>11/20/2018</th>\n",
       "      <th>11/21/2018</th>\n",
       "      <th>11/22/2018</th>\n",
       "      <th>11/23/2018</th>\n",
       "      <th>11/26/2018</th>\n",
       "      <th>11/27/2018</th>\n",
       "      <th>11/28/2018</th>\n",
       "    </tr>\n",
       "  </thead>\n",
       "  <tbody>\n",
       "    <tr>\n",
       "      <th>count</th>\n",
       "      <td>18.000000</td>\n",
       "      <td>18.000000</td>\n",
       "      <td>18.000000</td>\n",
       "      <td>18.000000</td>\n",
       "      <td>18.000000</td>\n",
       "      <td>18.000000</td>\n",
       "      <td>18.000000</td>\n",
       "      <td>18.000000</td>\n",
       "      <td>18.000000</td>\n",
       "      <td>18.000000</td>\n",
       "      <td>18.000000</td>\n",
       "      <td>18.000000</td>\n",
       "      <td>18.000000</td>\n",
       "      <td>18.000000</td>\n",
       "      <td>18.000000</td>\n",
       "      <td>18.000000</td>\n",
       "      <td>18.000000</td>\n",
       "      <td>18.000000</td>\n",
       "      <td>18.000000</td>\n",
       "      <td>18.000000</td>\n",
       "    </tr>\n",
       "    <tr>\n",
       "      <th>mean</th>\n",
       "      <td>-0.276188</td>\n",
       "      <td>2.175926</td>\n",
       "      <td>-0.810360</td>\n",
       "      <td>0.186244</td>\n",
       "      <td>0.376049</td>\n",
       "      <td>0.406730</td>\n",
       "      <td>-0.074694</td>\n",
       "      <td>0.111710</td>\n",
       "      <td>-0.773645</td>\n",
       "      <td>-0.197100</td>\n",
       "      <td>0.384455</td>\n",
       "      <td>0.598853</td>\n",
       "      <td>0.405907</td>\n",
       "      <td>-1.188897</td>\n",
       "      <td>0.498710</td>\n",
       "      <td>-1.167712</td>\n",
       "      <td>-0.584723</td>\n",
       "      <td>1.657749</td>\n",
       "      <td>1.206519</td>\n",
       "      <td>0.829925</td>\n",
       "    </tr>\n",
       "    <tr>\n",
       "      <th>std</th>\n",
       "      <td>1.719490</td>\n",
       "      <td>2.204103</td>\n",
       "      <td>1.260146</td>\n",
       "      <td>1.037247</td>\n",
       "      <td>1.970096</td>\n",
       "      <td>1.540740</td>\n",
       "      <td>1.229270</td>\n",
       "      <td>2.333321</td>\n",
       "      <td>1.683368</td>\n",
       "      <td>1.224229</td>\n",
       "      <td>2.389488</td>\n",
       "      <td>2.839930</td>\n",
       "      <td>1.325920</td>\n",
       "      <td>2.053318</td>\n",
       "      <td>1.501743</td>\n",
       "      <td>3.030650</td>\n",
       "      <td>4.007661</td>\n",
       "      <td>2.619705</td>\n",
       "      <td>2.263537</td>\n",
       "      <td>3.037940</td>\n",
       "    </tr>\n",
       "    <tr>\n",
       "      <th>min</th>\n",
       "      <td>-3.827751</td>\n",
       "      <td>-1.219511</td>\n",
       "      <td>-4.166669</td>\n",
       "      <td>-1.449275</td>\n",
       "      <td>-2.214450</td>\n",
       "      <td>-2.158272</td>\n",
       "      <td>-3.292906</td>\n",
       "      <td>-4.659492</td>\n",
       "      <td>-5.000000</td>\n",
       "      <td>-3.101736</td>\n",
       "      <td>-3.237408</td>\n",
       "      <td>-3.717470</td>\n",
       "      <td>-1.885015</td>\n",
       "      <td>-5.617976</td>\n",
       "      <td>-1.450366</td>\n",
       "      <td>-11.831683</td>\n",
       "      <td>-12.240314</td>\n",
       "      <td>-4.624277</td>\n",
       "      <td>-1.449275</td>\n",
       "      <td>-6.097561</td>\n",
       "    </tr>\n",
       "    <tr>\n",
       "      <th>25%</th>\n",
       "      <td>-1.731059</td>\n",
       "      <td>0.553226</td>\n",
       "      <td>-1.187363</td>\n",
       "      <td>-0.261323</td>\n",
       "      <td>-0.421929</td>\n",
       "      <td>-0.684959</td>\n",
       "      <td>-0.602302</td>\n",
       "      <td>-0.502136</td>\n",
       "      <td>-1.295484</td>\n",
       "      <td>-0.975178</td>\n",
       "      <td>-0.533234</td>\n",
       "      <td>-0.775000</td>\n",
       "      <td>-0.358580</td>\n",
       "      <td>-2.997997</td>\n",
       "      <td>-0.174741</td>\n",
       "      <td>-1.253043</td>\n",
       "      <td>-1.078133</td>\n",
       "      <td>0.395414</td>\n",
       "      <td>-0.054221</td>\n",
       "      <td>-0.187661</td>\n",
       "    </tr>\n",
       "    <tr>\n",
       "      <th>50%</th>\n",
       "      <td>0.000000</td>\n",
       "      <td>2.191686</td>\n",
       "      <td>-0.471601</td>\n",
       "      <td>0.000000</td>\n",
       "      <td>0.000000</td>\n",
       "      <td>0.121069</td>\n",
       "      <td>0.000000</td>\n",
       "      <td>-0.100201</td>\n",
       "      <td>-0.380185</td>\n",
       "      <td>0.000000</td>\n",
       "      <td>0.000000</td>\n",
       "      <td>0.000000</td>\n",
       "      <td>0.000000</td>\n",
       "      <td>-0.086805</td>\n",
       "      <td>0.253189</td>\n",
       "      <td>-0.640759</td>\n",
       "      <td>-0.179210</td>\n",
       "      <td>1.510489</td>\n",
       "      <td>0.729203</td>\n",
       "      <td>0.096244</td>\n",
       "    </tr>\n",
       "    <tr>\n",
       "      <th>75%</th>\n",
       "      <td>0.695539</td>\n",
       "      <td>3.454912</td>\n",
       "      <td>-0.167285</td>\n",
       "      <td>0.720784</td>\n",
       "      <td>0.926402</td>\n",
       "      <td>1.478660</td>\n",
       "      <td>0.615808</td>\n",
       "      <td>1.077268</td>\n",
       "      <td>-0.025101</td>\n",
       "      <td>0.751701</td>\n",
       "      <td>0.934574</td>\n",
       "      <td>1.159620</td>\n",
       "      <td>1.412746</td>\n",
       "      <td>0.250000</td>\n",
       "      <td>0.873816</td>\n",
       "      <td>0.000000</td>\n",
       "      <td>0.000000</td>\n",
       "      <td>2.415239</td>\n",
       "      <td>2.000591</td>\n",
       "      <td>1.509273</td>\n",
       "    </tr>\n",
       "    <tr>\n",
       "      <th>max</th>\n",
       "      <td>2.739727</td>\n",
       "      <td>7.604563</td>\n",
       "      <td>1.219511</td>\n",
       "      <td>2.618100</td>\n",
       "      <td>6.801462</td>\n",
       "      <td>3.860295</td>\n",
       "      <td>2.510464</td>\n",
       "      <td>6.666672</td>\n",
       "      <td>1.910830</td>\n",
       "      <td>1.344085</td>\n",
       "      <td>6.493509</td>\n",
       "      <td>9.756100</td>\n",
       "      <td>3.088808</td>\n",
       "      <td>1.944733</td>\n",
       "      <td>4.347825</td>\n",
       "      <td>2.597404</td>\n",
       "      <td>9.493673</td>\n",
       "      <td>6.656384</td>\n",
       "      <td>7.865167</td>\n",
       "      <td>8.773971</td>\n",
       "    </tr>\n",
       "  </tbody>\n",
       "</table>\n",
       "</div>"
      ],
      "text/plain": [
       "       11/01/2018  11/02/2018  11/05/2018  11/06/2018  11/07/2018  11/08/2018  \\\n",
       "count   18.000000   18.000000   18.000000   18.000000   18.000000   18.000000   \n",
       "mean    -0.276188    2.175926   -0.810360    0.186244    0.376049    0.406730   \n",
       "std      1.719490    2.204103    1.260146    1.037247    1.970096    1.540740   \n",
       "min     -3.827751   -1.219511   -4.166669   -1.449275   -2.214450   -2.158272   \n",
       "25%     -1.731059    0.553226   -1.187363   -0.261323   -0.421929   -0.684959   \n",
       "50%      0.000000    2.191686   -0.471601    0.000000    0.000000    0.121069   \n",
       "75%      0.695539    3.454912   -0.167285    0.720784    0.926402    1.478660   \n",
       "max      2.739727    7.604563    1.219511    2.618100    6.801462    3.860295   \n",
       "\n",
       "       11/09/2018  11/12/2018  11/13/2018  11/14/2018  11/15/2018  11/16/2018  \\\n",
       "count   18.000000   18.000000   18.000000   18.000000   18.000000   18.000000   \n",
       "mean    -0.074694    0.111710   -0.773645   -0.197100    0.384455    0.598853   \n",
       "std      1.229270    2.333321    1.683368    1.224229    2.389488    2.839930   \n",
       "min     -3.292906   -4.659492   -5.000000   -3.101736   -3.237408   -3.717470   \n",
       "25%     -0.602302   -0.502136   -1.295484   -0.975178   -0.533234   -0.775000   \n",
       "50%      0.000000   -0.100201   -0.380185    0.000000    0.000000    0.000000   \n",
       "75%      0.615808    1.077268   -0.025101    0.751701    0.934574    1.159620   \n",
       "max      2.510464    6.666672    1.910830    1.344085    6.493509    9.756100   \n",
       "\n",
       "       11/19/2018  11/20/2018  11/21/2018  11/22/2018  11/23/2018  11/26/2018  \\\n",
       "count   18.000000   18.000000   18.000000   18.000000   18.000000   18.000000   \n",
       "mean     0.405907   -1.188897    0.498710   -1.167712   -0.584723    1.657749   \n",
       "std      1.325920    2.053318    1.501743    3.030650    4.007661    2.619705   \n",
       "min     -1.885015   -5.617976   -1.450366  -11.831683  -12.240314   -4.624277   \n",
       "25%     -0.358580   -2.997997   -0.174741   -1.253043   -1.078133    0.395414   \n",
       "50%      0.000000   -0.086805    0.253189   -0.640759   -0.179210    1.510489   \n",
       "75%      1.412746    0.250000    0.873816    0.000000    0.000000    2.415239   \n",
       "max      3.088808    1.944733    4.347825    2.597404    9.493673    6.656384   \n",
       "\n",
       "       11/27/2018  11/28/2018  \n",
       "count   18.000000   18.000000  \n",
       "mean     1.206519    0.829925  \n",
       "std      2.263537    3.037940  \n",
       "min     -1.449275   -6.097561  \n",
       "25%     -0.054221   -0.187661  \n",
       "50%      0.729203    0.096244  \n",
       "75%      2.000591    1.509273  \n",
       "max      7.865167    8.773971  "
      ]
     },
     "execution_count": 7,
     "metadata": {
      "tags": []
     },
     "output_type": "execute_result"
    }
   ],
   "source": [
    "df.describe()"
   ]
  },
  {
   "cell_type": "markdown",
   "metadata": {
    "colab_type": "text",
    "id": "FOyOn3zRIyrt"
   },
   "source": [
    "In order to see statistics on non-numerical features, one has to explicitly indicate data types of interest in the `include` parameter."
   ]
  },
  {
   "cell_type": "code",
   "execution_count": null,
   "metadata": {
    "colab": {
     "base_uri": "https://localhost:8080/",
     "height": 173
    },
    "colab_type": "code",
    "id": "iX6LzOwVIz99",
    "outputId": "6e83949f-717f-404d-8157-f8f36f3145f0"
   },
   "outputs": [
    {
     "data": {
      "text/html": [
       "<div>\n",
       "<style scoped>\n",
       "    .dataframe tbody tr th:only-of-type {\n",
       "        vertical-align: middle;\n",
       "    }\n",
       "\n",
       "    .dataframe tbody tr th {\n",
       "        vertical-align: top;\n",
       "    }\n",
       "\n",
       "    .dataframe thead th {\n",
       "        text-align: right;\n",
       "    }\n",
       "</style>\n",
       "<table border=\"1\" class=\"dataframe\">\n",
       "  <thead>\n",
       "    <tr style=\"text-align: right;\">\n",
       "      <th></th>\n",
       "      <th>Sedol</th>\n",
       "      <th>Naam</th>\n",
       "      <th>Sector</th>\n",
       "      <th>Land</th>\n",
       "    </tr>\n",
       "  </thead>\n",
       "  <tbody>\n",
       "    <tr>\n",
       "      <th>count</th>\n",
       "      <td>18</td>\n",
       "      <td>18</td>\n",
       "      <td>18</td>\n",
       "      <td>18</td>\n",
       "    </tr>\n",
       "    <tr>\n",
       "      <th>unique</th>\n",
       "      <td>18</td>\n",
       "      <td>18</td>\n",
       "      <td>5</td>\n",
       "      <td>2</td>\n",
       "    </tr>\n",
       "    <tr>\n",
       "      <th>top</th>\n",
       "      <td>6151292^</td>\n",
       "      <td>F2</td>\n",
       "      <td>S1</td>\n",
       "      <td>L1</td>\n",
       "    </tr>\n",
       "    <tr>\n",
       "      <th>freq</th>\n",
       "      <td>1</td>\n",
       "      <td>1</td>\n",
       "      <td>7</td>\n",
       "      <td>15</td>\n",
       "    </tr>\n",
       "  </tbody>\n",
       "</table>\n",
       "</div>"
      ],
      "text/plain": [
       "           Sedol Naam Sector Land\n",
       "count         18   18     18   18\n",
       "unique        18   18      5    2\n",
       "top     6151292^   F2     S1   L1\n",
       "freq           1    1      7   15"
      ]
     },
     "execution_count": 8,
     "metadata": {
      "tags": []
     },
     "output_type": "execute_result"
    }
   ],
   "source": [
    "df.describe(include=['object'])"
   ]
  },
  {
   "cell_type": "markdown",
   "metadata": {
    "colab_type": "text",
    "id": "LlNmgdfJKb4a"
   },
   "source": [
    "For categorical (type `object`) and boolean (type `bool`) features we can use the `value_counts` method. Let’s have a look at the distribution of `Sector`:"
   ]
  },
  {
   "cell_type": "code",
   "execution_count": null,
   "metadata": {
    "colab": {
     "base_uri": "https://localhost:8080/",
     "height": 119
    },
    "colab_type": "code",
    "id": "bmj8TFlRKiFk",
    "outputId": "96b25fc9-5852-44be-9003-59eb8610852d"
   },
   "outputs": [
    {
     "data": {
      "text/plain": [
       "S1    7\n",
       "S4    4\n",
       "S5    3\n",
       "S3    2\n",
       "S2    2\n",
       "Name: Sector, dtype: int64"
      ]
     },
     "execution_count": 9,
     "metadata": {
      "tags": []
     },
     "output_type": "execute_result"
    }
   ],
   "source": [
    "df['Sector'].value_counts()"
   ]
  },
  {
   "cell_type": "markdown",
   "metadata": {
    "colab_type": "text",
    "id": "RbXqg8UFLCoZ"
   },
   "source": [
    "To calculate fractions, pass `normalize=True` to the `value_counts` function."
   ]
  },
  {
   "cell_type": "code",
   "execution_count": null,
   "metadata": {
    "colab": {
     "base_uri": "https://localhost:8080/",
     "height": 119
    },
    "colab_type": "code",
    "id": "FRVvbpLuLMwx",
    "outputId": "606ada0d-02ce-4303-a151-fe8e92f1c374"
   },
   "outputs": [
    {
     "data": {
      "text/plain": [
       "S1    0.388889\n",
       "S4    0.222222\n",
       "S5    0.166667\n",
       "S3    0.111111\n",
       "S2    0.111111\n",
       "Name: Sector, dtype: float64"
      ]
     },
     "execution_count": 10,
     "metadata": {
      "tags": []
     },
     "output_type": "execute_result"
    }
   ],
   "source": [
    "df['Sector'].value_counts(normalize=True)"
   ]
  },
  {
   "cell_type": "markdown",
   "metadata": {
    "colab_type": "text",
    "id": "ksUFXzb9NQCJ"
   },
   "source": [
    "### Sorting\n",
    "\n",
    "A DataFrame can be sorted by the value of one of the variables (i.e columns). For example, we can sort by values of 11/01/2018 (use ascending=False to sort in descending order):"
   ]
  },
  {
   "cell_type": "code",
   "execution_count": null,
   "metadata": {
    "colab": {
     "base_uri": "https://localhost:8080/",
     "height": 233
    },
    "colab_type": "code",
    "id": "alc3ClcaNX9B",
    "outputId": "f7665f2e-1492-4e8b-8a2c-a1e8d59efea5"
   },
   "outputs": [
    {
     "data": {
      "text/html": [
       "<div>\n",
       "<style scoped>\n",
       "    .dataframe tbody tr th:only-of-type {\n",
       "        vertical-align: middle;\n",
       "    }\n",
       "\n",
       "    .dataframe tbody tr th {\n",
       "        vertical-align: top;\n",
       "    }\n",
       "\n",
       "    .dataframe thead th {\n",
       "        text-align: right;\n",
       "    }\n",
       "</style>\n",
       "<table border=\"1\" class=\"dataframe\">\n",
       "  <thead>\n",
       "    <tr style=\"text-align: right;\">\n",
       "      <th></th>\n",
       "      <th>Sedol</th>\n",
       "      <th>Naam</th>\n",
       "      <th>Sector</th>\n",
       "      <th>Land</th>\n",
       "      <th>11/01/2018</th>\n",
       "      <th>11/02/2018</th>\n",
       "      <th>11/05/2018</th>\n",
       "      <th>11/06/2018</th>\n",
       "      <th>11/07/2018</th>\n",
       "      <th>11/08/2018</th>\n",
       "      <th>...</th>\n",
       "      <th>11/15/2018</th>\n",
       "      <th>11/16/2018</th>\n",
       "      <th>11/19/2018</th>\n",
       "      <th>11/20/2018</th>\n",
       "      <th>11/21/2018</th>\n",
       "      <th>11/22/2018</th>\n",
       "      <th>11/23/2018</th>\n",
       "      <th>11/26/2018</th>\n",
       "      <th>11/27/2018</th>\n",
       "      <th>11/28/2018</th>\n",
       "    </tr>\n",
       "  </thead>\n",
       "  <tbody>\n",
       "    <tr>\n",
       "      <th>10</th>\n",
       "      <td>BBQ2Z67^</td>\n",
       "      <td>F11</td>\n",
       "      <td>S3</td>\n",
       "      <td>L1</td>\n",
       "      <td>2.739727</td>\n",
       "      <td>1.333332</td>\n",
       "      <td>-2.631575</td>\n",
       "      <td>0.000000</td>\n",
       "      <td>1.351345</td>\n",
       "      <td>-1.333332</td>\n",
       "      <td>...</td>\n",
       "      <td>6.493509</td>\n",
       "      <td>9.75610</td>\n",
       "      <td>2.222228</td>\n",
       "      <td>0.000000</td>\n",
       "      <td>4.347825</td>\n",
       "      <td>-4.166663</td>\n",
       "      <td>-4.347831</td>\n",
       "      <td>1.136363</td>\n",
       "      <td>7.865167</td>\n",
       "      <td>-1.041669</td>\n",
       "    </tr>\n",
       "    <tr>\n",
       "      <th>17</th>\n",
       "      <td>6520966^</td>\n",
       "      <td>F18</td>\n",
       "      <td>S5</td>\n",
       "      <td>L2</td>\n",
       "      <td>2.524269</td>\n",
       "      <td>4.166663</td>\n",
       "      <td>0.000000</td>\n",
       "      <td>0.545454</td>\n",
       "      <td>-1.627487</td>\n",
       "      <td>3.860295</td>\n",
       "      <td>...</td>\n",
       "      <td>0.722027</td>\n",
       "      <td>3.58423</td>\n",
       "      <td>-0.346023</td>\n",
       "      <td>-0.173610</td>\n",
       "      <td>-1.043481</td>\n",
       "      <td>0.000000</td>\n",
       "      <td>-0.527239</td>\n",
       "      <td>1.943457</td>\n",
       "      <td>1.213169</td>\n",
       "      <td>0.000000</td>\n",
       "    </tr>\n",
       "    <tr>\n",
       "      <th>7</th>\n",
       "      <td>BD83153^</td>\n",
       "      <td>F8</td>\n",
       "      <td>S2</td>\n",
       "      <td>L1</td>\n",
       "      <td>1.153851</td>\n",
       "      <td>7.604563</td>\n",
       "      <td>-0.353354</td>\n",
       "      <td>0.709224</td>\n",
       "      <td>0.000000</td>\n",
       "      <td>1.056337</td>\n",
       "      <td>...</td>\n",
       "      <td>-3.237408</td>\n",
       "      <td>-3.71747</td>\n",
       "      <td>3.088808</td>\n",
       "      <td>-5.617976</td>\n",
       "      <td>1.190472</td>\n",
       "      <td>-0.392157</td>\n",
       "      <td>-1.181100</td>\n",
       "      <td>3.984058</td>\n",
       "      <td>0.383139</td>\n",
       "      <td>1.526713</td>\n",
       "    </tr>\n",
       "    <tr>\n",
       "      <th>8</th>\n",
       "      <td>BBMR4Z8^</td>\n",
       "      <td>F9</td>\n",
       "      <td>S2</td>\n",
       "      <td>L1</td>\n",
       "      <td>0.729930</td>\n",
       "      <td>4.347825</td>\n",
       "      <td>-4.166669</td>\n",
       "      <td>0.724638</td>\n",
       "      <td>0.000000</td>\n",
       "      <td>-2.158272</td>\n",
       "      <td>...</td>\n",
       "      <td>0.000000</td>\n",
       "      <td>0.00000</td>\n",
       "      <td>0.000000</td>\n",
       "      <td>0.000000</td>\n",
       "      <td>0.000000</td>\n",
       "      <td>0.000000</td>\n",
       "      <td>-0.729924</td>\n",
       "      <td>1.470590</td>\n",
       "      <td>-1.449275</td>\n",
       "      <td>2.205884</td>\n",
       "    </tr>\n",
       "    <tr>\n",
       "      <th>13</th>\n",
       "      <td>6509062^</td>\n",
       "      <td>F14</td>\n",
       "      <td>S4</td>\n",
       "      <td>L1</td>\n",
       "      <td>0.703371</td>\n",
       "      <td>0.000000</td>\n",
       "      <td>-0.674373</td>\n",
       "      <td>1.939857</td>\n",
       "      <td>-0.428164</td>\n",
       "      <td>0.573349</td>\n",
       "      <td>...</td>\n",
       "      <td>0.853670</td>\n",
       "      <td>0.00000</td>\n",
       "      <td>-0.362766</td>\n",
       "      <td>-2.936888</td>\n",
       "      <td>-1.450366</td>\n",
       "      <td>-1.268715</td>\n",
       "      <td>0.000000</td>\n",
       "      <td>6.656384</td>\n",
       "      <td>-0.072294</td>\n",
       "      <td>6.100800</td>\n",
       "    </tr>\n",
       "  </tbody>\n",
       "</table>\n",
       "<p>5 rows × 24 columns</p>\n",
       "</div>"
      ],
      "text/plain": [
       "       Sedol Naam Sector Land  11/01/2018  11/02/2018  11/05/2018  11/06/2018  \\\n",
       "10  BBQ2Z67^  F11     S3   L1    2.739727    1.333332   -2.631575    0.000000   \n",
       "17  6520966^  F18     S5   L2    2.524269    4.166663    0.000000    0.545454   \n",
       "7   BD83153^   F8     S2   L1    1.153851    7.604563   -0.353354    0.709224   \n",
       "8   BBMR4Z8^   F9     S2   L1    0.729930    4.347825   -4.166669    0.724638   \n",
       "13  6509062^  F14     S4   L1    0.703371    0.000000   -0.674373    1.939857   \n",
       "\n",
       "    11/07/2018  11/08/2018     ...      11/15/2018  11/16/2018  11/19/2018  \\\n",
       "10    1.351345   -1.333332     ...        6.493509     9.75610    2.222228   \n",
       "17   -1.627487    3.860295     ...        0.722027     3.58423   -0.346023   \n",
       "7     0.000000    1.056337     ...       -3.237408    -3.71747    3.088808   \n",
       "8     0.000000   -2.158272     ...        0.000000     0.00000    0.000000   \n",
       "13   -0.428164    0.573349     ...        0.853670     0.00000   -0.362766   \n",
       "\n",
       "    11/20/2018  11/21/2018  11/22/2018  11/23/2018  11/26/2018  11/27/2018  \\\n",
       "10    0.000000    4.347825   -4.166663   -4.347831    1.136363    7.865167   \n",
       "17   -0.173610   -1.043481    0.000000   -0.527239    1.943457    1.213169   \n",
       "7    -5.617976    1.190472   -0.392157   -1.181100    3.984058    0.383139   \n",
       "8     0.000000    0.000000    0.000000   -0.729924    1.470590   -1.449275   \n",
       "13   -2.936888   -1.450366   -1.268715    0.000000    6.656384   -0.072294   \n",
       "\n",
       "    11/28/2018  \n",
       "10   -1.041669  \n",
       "17    0.000000  \n",
       "7     1.526713  \n",
       "8     2.205884  \n",
       "13    6.100800  \n",
       "\n",
       "[5 rows x 24 columns]"
      ]
     },
     "execution_count": 11,
     "metadata": {
      "tags": []
     },
     "output_type": "execute_result"
    }
   ],
   "source": [
    "df.sort_values(by='11/01/2018', ascending=False).head()"
   ]
  },
  {
   "cell_type": "markdown",
   "metadata": {},
   "source": [
    "### Missing values"
   ]
  },
  {
   "cell_type": "code",
   "execution_count": 12,
   "metadata": {},
   "outputs": [],
   "source": [
    "def missing_values_table(df): \n",
    "        mis_val = df.isnull().sum()\n",
    "        mis_val_percent = 100 * df.isnull().sum()/len(df)\n",
    "        mis_val_table = pd.concat([mis_val, mis_val_percent], axis=1)\n",
    "        mis_val_table = mis_val_table.rename(columns = {0 : 'Missing Values', 1 : '% of Total Values'})\n",
    "        return mis_val_table"
   ]
  },
  {
   "cell_type": "code",
   "execution_count": 15,
   "metadata": {},
   "outputs": [],
   "source": [
    "missing = missing_values_table(data)"
   ]
  },
  {
   "cell_type": "code",
   "execution_count": 16,
   "metadata": {},
   "outputs": [
    {
     "data": {
      "text/html": [
       "<div>\n",
       "<style scoped>\n",
       "    .dataframe tbody tr th:only-of-type {\n",
       "        vertical-align: middle;\n",
       "    }\n",
       "\n",
       "    .dataframe tbody tr th {\n",
       "        vertical-align: top;\n",
       "    }\n",
       "\n",
       "    .dataframe thead th {\n",
       "        text-align: right;\n",
       "    }\n",
       "</style>\n",
       "<table border=\"1\" class=\"dataframe\">\n",
       "  <thead>\n",
       "    <tr style=\"text-align: right;\">\n",
       "      <th></th>\n",
       "      <th>Missing Values</th>\n",
       "      <th>% of Total Values</th>\n",
       "    </tr>\n",
       "  </thead>\n",
       "  <tbody>\n",
       "    <tr>\n",
       "      <th>Identifier</th>\n",
       "      <td>0</td>\n",
       "      <td>0.000000</td>\n",
       "    </tr>\n",
       "    <tr>\n",
       "      <th>Name</th>\n",
       "      <td>0</td>\n",
       "      <td>0.000000</td>\n",
       "    </tr>\n",
       "    <tr>\n",
       "      <th>Period</th>\n",
       "      <td>0</td>\n",
       "      <td>0.000000</td>\n",
       "    </tr>\n",
       "    <tr>\n",
       "      <th>Period_YYYYMMDD</th>\n",
       "      <td>0</td>\n",
       "      <td>0.000000</td>\n",
       "    </tr>\n",
       "    <tr>\n",
       "      <th>Ticker</th>\n",
       "      <td>0</td>\n",
       "      <td>0.000000</td>\n",
       "    </tr>\n",
       "    <tr>\n",
       "      <th>Universe_Returns_F1W</th>\n",
       "      <td>4</td>\n",
       "      <td>0.010443</td>\n",
       "    </tr>\n",
       "    <tr>\n",
       "      <th>Universe_Returns_F4W</th>\n",
       "      <td>8</td>\n",
       "      <td>0.020886</td>\n",
       "    </tr>\n",
       "    <tr>\n",
       "      <th>Universe_Returns_F12W</th>\n",
       "      <td>36</td>\n",
       "      <td>0.093985</td>\n",
       "    </tr>\n",
       "    <tr>\n",
       "      <th>Weight</th>\n",
       "      <td>0</td>\n",
       "      <td>0.000000</td>\n",
       "    </tr>\n",
       "    <tr>\n",
       "      <th>GICS_Sector</th>\n",
       "      <td>0</td>\n",
       "      <td>0.000000</td>\n",
       "    </tr>\n",
       "    <tr>\n",
       "      <th>GICS_Ind_Grp</th>\n",
       "      <td>0</td>\n",
       "      <td>0.000000</td>\n",
       "    </tr>\n",
       "    <tr>\n",
       "      <th>Market_Cap_USD</th>\n",
       "      <td>0</td>\n",
       "      <td>0.000000</td>\n",
       "    </tr>\n",
       "    <tr>\n",
       "      <th>Price_USD</th>\n",
       "      <td>0</td>\n",
       "      <td>0.000000</td>\n",
       "    </tr>\n",
       "    <tr>\n",
       "      <th>NTM_EP</th>\n",
       "      <td>58</td>\n",
       "      <td>0.151420</td>\n",
       "    </tr>\n",
       "    <tr>\n",
       "      <th>LTM_ROA</th>\n",
       "      <td>59</td>\n",
       "      <td>0.154031</td>\n",
       "    </tr>\n",
       "    <tr>\n",
       "      <th>BP</th>\n",
       "      <td>16</td>\n",
       "      <td>0.041771</td>\n",
       "    </tr>\n",
       "    <tr>\n",
       "      <th>LTM_EP</th>\n",
       "      <td>89</td>\n",
       "      <td>0.232352</td>\n",
       "    </tr>\n",
       "    <tr>\n",
       "      <th>5Y_Sales_Growth</th>\n",
       "      <td>107</td>\n",
       "      <td>0.279344</td>\n",
       "    </tr>\n",
       "  </tbody>\n",
       "</table>\n",
       "</div>"
      ],
      "text/plain": [
       "                       Missing Values  % of Total Values\n",
       "Identifier                          0           0.000000\n",
       "Name                                0           0.000000\n",
       "Period                              0           0.000000\n",
       "Period_YYYYMMDD                     0           0.000000\n",
       "Ticker                              0           0.000000\n",
       "Universe_Returns_F1W                4           0.010443\n",
       "Universe_Returns_F4W                8           0.020886\n",
       "Universe_Returns_F12W              36           0.093985\n",
       "Weight                              0           0.000000\n",
       "GICS_Sector                         0           0.000000\n",
       "GICS_Ind_Grp                        0           0.000000\n",
       "Market_Cap_USD                      0           0.000000\n",
       "Price_USD                           0           0.000000\n",
       "NTM_EP                             58           0.151420\n",
       "LTM_ROA                            59           0.154031\n",
       "BP                                 16           0.041771\n",
       "LTM_EP                             89           0.232352\n",
       "5Y_Sales_Growth                   107           0.279344"
      ]
     },
     "execution_count": 16,
     "metadata": {},
     "output_type": "execute_result"
    }
   ],
   "source": [
    "missing"
   ]
  },
  {
   "cell_type": "markdown",
   "metadata": {},
   "source": [
    "**Direct replacement**"
   ]
  },
  {
   "cell_type": "code",
   "execution_count": 17,
   "metadata": {},
   "outputs": [
    {
     "data": {
      "text/plain": [
       "2862    NaN\n",
       "19657   NaN\n",
       "35229   NaN\n",
       "35411   NaN\n",
       "Name: Universe_Returns_F1W, dtype: float64"
      ]
     },
     "execution_count": 17,
     "metadata": {},
     "output_type": "execute_result"
    }
   ],
   "source": [
    "data[data.Universe_Returns_F1W.isnull()]['Universe_Returns_F1W']"
   ]
  },
  {
   "cell_type": "code",
   "execution_count": 18,
   "metadata": {},
   "outputs": [],
   "source": [
    "data.loc[[2862,19657,35229,35411],'Universe_Returns_F1W'] = 0"
   ]
  },
  {
   "cell_type": "markdown",
   "metadata": {},
   "source": [
    "**Loop replacement**"
   ]
  },
  {
   "cell_type": "code",
   "execution_count": 19,
   "metadata": {},
   "outputs": [],
   "source": [
    "indexes_to_check = data[data.Universe_Returns_F4W.isnull()].index"
   ]
  },
  {
   "cell_type": "code",
   "execution_count": 20,
   "metadata": {},
   "outputs": [],
   "source": [
    "for i in indexes_to_check:\n",
    "    data.loc[i,'Universe_Returns_F4W'] = 0"
   ]
  },
  {
   "cell_type": "markdown",
   "metadata": {},
   "source": [
    "**Just Fill in**"
   ]
  },
  {
   "cell_type": "code",
   "execution_count": 21,
   "metadata": {},
   "outputs": [],
   "source": [
    "data.Universe_Returns_F12W.fillna(value=1, inplace=True)"
   ]
  },
  {
   "cell_type": "markdown",
   "metadata": {},
   "source": [
    "**Also with operations**"
   ]
  },
  {
   "cell_type": "code",
   "execution_count": 22,
   "metadata": {},
   "outputs": [],
   "source": [
    "NTM_EP_mean = data.NTM_EP.mean()"
   ]
  },
  {
   "cell_type": "code",
   "execution_count": 23,
   "metadata": {},
   "outputs": [],
   "source": [
    "data.NTM_EP.fillna(value=NTM_EP_mean, inplace=True)"
   ]
  },
  {
   "cell_type": "markdown",
   "metadata": {},
   "source": [
    "**Or just don't take the na events into account**"
   ]
  },
  {
   "cell_type": "code",
   "execution_count": 24,
   "metadata": {},
   "outputs": [],
   "source": [
    "data.dropna(inplace=True)"
   ]
  },
  {
   "cell_type": "markdown",
   "metadata": {},
   "source": [
    "### Data update"
   ]
  },
  {
   "cell_type": "markdown",
   "metadata": {},
   "source": [
    "Let's suppose we don't need the commas"
   ]
  },
  {
   "cell_type": "code",
   "execution_count": 25,
   "metadata": {},
   "outputs": [
    {
     "data": {
      "text/plain": [
       "'ANSYS Inc.'"
      ]
     },
     "execution_count": 25,
     "metadata": {},
     "output_type": "execute_result"
    }
   ],
   "source": [
    "#example\n",
    "data.Name.loc[7].replace(',','')"
   ]
  },
  {
   "cell_type": "code",
   "execution_count": 26,
   "metadata": {},
   "outputs": [],
   "source": [
    "data.loc[7,'Name'] = data.Name.loc[7].replace(',','')"
   ]
  },
  {
   "cell_type": "code",
   "execution_count": 27,
   "metadata": {},
   "outputs": [
    {
     "data": {
      "text/plain": [
       "'ANSYS Inc.'"
      ]
     },
     "execution_count": 27,
     "metadata": {},
     "output_type": "execute_result"
    }
   ],
   "source": [
    "data.loc[7,'Name']"
   ]
  },
  {
   "cell_type": "code",
   "execution_count": 28,
   "metadata": {},
   "outputs": [],
   "source": [
    "for i in data.index:\n",
    "    data.loc[i,'Name'] = data.Name.loc[i].replace(',','')"
   ]
  },
  {
   "cell_type": "markdown",
   "metadata": {},
   "source": [
    "### Handling Datetime"
   ]
  },
  {
   "cell_type": "code",
   "execution_count": 29,
   "metadata": {},
   "outputs": [],
   "source": [
    "#[len(str(i)) for i in data.Period_YYYYMMDD]"
   ]
  },
  {
   "cell_type": "code",
   "execution_count": 30,
   "metadata": {},
   "outputs": [
    {
     "data": {
      "text/plain": [
       "array([8])"
      ]
     },
     "execution_count": 30,
     "metadata": {},
     "output_type": "execute_result"
    }
   ],
   "source": [
    "#lenghts of the values inside\n",
    "data.Period_YYYYMMDD.map(str).map(len).unique()"
   ]
  },
  {
   "cell_type": "markdown",
   "metadata": {},
   "source": [
    "** Updateting via list comprehension** "
   ]
  },
  {
   "cell_type": "code",
   "execution_count": 31,
   "metadata": {},
   "outputs": [],
   "source": [
    "data.Period = [pd.to_datetime(i, format='%Y%m%d') for i in data.Period_YYYYMMDD]"
   ]
  },
  {
   "cell_type": "markdown",
   "metadata": {},
   "source": [
    "** Creating periods **"
   ]
  },
  {
   "cell_type": "code",
   "execution_count": 32,
   "metadata": {},
   "outputs": [],
   "source": [
    "data['month'] = [date.month for date in data.Period]"
   ]
  },
  {
   "cell_type": "code",
   "execution_count": 33,
   "metadata": {},
   "outputs": [],
   "source": [
    "data['day'] = [date.day for date in data.Period]"
   ]
  },
  {
   "cell_type": "code",
   "execution_count": 34,
   "metadata": {},
   "outputs": [],
   "source": [
    "data['year'] = [date.year for date in data.Period]"
   ]
  },
  {
   "cell_type": "code",
   "execution_count": 35,
   "metadata": {},
   "outputs": [
    {
     "data": {
      "text/plain": [
       "count                   38115\n",
       "unique                     61\n",
       "top       2018-04-04 00:00:00\n",
       "freq                      630\n",
       "first     2014-12-31 00:00:00\n",
       "last      2018-12-26 00:00:00\n",
       "Name: Period, dtype: object"
      ]
     },
     "execution_count": 35,
     "metadata": {},
     "output_type": "execute_result"
    }
   ],
   "source": [
    "data.Period.describe()"
   ]
  },
  {
   "cell_type": "markdown",
   "metadata": {},
   "source": [
    "### Data Transformations"
   ]
  },
  {
   "cell_type": "markdown",
   "metadata": {},
   "source": [
    "Supose it is needed a subset of the dataset"
   ]
  },
  {
   "cell_type": "code",
   "execution_count": 40,
   "metadata": {},
   "outputs": [
    {
     "data": {
      "text/plain": [
       "array(['Industrials', 'Utilities', 'Information Technology',\n",
       "       'Health Care', 'Financials', 'Consumer Staples',\n",
       "       'Consumer Discretionary', 'Materials', 'Energy',\n",
       "       'Communication Services', 'Real Estate'], dtype=object)"
      ]
     },
     "execution_count": 40,
     "metadata": {},
     "output_type": "execute_result"
    }
   ],
   "source": [
    "data.GICS_Sector.unique()"
   ]
  },
  {
   "cell_type": "markdown",
   "metadata": {},
   "source": [
    "** Slicing with logical operations **"
   ]
  },
  {
   "cell_type": "code",
   "execution_count": 41,
   "metadata": {},
   "outputs": [],
   "source": [
    "IT_2018_df = data[(data.GICS_Sector == 'Information Technology') & (data.year == 2018)]"
   ]
  },
  {
   "cell_type": "markdown",
   "metadata": {},
   "source": [
    "** Columns selection **"
   ]
  },
  {
   "cell_type": "code",
   "execution_count": 42,
   "metadata": {},
   "outputs": [
    {
     "data": {
      "text/plain": [
       "Index(['Identifier', 'Name', 'Period', 'Period_YYYYMMDD', 'Ticker',\n",
       "       'Universe_Returns_F1W', 'Universe_Returns_F4W', 'Universe_Returns_F12W',\n",
       "       'Weight', 'GICS_Sector', 'GICS_Ind_Grp', 'Market_Cap_USD', 'Price_USD',\n",
       "       'NTM_EP', 'LTM_ROA', 'BP', 'LTM_EP', '5Y_Sales_Growth', 'month', 'day',\n",
       "       'year'],\n",
       "      dtype='object')"
      ]
     },
     "execution_count": 42,
     "metadata": {},
     "output_type": "execute_result"
    }
   ],
   "source": [
    "IT_2018_df.columns"
   ]
  },
  {
   "cell_type": "markdown",
   "metadata": {},
   "source": [
    "** Explicit**"
   ]
  },
  {
   "cell_type": "code",
   "execution_count": 43,
   "metadata": {},
   "outputs": [],
   "source": [
    "IT_2018_df_ = IT_2018_df[['Ticker','Name','Period','Price_USD']]"
   ]
  },
  {
   "cell_type": "markdown",
   "metadata": {},
   "source": [
    "** Range **"
   ]
  },
  {
   "cell_type": "code",
   "execution_count": 44,
   "metadata": {},
   "outputs": [
    {
     "data": {
      "text/html": [
       "<div>\n",
       "<style scoped>\n",
       "    .dataframe tbody tr th:only-of-type {\n",
       "        vertical-align: middle;\n",
       "    }\n",
       "\n",
       "    .dataframe tbody tr th {\n",
       "        vertical-align: top;\n",
       "    }\n",
       "\n",
       "    .dataframe thead th {\n",
       "        text-align: right;\n",
       "    }\n",
       "</style>\n",
       "<table border=\"1\" class=\"dataframe\">\n",
       "  <thead>\n",
       "    <tr style=\"text-align: right;\">\n",
       "      <th></th>\n",
       "      <th>Period</th>\n",
       "      <th>Period_YYYYMMDD</th>\n",
       "      <th>Ticker</th>\n",
       "      <th>Universe_Returns_F1W</th>\n",
       "    </tr>\n",
       "  </thead>\n",
       "  <tbody>\n",
       "    <tr>\n",
       "      <th>5668</th>\n",
       "      <td>2018-01-03</td>\n",
       "      <td>20180103</td>\n",
       "      <td>ANSS-US</td>\n",
       "      <td>0.455689</td>\n",
       "    </tr>\n",
       "    <tr>\n",
       "      <th>5676</th>\n",
       "      <td>2018-01-03</td>\n",
       "      <td>20180103</td>\n",
       "      <td>ADSK-US</td>\n",
       "      <td>1.910770</td>\n",
       "    </tr>\n",
       "    <tr>\n",
       "      <th>5680</th>\n",
       "      <td>2018-01-03</td>\n",
       "      <td>20180103</td>\n",
       "      <td>ADI-US</td>\n",
       "      <td>-1.411378</td>\n",
       "    </tr>\n",
       "    <tr>\n",
       "      <th>5686</th>\n",
       "      <td>2018-01-03</td>\n",
       "      <td>20180103</td>\n",
       "      <td>SYMC-US</td>\n",
       "      <td>-0.864750</td>\n",
       "    </tr>\n",
       "    <tr>\n",
       "      <th>5690</th>\n",
       "      <td>2018-01-03</td>\n",
       "      <td>20180103</td>\n",
       "      <td>XLNX-US</td>\n",
       "      <td>7.019067</td>\n",
       "    </tr>\n",
       "  </tbody>\n",
       "</table>\n",
       "</div>"
      ],
      "text/plain": [
       "         Period  Period_YYYYMMDD   Ticker  Universe_Returns_F1W\n",
       "5668 2018-01-03         20180103  ANSS-US              0.455689\n",
       "5676 2018-01-03         20180103  ADSK-US              1.910770\n",
       "5680 2018-01-03         20180103   ADI-US             -1.411378\n",
       "5686 2018-01-03         20180103  SYMC-US             -0.864750\n",
       "5690 2018-01-03         20180103  XLNX-US              7.019067"
      ]
     },
     "execution_count": 44,
     "metadata": {},
     "output_type": "execute_result"
    }
   ],
   "source": [
    "IT_2018_df[IT_2018_df.columns[2:6]].head()"
   ]
  },
  {
   "cell_type": "markdown",
   "metadata": {},
   "source": [
    "** Exception **"
   ]
  },
  {
   "cell_type": "code",
   "execution_count": 46,
   "metadata": {},
   "outputs": [
    {
     "data": {
      "text/html": [
       "<div>\n",
       "<style scoped>\n",
       "    .dataframe tbody tr th:only-of-type {\n",
       "        vertical-align: middle;\n",
       "    }\n",
       "\n",
       "    .dataframe tbody tr th {\n",
       "        vertical-align: top;\n",
       "    }\n",
       "\n",
       "    .dataframe thead th {\n",
       "        text-align: right;\n",
       "    }\n",
       "</style>\n",
       "<table border=\"1\" class=\"dataframe\">\n",
       "  <thead>\n",
       "    <tr style=\"text-align: right;\">\n",
       "      <th></th>\n",
       "      <th>Ticker</th>\n",
       "      <th>Name</th>\n",
       "      <th>Period</th>\n",
       "      <th>Price_USD</th>\n",
       "    </tr>\n",
       "  </thead>\n",
       "  <tbody>\n",
       "    <tr>\n",
       "      <th>5668</th>\n",
       "      <td>ANSS-US</td>\n",
       "      <td>ANSYS Inc.</td>\n",
       "      <td>2018-01-03</td>\n",
       "      <td>151.42</td>\n",
       "    </tr>\n",
       "    <tr>\n",
       "      <th>5676</th>\n",
       "      <td>ADSK-US</td>\n",
       "      <td>Autodesk Inc.</td>\n",
       "      <td>2018-01-03</td>\n",
       "      <td>109.38</td>\n",
       "    </tr>\n",
       "    <tr>\n",
       "      <th>5680</th>\n",
       "      <td>ADI-US</td>\n",
       "      <td>Analog Devices Inc.</td>\n",
       "      <td>2018-01-03</td>\n",
       "      <td>91.40</td>\n",
       "    </tr>\n",
       "    <tr>\n",
       "      <th>5686</th>\n",
       "      <td>SYMC-US</td>\n",
       "      <td>Symantec Corporation</td>\n",
       "      <td>2018-01-03</td>\n",
       "      <td>28.91</td>\n",
       "    </tr>\n",
       "    <tr>\n",
       "      <th>5690</th>\n",
       "      <td>XLNX-US</td>\n",
       "      <td>Xilinx Inc.</td>\n",
       "      <td>2018-01-03</td>\n",
       "      <td>69.24</td>\n",
       "    </tr>\n",
       "  </tbody>\n",
       "</table>\n",
       "</div>"
      ],
      "text/plain": [
       "       Ticker                  Name     Period  Price_USD\n",
       "5668  ANSS-US            ANSYS Inc. 2018-01-03     151.42\n",
       "5676  ADSK-US         Autodesk Inc. 2018-01-03     109.38\n",
       "5680   ADI-US   Analog Devices Inc. 2018-01-03      91.40\n",
       "5686  SYMC-US  Symantec Corporation 2018-01-03      28.91\n",
       "5690  XLNX-US           Xilinx Inc. 2018-01-03      69.24"
      ]
     },
     "execution_count": 46,
     "metadata": {},
     "output_type": "execute_result"
    }
   ],
   "source": [
    "IT_2018_df_.iloc[:,~IT_2018_df_.columns.isin(['index','Period_YYYYMMDD','month','day','year'])].head()"
   ]
  },
  {
   "cell_type": "markdown",
   "metadata": {},
   "source": [
    "** Pivoting **"
   ]
  },
  {
   "cell_type": "code",
   "execution_count": 47,
   "metadata": {},
   "outputs": [],
   "source": [
    "summary_IT = pd.pivot_table(IT_2018_df_, index='Name', columns='Period')"
   ]
  },
  {
   "cell_type": "markdown",
   "metadata": {},
   "source": [
    "** Transposing **"
   ]
  },
  {
   "cell_type": "code",
   "execution_count": 48,
   "metadata": {},
   "outputs": [],
   "source": [
    "transposed = summary_IT.T"
   ]
  },
  {
   "cell_type": "code",
   "execution_count": 49,
   "metadata": {},
   "outputs": [
    {
     "data": {
      "text/html": [
       "<div>\n",
       "<style scoped>\n",
       "    .dataframe tbody tr th:only-of-type {\n",
       "        vertical-align: middle;\n",
       "    }\n",
       "\n",
       "    .dataframe tbody tr th {\n",
       "        vertical-align: top;\n",
       "    }\n",
       "\n",
       "    .dataframe thead th {\n",
       "        text-align: right;\n",
       "    }\n",
       "</style>\n",
       "<table border=\"1\" class=\"dataframe\">\n",
       "  <thead>\n",
       "    <tr style=\"text-align: right;\">\n",
       "      <th></th>\n",
       "      <th>Name</th>\n",
       "      <th>ANSYS Inc.</th>\n",
       "      <th>Accenture Plc Class A</th>\n",
       "      <th>Activision Blizzard Inc.</th>\n",
       "      <th>Adobe Inc.</th>\n",
       "      <th>Advanced Micro Devices Inc.</th>\n",
       "      <th>Akamai Technologies Inc.</th>\n",
       "      <th>Alliance Data Systems Corporation</th>\n",
       "      <th>Alphabet Inc. Class A</th>\n",
       "      <th>Alphabet Inc. Class C</th>\n",
       "      <th>Amphenol Corporation Class A</th>\n",
       "      <th>...</th>\n",
       "      <th>Visa Inc. Class A</th>\n",
       "      <th>Western Digital Corporation</th>\n",
       "      <th>Western Union Company</th>\n",
       "      <th>Workday Inc. Class A</th>\n",
       "      <th>Worldpay Inc. Class A</th>\n",
       "      <th>Xerox Corporation</th>\n",
       "      <th>Xilinx Inc.</th>\n",
       "      <th>Zillow Group Inc. Class C</th>\n",
       "      <th>eBay Inc.</th>\n",
       "      <th>salesforce.com inc.</th>\n",
       "    </tr>\n",
       "    <tr>\n",
       "      <th></th>\n",
       "      <th>Period</th>\n",
       "      <th></th>\n",
       "      <th></th>\n",
       "      <th></th>\n",
       "      <th></th>\n",
       "      <th></th>\n",
       "      <th></th>\n",
       "      <th></th>\n",
       "      <th></th>\n",
       "      <th></th>\n",
       "      <th></th>\n",
       "      <th></th>\n",
       "      <th></th>\n",
       "      <th></th>\n",
       "      <th></th>\n",
       "      <th></th>\n",
       "      <th></th>\n",
       "      <th></th>\n",
       "      <th></th>\n",
       "      <th></th>\n",
       "      <th></th>\n",
       "      <th></th>\n",
       "    </tr>\n",
       "  </thead>\n",
       "  <tbody>\n",
       "    <tr>\n",
       "      <th rowspan=\"5\" valign=\"top\">Price_USD</th>\n",
       "      <th>2018-01-03</th>\n",
       "      <td>151.42</td>\n",
       "      <td>154.55</td>\n",
       "      <td>65.31</td>\n",
       "      <td>181.04</td>\n",
       "      <td>11.55</td>\n",
       "      <td>65.94</td>\n",
       "      <td>260.07</td>\n",
       "      <td>1091.52</td>\n",
       "      <td>1082.48</td>\n",
       "      <td>88.94</td>\n",
       "      <td>...</td>\n",
       "      <td>115.65</td>\n",
       "      <td>82.67</td>\n",
       "      <td>19.07</td>\n",
       "      <td>105.17</td>\n",
       "      <td>74.32</td>\n",
       "      <td>29.33</td>\n",
       "      <td>69.24</td>\n",
       "      <td>42.97</td>\n",
       "      <td>39.22</td>\n",
       "      <td>105.29</td>\n",
       "    </tr>\n",
       "    <tr>\n",
       "      <th>2018-01-10</th>\n",
       "      <td>152.11</td>\n",
       "      <td>158.90</td>\n",
       "      <td>66.83</td>\n",
       "      <td>187.11</td>\n",
       "      <td>11.96</td>\n",
       "      <td>66.33</td>\n",
       "      <td>272.09</td>\n",
       "      <td>1110.14</td>\n",
       "      <td>1102.61</td>\n",
       "      <td>89.51</td>\n",
       "      <td>...</td>\n",
       "      <td>118.98</td>\n",
       "      <td>80.91</td>\n",
       "      <td>21.23</td>\n",
       "      <td>114.14</td>\n",
       "      <td>75.71</td>\n",
       "      <td>30.35</td>\n",
       "      <td>74.10</td>\n",
       "      <td>42.50</td>\n",
       "      <td>37.70</td>\n",
       "      <td>108.80</td>\n",
       "    </tr>\n",
       "    <tr>\n",
       "      <th>2018-01-17</th>\n",
       "      <td>155.75</td>\n",
       "      <td>160.21</td>\n",
       "      <td>70.36</td>\n",
       "      <td>196.49</td>\n",
       "      <td>12.18</td>\n",
       "      <td>65.40</td>\n",
       "      <td>258.26</td>\n",
       "      <td>1139.10</td>\n",
       "      <td>1131.98</td>\n",
       "      <td>92.85</td>\n",
       "      <td>...</td>\n",
       "      <td>121.98</td>\n",
       "      <td>85.16</td>\n",
       "      <td>20.24</td>\n",
       "      <td>112.26</td>\n",
       "      <td>77.89</td>\n",
       "      <td>31.92</td>\n",
       "      <td>75.86</td>\n",
       "      <td>44.54</td>\n",
       "      <td>37.99</td>\n",
       "      <td>110.04</td>\n",
       "    </tr>\n",
       "    <tr>\n",
       "      <th>2018-01-24</th>\n",
       "      <td>161.54</td>\n",
       "      <td>160.60</td>\n",
       "      <td>70.08</td>\n",
       "      <td>197.78</td>\n",
       "      <td>12.71</td>\n",
       "      <td>66.02</td>\n",
       "      <td>259.49</td>\n",
       "      <td>1171.29</td>\n",
       "      <td>1164.24</td>\n",
       "      <td>91.20</td>\n",
       "      <td>...</td>\n",
       "      <td>124.55</td>\n",
       "      <td>86.97</td>\n",
       "      <td>20.52</td>\n",
       "      <td>115.87</td>\n",
       "      <td>79.63</td>\n",
       "      <td>32.36</td>\n",
       "      <td>73.48</td>\n",
       "      <td>43.72</td>\n",
       "      <td>39.82</td>\n",
       "      <td>112.85</td>\n",
       "    </tr>\n",
       "    <tr>\n",
       "      <th>2018-01-31</th>\n",
       "      <td>161.65</td>\n",
       "      <td>160.70</td>\n",
       "      <td>74.13</td>\n",
       "      <td>199.76</td>\n",
       "      <td>13.74</td>\n",
       "      <td>66.99</td>\n",
       "      <td>256.66</td>\n",
       "      <td>1182.22</td>\n",
       "      <td>1169.94</td>\n",
       "      <td>92.77</td>\n",
       "      <td>...</td>\n",
       "      <td>124.23</td>\n",
       "      <td>88.98</td>\n",
       "      <td>20.79</td>\n",
       "      <td>119.89</td>\n",
       "      <td>80.31</td>\n",
       "      <td>34.13</td>\n",
       "      <td>73.02</td>\n",
       "      <td>44.46</td>\n",
       "      <td>40.58</td>\n",
       "      <td>113.91</td>\n",
       "    </tr>\n",
       "  </tbody>\n",
       "</table>\n",
       "<p>5 rows × 105 columns</p>\n",
       "</div>"
      ],
      "text/plain": [
       "Name                  ANSYS Inc.  Accenture Plc Class A  \\\n",
       "          Period                                          \n",
       "Price_USD 2018-01-03      151.42                 154.55   \n",
       "          2018-01-10      152.11                 158.90   \n",
       "          2018-01-17      155.75                 160.21   \n",
       "          2018-01-24      161.54                 160.60   \n",
       "          2018-01-31      161.65                 160.70   \n",
       "\n",
       "Name                  Activision Blizzard Inc.  Adobe Inc.  \\\n",
       "          Period                                             \n",
       "Price_USD 2018-01-03                     65.31      181.04   \n",
       "          2018-01-10                     66.83      187.11   \n",
       "          2018-01-17                     70.36      196.49   \n",
       "          2018-01-24                     70.08      197.78   \n",
       "          2018-01-31                     74.13      199.76   \n",
       "\n",
       "Name                  Advanced Micro Devices Inc.  Akamai Technologies Inc.  \\\n",
       "          Period                                                              \n",
       "Price_USD 2018-01-03                        11.55                     65.94   \n",
       "          2018-01-10                        11.96                     66.33   \n",
       "          2018-01-17                        12.18                     65.40   \n",
       "          2018-01-24                        12.71                     66.02   \n",
       "          2018-01-31                        13.74                     66.99   \n",
       "\n",
       "Name                  Alliance Data Systems Corporation  \\\n",
       "          Period                                          \n",
       "Price_USD 2018-01-03                             260.07   \n",
       "          2018-01-10                             272.09   \n",
       "          2018-01-17                             258.26   \n",
       "          2018-01-24                             259.49   \n",
       "          2018-01-31                             256.66   \n",
       "\n",
       "Name                  Alphabet Inc. Class A  Alphabet Inc. Class C  \\\n",
       "          Period                                                     \n",
       "Price_USD 2018-01-03                1091.52                1082.48   \n",
       "          2018-01-10                1110.14                1102.61   \n",
       "          2018-01-17                1139.10                1131.98   \n",
       "          2018-01-24                1171.29                1164.24   \n",
       "          2018-01-31                1182.22                1169.94   \n",
       "\n",
       "Name                  Amphenol Corporation Class A         ...           \\\n",
       "          Period                                           ...            \n",
       "Price_USD 2018-01-03                         88.94         ...            \n",
       "          2018-01-10                         89.51         ...            \n",
       "          2018-01-17                         92.85         ...            \n",
       "          2018-01-24                         91.20         ...            \n",
       "          2018-01-31                         92.77         ...            \n",
       "\n",
       "Name                  Visa Inc. Class A  Western Digital Corporation  \\\n",
       "          Period                                                       \n",
       "Price_USD 2018-01-03             115.65                        82.67   \n",
       "          2018-01-10             118.98                        80.91   \n",
       "          2018-01-17             121.98                        85.16   \n",
       "          2018-01-24             124.55                        86.97   \n",
       "          2018-01-31             124.23                        88.98   \n",
       "\n",
       "Name                  Western Union Company  Workday Inc. Class A  \\\n",
       "          Period                                                    \n",
       "Price_USD 2018-01-03                  19.07                105.17   \n",
       "          2018-01-10                  21.23                114.14   \n",
       "          2018-01-17                  20.24                112.26   \n",
       "          2018-01-24                  20.52                115.87   \n",
       "          2018-01-31                  20.79                119.89   \n",
       "\n",
       "Name                  Worldpay Inc. Class A  Xerox Corporation  Xilinx Inc.  \\\n",
       "          Period                                                              \n",
       "Price_USD 2018-01-03                  74.32              29.33        69.24   \n",
       "          2018-01-10                  75.71              30.35        74.10   \n",
       "          2018-01-17                  77.89              31.92        75.86   \n",
       "          2018-01-24                  79.63              32.36        73.48   \n",
       "          2018-01-31                  80.31              34.13        73.02   \n",
       "\n",
       "Name                  Zillow Group Inc. Class C  eBay Inc.  \\\n",
       "          Period                                             \n",
       "Price_USD 2018-01-03                      42.97      39.22   \n",
       "          2018-01-10                      42.50      37.70   \n",
       "          2018-01-17                      44.54      37.99   \n",
       "          2018-01-24                      43.72      39.82   \n",
       "          2018-01-31                      44.46      40.58   \n",
       "\n",
       "Name                  salesforce.com inc.  \n",
       "          Period                           \n",
       "Price_USD 2018-01-03               105.29  \n",
       "          2018-01-10               108.80  \n",
       "          2018-01-17               110.04  \n",
       "          2018-01-24               112.85  \n",
       "          2018-01-31               113.91  \n",
       "\n",
       "[5 rows x 105 columns]"
      ]
     },
     "execution_count": 49,
     "metadata": {},
     "output_type": "execute_result"
    }
   ],
   "source": [
    "transposed.head()"
   ]
  },
  {
   "cell_type": "markdown",
   "metadata": {},
   "source": [
    "## Write to file"
   ]
  },
  {
   "cell_type": "code",
   "execution_count": 50,
   "metadata": {},
   "outputs": [],
   "source": [
    "transposed.to_csv('name_of_file.csv')"
   ]
  },
  {
   "cell_type": "code",
   "execution_count": 51,
   "metadata": {},
   "outputs": [],
   "source": [
    "!rm name_of_file.csv"
   ]
  },
  {
   "cell_type": "markdown",
   "metadata": {},
   "source": [
    "## Adding Features"
   ]
  },
  {
   "cell_type": "markdown",
   "metadata": {},
   "source": [
    "** Labeling **"
   ]
  },
  {
   "cell_type": "code",
   "execution_count": 52,
   "metadata": {},
   "outputs": [],
   "source": [
    "market_label = []\n",
    "for i in data.Market_Cap_USD:\n",
    "    if i >= 38000:\n",
    "        market_label.append('>38')\n",
    "    elif (i < 38000) | (i > 20000):\n",
    "        market_label.append('<28 & >20')\n",
    "    else:\n",
    "        market_label.append('<20')"
   ]
  },
  {
   "cell_type": "code",
   "execution_count": 53,
   "metadata": {},
   "outputs": [],
   "source": [
    "data['market_label'] = market_label"
   ]
  },
  {
   "cell_type": "markdown",
   "metadata": {},
   "source": [
    "** Opeations **"
   ]
  },
  {
   "cell_type": "code",
   "execution_count": 54,
   "metadata": {},
   "outputs": [],
   "source": [
    "data['LTM_AVG'] = (data.LTM_ROA + data.LTM_EP) /2"
   ]
  },
  {
   "cell_type": "markdown",
   "metadata": {},
   "source": [
    "** Fixed values **"
   ]
  },
  {
   "cell_type": "code",
   "execution_count": 55,
   "metadata": {},
   "outputs": [],
   "source": [
    "data['extra'] = ['extra'] * len(data)"
   ]
  },
  {
   "cell_type": "markdown",
   "metadata": {},
   "source": [
    "** Aggregations **"
   ]
  },
  {
   "cell_type": "code",
   "execution_count": 59,
   "metadata": {},
   "outputs": [],
   "source": [
    "year_distr = data.groupby('year').count()['Identifier'].reset_index().sort_values('year')"
   ]
  },
  {
   "cell_type": "code",
   "execution_count": 60,
   "metadata": {},
   "outputs": [],
   "source": [
    "year_distr['relative'] = year_distr.Identifier / year_distr.Identifier.sum() *100"
   ]
  },
  {
   "cell_type": "code",
   "execution_count": 61,
   "metadata": {},
   "outputs": [
    {
     "data": {
      "text/html": [
       "<div>\n",
       "<style scoped>\n",
       "    .dataframe tbody tr th:only-of-type {\n",
       "        vertical-align: middle;\n",
       "    }\n",
       "\n",
       "    .dataframe tbody tr th {\n",
       "        vertical-align: top;\n",
       "    }\n",
       "\n",
       "    .dataframe thead th {\n",
       "        text-align: right;\n",
       "    }\n",
       "</style>\n",
       "<table border=\"1\" class=\"dataframe\">\n",
       "  <thead>\n",
       "    <tr style=\"text-align: right;\">\n",
       "      <th></th>\n",
       "      <th>year</th>\n",
       "      <th>Identifier</th>\n",
       "      <th>relative</th>\n",
       "    </tr>\n",
       "  </thead>\n",
       "  <tbody>\n",
       "    <tr>\n",
       "      <th>0</th>\n",
       "      <td>2014</td>\n",
       "      <td>623</td>\n",
       "      <td>1.634527</td>\n",
       "    </tr>\n",
       "    <tr>\n",
       "      <th>1</th>\n",
       "      <td>2015</td>\n",
       "      <td>629</td>\n",
       "      <td>1.650269</td>\n",
       "    </tr>\n",
       "    <tr>\n",
       "      <th>2</th>\n",
       "      <td>2016</td>\n",
       "      <td>1221</td>\n",
       "      <td>3.203463</td>\n",
       "    </tr>\n",
       "    <tr>\n",
       "      <th>3</th>\n",
       "      <td>2017</td>\n",
       "      <td>3116</td>\n",
       "      <td>8.175259</td>\n",
       "    </tr>\n",
       "    <tr>\n",
       "      <th>4</th>\n",
       "      <td>2018</td>\n",
       "      <td>32526</td>\n",
       "      <td>85.336482</td>\n",
       "    </tr>\n",
       "  </tbody>\n",
       "</table>\n",
       "</div>"
      ],
      "text/plain": [
       "   year  Identifier   relative\n",
       "0  2014         623   1.634527\n",
       "1  2015         629   1.650269\n",
       "2  2016        1221   3.203463\n",
       "3  2017        3116   8.175259\n",
       "4  2018       32526  85.336482"
      ]
     },
     "execution_count": 61,
     "metadata": {},
     "output_type": "execute_result"
    }
   ],
   "source": [
    "year_distr"
   ]
  },
  {
   "cell_type": "markdown",
   "metadata": {},
   "source": [
    "** Sorting **"
   ]
  },
  {
   "cell_type": "code",
   "execution_count": 62,
   "metadata": {},
   "outputs": [
    {
     "data": {
      "text/plain": [
       "Identifier\n",
       "Y2573F10    61\n",
       "14365830    61\n",
       "55002110    61\n",
       "55261F10    61\n",
       "15678210    61\n",
       "Name: Name, dtype: int64"
      ]
     },
     "execution_count": 62,
     "metadata": {},
     "output_type": "execute_result"
    }
   ],
   "source": [
    "data.groupby('Identifier').count()['Name'].sort_values(ascending=False).head()"
   ]
  },
  {
   "cell_type": "markdown",
   "metadata": {},
   "source": [
    "** Merging **"
   ]
  },
  {
   "cell_type": "code",
   "execution_count": 71,
   "metadata": {},
   "outputs": [],
   "source": [
    "df_Y2573F10 = data[data.Identifier == 'Y2573F10']"
   ]
  },
  {
   "cell_type": "code",
   "execution_count": 72,
   "metadata": {},
   "outputs": [],
   "source": [
    "df_Y2573F10 = df_Y2573F10[['Period','Market_Cap_USD','Name']]"
   ]
  },
  {
   "cell_type": "code",
   "execution_count": 73,
   "metadata": {},
   "outputs": [],
   "source": [
    "df_14365830 = data[data.Identifier == '14365830']"
   ]
  },
  {
   "cell_type": "code",
   "execution_count": 74,
   "metadata": {},
   "outputs": [],
   "source": [
    "df_14365830 = df_14365830[['Period','Market_Cap_USD','Name']]"
   ]
  },
  {
   "cell_type": "code",
   "execution_count": 75,
   "metadata": {},
   "outputs": [],
   "source": [
    "portfolio_two = pd.merge(df_Y2573F10, df_14365830, on='Period', how='inner')"
   ]
  },
  {
   "cell_type": "code",
   "execution_count": 76,
   "metadata": {},
   "outputs": [
    {
     "data": {
      "text/plain": [
       "<matplotlib.axes._subplots.AxesSubplot at 0x10e8a5160>"
      ]
     },
     "execution_count": 76,
     "metadata": {},
     "output_type": "execute_result"
    },
    {
     "data": {
      "image/png": "[encoded data removed]",
      "text/plain": [
       "<Figure size 432x288 with 1 Axes>"
      ]
     },
     "metadata": {},
     "output_type": "display_data"
    }
   ],
   "source": [
    "portfolio_two._get_numeric_data().plot()"
   ]
  },
  {
   "cell_type": "markdown",
   "metadata": {},
   "source": [
    "### Writing files"
   ]
  },
  {
   "cell_type": "code",
   "execution_count": 78,
   "metadata": {},
   "outputs": [],
   "source": [
    "excelbook = pd.ExcelWriter('output.xlsx')"
   ]
  },
  {
   "cell_type": "code",
   "execution_count": 79,
   "metadata": {},
   "outputs": [],
   "source": [
    "portfolio_two.to_excel(excelbook, 'sheet1')\n",
    "portfolio_two.to_excel(excelbook, 'sheet2')\n",
    "excelbook.save()"
   ]
  },
  {
   "cell_type": "markdown",
   "metadata": {
    "colab_type": "text",
    "id": "i-4QaTUtr10F"
   },
   "source": [
    "pandas, overall, is one of the reason why Python is such a great software. \n",
    "There are many other interesting pandas features I could have shown, but it’s already enough to understand why a data scientist cannot do without pandas. To sum up, pandas is simple to use, hiding all the complex and abstract computations behind (generally) intuitive fast, if not the fastest data analysis package (it highly optimized in C) It is THE tool that helps a data scientist to quickly read and understand data and be more efficient at his role."
   ]
  }
 ],
 "metadata": {
  "kernelspec": {
   "display_name": "Python 3",
   "language": "python",
   "name": "python3"
  },
  "language_info": {
   "codemirror_mode": {
    "name": "ipython",
    "version": 3
   },
   "file_extension": ".py",
   "mimetype": "text/x-python",
   "name": "python",
   "nbconvert_exporter": "python",
   "pygments_lexer": "ipython3",
   "version": "3.6.5"
  }
 },
 "nbformat": 4,
 "nbformat_minor": 2
}
